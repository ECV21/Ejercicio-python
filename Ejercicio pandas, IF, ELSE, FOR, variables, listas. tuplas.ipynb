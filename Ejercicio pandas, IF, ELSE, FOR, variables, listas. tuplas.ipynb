{
 "cells": [
  {
   "cell_type": "markdown",
   "metadata": {},
   "source": [
    "# tipos de variables (cada nombre guarda una variable)"
   ]
  },
  {
   "cell_type": "code",
   "execution_count": 28,
   "metadata": {},
   "outputs": [],
   "source": [
    "#entero\n",
    "int = -1\n",
    "\n",
    "# enteros con decimales\n",
    "float = -4.6 \n",
    "\n",
    "# verdadero o falso\n",
    "bool= True \n",
    "\n",
    "# son caracteres\n",
    "str = \"Eduardo a porgramas\" "
   ]
  },
  {
   "cell_type": "code",
   "execution_count": 29,
   "metadata": {},
   "outputs": [
    {
     "name": "stdout",
     "output_type": "stream",
     "text": [
      "-1 -4.6 True Eduardo a porgramas\n"
     ]
    }
   ],
   "source": [
    "print(int, float, bool, str)"
   ]
  },
  {
   "cell_type": "code",
   "execution_count": null,
   "metadata": {},
   "outputs": [],
   "source": [
    " # los nombres de variables no deben: inicar con núm, no usar palabras reservadas;\n",
    "    # nombre debe representar el nombre a guardar\n",
    "    "
   ]
  },
  {
   "cell_type": "code",
   "execution_count": 30,
   "metadata": {},
   "outputs": [],
   "source": [
    "# el \"=\" se utiliza para creaar variables y asignar valor"
   ]
  },
  {
   "cell_type": "markdown",
   "metadata": {},
   "source": [
    "# asignaciones:"
   ]
  },
  {
   "cell_type": "code",
   "execution_count": 34,
   "metadata": {},
   "outputs": [
    {
     "name": "stdout",
     "output_type": "stream",
     "text": [
      "4 5 105 7 5 diez 20\n"
     ]
    }
   ],
   "source": [
    "#asignación simple\n",
    "edad = 4\n",
    "\n",
    "# asginación en misma línea\n",
    "base = 5; altura = base + 100; area=base*altura \n",
    "\n",
    "# asignación múltiple\n",
    "dos, luz, foco=5, 7, \"diez\" \n",
    "\n",
    "# asignación del mismo valor\n",
    "comer=beber= 20 \n",
    "dos, luz=luz, dos\n",
    "\n",
    "\n",
    "print(edad, base, altura, dos, luz, foco, beber)"
   ]
  },
  {
   "cell_type": "markdown",
   "metadata": {},
   "source": [
    "# operadores"
   ]
  },
  {
   "cell_type": "code",
   "execution_count": 38,
   "metadata": {},
   "outputs": [
    {
     "data": {
      "text/plain": [
       "4"
      ]
     },
     "execution_count": 38,
     "metadata": {},
     "output_type": "execute_result"
    }
   ],
   "source": [
    " #suma\n",
    "\n",
    "\n",
    "2 + 2 \n"
   ]
  },
  {
   "cell_type": "code",
   "execution_count": 39,
   "metadata": {},
   "outputs": [
    {
     "data": {
      "text/plain": [
       "-95"
      ]
     },
     "execution_count": 39,
     "metadata": {},
     "output_type": "execute_result"
    }
   ],
   "source": [
    " # resta\n",
    "\n",
    "\n",
    "5 - 100"
   ]
  },
  {
   "cell_type": "code",
   "execution_count": 40,
   "metadata": {},
   "outputs": [
    {
     "data": {
      "text/plain": [
       "12"
      ]
     },
     "execution_count": 40,
     "metadata": {},
     "output_type": "execute_result"
    }
   ],
   "source": [
    "# multiplicación\n",
    "\n",
    "\n",
    "6*2 "
   ]
  },
  {
   "cell_type": "code",
   "execution_count": 41,
   "metadata": {},
   "outputs": [
    {
     "data": {
      "text/plain": [
       "4.5"
      ]
     },
     "execution_count": 41,
     "metadata": {},
     "output_type": "execute_result"
    }
   ],
   "source": [
    "# división\n",
    "\n",
    "\n",
    "9/2 \n"
   ]
  },
  {
   "cell_type": "code",
   "execution_count": 42,
   "metadata": {},
   "outputs": [
    {
     "data": {
      "text/plain": [
       "3"
      ]
     },
     "execution_count": 42,
     "metadata": {},
     "output_type": "execute_result"
    }
   ],
   "source": [
    "# división entera\n",
    "\n",
    "25//7 "
   ]
  },
  {
   "cell_type": "code",
   "execution_count": 43,
   "metadata": {},
   "outputs": [
    {
     "data": {
      "text/plain": [
       "1"
      ]
     },
     "execution_count": 43,
     "metadata": {},
     "output_type": "execute_result"
    }
   ],
   "source": [
    "#módulo (es el RESIDUO de dividir 9/2 para que me dé un entero)\n",
    "\n",
    "\n",
    "9%2 "
   ]
  },
  {
   "cell_type": "code",
   "execution_count": 46,
   "metadata": {},
   "outputs": [
    {
     "data": {
      "text/plain": [
       "8"
      ]
     },
     "execution_count": 46,
     "metadata": {},
     "output_type": "execute_result"
    }
   ],
   "source": [
    "#potencia\n",
    "\n",
    "2**3 "
   ]
  },
  {
   "cell_type": "code",
   "execution_count": 47,
   "metadata": {},
   "outputs": [
    {
     "name": "stdout",
     "output_type": "stream",
     "text": [
      "El perímetro del tríangulo es: \n",
      "17\n"
     ]
    }
   ],
   "source": [
    "lado1=2\n",
    "lado2=5\n",
    "lado3=10\n",
    "perimetro=lado1+lado2+lado3\n",
    "print(\"El perímetro del tríangulo es: \")\n",
    "print(perimetro)"
   ]
  },
  {
   "cell_type": "code",
   "execution_count": 56,
   "metadata": {},
   "outputs": [
    {
     "name": "stdout",
     "output_type": "stream",
     "text": [
      "-0.8571428571428571\n"
     ]
    }
   ],
   "source": [
    "a,b,c=7,13,6\n",
    "formula_general=(-b+((b**2)- 4*a*c)**(1/2))/(2*a)\n",
    "print(formula_general)"
   ]
  },
  {
   "cell_type": "markdown",
   "metadata": {},
   "source": [
    "# operadores relacionales"
   ]
  },
  {
   "cell_type": "code",
   "execution_count": 57,
   "metadata": {},
   "outputs": [
    {
     "data": {
      "text/plain": [
       "False"
      ]
     },
     "execution_count": 57,
     "metadata": {},
     "output_type": "execute_result"
    }
   ],
   "source": [
    "#igual que, TREU si se cuemple la igualdad\n",
    "\n",
    "\n",
    "5 ==10 "
   ]
  },
  {
   "cell_type": "code",
   "execution_count": 58,
   "metadata": {},
   "outputs": [
    {
     "data": {
      "text/plain": [
       "True"
      ]
     },
     "execution_count": 58,
     "metadata": {},
     "output_type": "execute_result"
    }
   ],
   "source": [
    "#distinto de, TRUE si son diferentes\n",
    "\n",
    "\n",
    "10!=5 "
   ]
  },
  {
   "cell_type": "code",
   "execution_count": 59,
   "metadata": {},
   "outputs": [
    {
     "data": {
      "text/plain": [
       "True"
      ]
     },
     "execution_count": 59,
     "metadata": {},
     "output_type": "execute_result"
    }
   ],
   "source": [
    "# mayor que, TRUE si se cumple la desigualdad\n",
    "\n",
    "\n",
    "40>39.99999999 "
   ]
  },
  {
   "cell_type": "code",
   "execution_count": 60,
   "metadata": {},
   "outputs": [
    {
     "data": {
      "text/plain": [
       "False"
      ]
     },
     "execution_count": 60,
     "metadata": {},
     "output_type": "execute_result"
    }
   ],
   "source": [
    "#menor que, FALSE si no se cumple la desigualdad\n",
    "\n",
    "\n",
    "39.9<12 "
   ]
  },
  {
   "cell_type": "code",
   "execution_count": 67,
   "metadata": {},
   "outputs": [
    {
     "data": {
      "text/plain": [
       "False"
      ]
     },
     "execution_count": 67,
     "metadata": {},
     "output_type": "execute_result"
    }
   ],
   "source": [
    "# mayor o igual que, FALSE si no se cumple la desigualdad\n",
    "\n",
    "\n",
    "2>= 10 "
   ]
  },
  {
   "cell_type": "code",
   "execution_count": 69,
   "metadata": {},
   "outputs": [
    {
     "name": "stdout",
     "output_type": "stream",
     "text": [
      "5\n",
      "2\n",
      "True\n"
     ]
    }
   ],
   "source": [
    "### compara si el último numero de la variable  num1 es\n",
    "## difernte a último núm de la vrbale num2\n",
    "## imprimir True  sin son diferente, False si son iguales\n",
    "\n",
    "num1=45\n",
    "num2=32\n",
    "ultimo1=num1%10 #\"%\" nos devuelve el residuo de la división entera\n",
    "ultimo2=num2%10\n",
    "print(ultimo1)\n",
    "print(ultimo2)\n",
    "condicion1=ultimo1!=ultimo2\n",
    "print(condicion1) #### como ultimos dígitos son diferente me imprime TRUE"
   ]
  },
  {
   "cell_type": "code",
   "execution_count": 73,
   "metadata": {},
   "outputs": [
    {
     "name": "stdout",
     "output_type": "stream",
     "text": [
      "0\n",
      "True\n"
     ]
    }
   ],
   "source": [
    "### un número es par o impar (número es par si su modulo es CERO, es decir si no hay residuo)\n",
    "\n",
    "num1=58\n",
    "resto1=num1%2\n",
    "print(resto1)\n",
    "condicion1=resto1==0\n",
    "print(condicion1)\n",
    " ### (resulado debería ser TRUE, es par)"
   ]
  },
  {
   "cell_type": "code",
   "execution_count": 74,
   "metadata": {},
   "outputs": [
    {
     "name": "stdout",
     "output_type": "stream",
     "text": [
      "1\n",
      "False\n"
     ]
    }
   ],
   "source": [
    "num2=49\n",
    "resto2=num2%2 # el modulo será 0 si la división en entera (sin residuo; es par)\n",
    "print(resto2)\n",
    "condicion2=resto2==0\n",
    "print(condicion2)\n",
    "\n",
    "## (resultado debería ser FASLE, no es par)"
   ]
  },
  {
   "cell_type": "markdown",
   "metadata": {},
   "source": [
    "# operadores lógico \n",
    "##### (se obtiene valores booleanos)"
   ]
  },
  {
   "cell_type": "code",
   "execution_count": 96,
   "metadata": {},
   "outputs": [
    {
     "data": {
      "text/plain": [
       "False"
      ]
     },
     "execution_count": 96,
     "metadata": {},
     "output_type": "execute_result"
    }
   ],
   "source": [
    "## and  conjunción, si ambos se cumplen es TRUE\n",
    "\n",
    "\n",
    "2 == -33 and 4<20  ## TRUE si las dos condiciones se cumplen"
   ]
  },
  {
   "cell_type": "code",
   "execution_count": 94,
   "metadata": {},
   "outputs": [
    {
     "data": {
      "text/plain": [
       "False"
      ]
     },
     "execution_count": 94,
     "metadata": {},
     "output_type": "execute_result"
    }
   ],
   "source": [
    "## or  Disyunción, al menos uno debe sr verdadero para que sea TRUE\n",
    "\n",
    "\n",
    "9 != 9 or 7 <= -3 # TRUE si al menos alguna condición es verdadera"
   ]
  },
  {
   "cell_type": "code",
   "execution_count": 97,
   "metadata": {},
   "outputs": [
    {
     "data": {
      "text/plain": [
       "False"
      ]
     },
     "execution_count": 97,
     "metadata": {},
     "output_type": "execute_result"
    }
   ],
   "source": [
    "## not  No niega el operado lógico\n",
    "\n",
    "\n",
    "not True # Niega la condición"
   ]
  },
  {
   "cell_type": "code",
   "execution_count": 108,
   "metadata": {},
   "outputs": [
    {
     "name": "stdout",
     "output_type": "stream",
     "text": [
      "True\n"
     ]
    }
   ],
   "source": [
    "## imprimir TRUE si la edad de Axell es par y no es mayor a 24\n",
    "edad=20\n",
    "condicion1 = (edad%2)==0  # es TRUE\n",
    "condicion2 = edad<24   # es TRUE (podríamos poner: condicion2= not(edad>24) )\n",
    "resultado= condicion1 and condicion2 # TRUE and TRUE es TRUE\n",
    "print(resultado)"
   ]
  },
  {
   "cell_type": "markdown",
   "metadata": {},
   "source": [
    "# operadores de incremento/decremento"
   ]
  },
  {
   "cell_type": "code",
   "execution_count": 111,
   "metadata": {},
   "outputs": [
    {
     "name": "stdout",
     "output_type": "stream",
     "text": [
      "6\n"
     ]
    }
   ],
   "source": [
    "## += incremento\n",
    "\n",
    "\n",
    "n=4\n",
    "n += 2\n",
    "print(n) ## n=4 --> n=n+2"
   ]
  },
  {
   "cell_type": "code",
   "execution_count": 112,
   "metadata": {},
   "outputs": [
    {
     "name": "stdout",
     "output_type": "stream",
     "text": [
      "2\n"
     ]
    }
   ],
   "source": [
    "## -= decremento\n",
    "\n",
    "\n",
    "n=4\n",
    "n -= 2\n",
    "print(n) ## funciona como n = n - 2"
   ]
  },
  {
   "cell_type": "markdown",
   "metadata": {},
   "source": [
    "# existen más asignaciones con operador\n",
    "\n",
    "## +=\n",
    "## -=\n",
    "## *=\n",
    "## /=\n",
    "## %=\n",
    "## **=\n"
   ]
  },
  {
   "cell_type": "markdown",
   "metadata": {},
   "source": [
    "# salida de datos\n",
    "\n",
    "### print"
   ]
  },
  {
   "cell_type": "code",
   "execution_count": 113,
   "metadata": {},
   "outputs": [
    {
     "name": "stdout",
     "output_type": "stream",
     "text": [
      "Hola mundito\n"
     ]
    }
   ],
   "source": [
    "print (\"Hola mundito\")"
   ]
  },
  {
   "cell_type": "code",
   "execution_count": 115,
   "metadata": {},
   "outputs": [
    {
     "name": "stdout",
     "output_type": "stream",
     "text": [
      "100002\n"
     ]
    }
   ],
   "source": [
    "suma = 2 + 100000\n",
    "print(suma)"
   ]
  },
  {
   "cell_type": "markdown",
   "metadata": {},
   "source": [
    "# entradad de datos\n",
    "### input"
   ]
  },
  {
   "cell_type": "code",
   "execution_count": 2,
   "metadata": {},
   "outputs": [
    {
     "name": "stdout",
     "output_type": "stream",
     "text": [
      "ingresas tu nombre BRO:  Pato\n"
     ]
    }
   ],
   "source": [
    "## definir variable que almacenará dato ingresado:\n",
    "\n",
    "\n",
    "nombre=input(\"ingresas tu nombre BRO:  \") #TODO dato ingresado por el usuario sera STR"
   ]
  },
  {
   "cell_type": "code",
   "execution_count": 3,
   "metadata": {},
   "outputs": [
    {
     "name": "stdout",
     "output_type": "stream",
     "text": [
      "Pato\n"
     ]
    }
   ],
   "source": [
    "print(nombre)"
   ]
  },
  {
   "cell_type": "code",
   "execution_count": 5,
   "metadata": {},
   "outputs": [
    {
     "name": "stdout",
     "output_type": "stream",
     "text": [
      "Ingresa tu NAME completo: Eduardito\n",
      "Ingresa tu EDAD: 27\n",
      "Su nombres es: \n",
      "Eduardito\n",
      "Su edad es: \n",
      "27\n"
     ]
    }
   ],
   "source": [
    "## programa que muestre nombre y edad:\n",
    "\n",
    "nombre = input(\"Ingresa tu NAME completo: \")\n",
    "edad= input(\"Ingresa tu EDAD: \")\n",
    "print(\"Su nombres es: \")\n",
    "print(nombre)\n",
    "print(\"Su edad es: \")\n",
    "print(edad)"
   ]
  },
  {
   "cell_type": "code",
   "execution_count": 8,
   "metadata": {},
   "outputs": [
    {
     "name": "stdout",
     "output_type": "stream",
     "text": [
      "ingresa un número BRO: 4\n",
      "ingresa otro número BRO: 9\n",
      "El resultado de tus números es: \n",
      "49\n"
     ]
    }
   ],
   "source": [
    "## cree un programa que pida dos núm al usuario y muestre la suma\n",
    "num1=input(\"ingresa un número BRO: \")\n",
    "num2=input(\"ingresa otro número BRO: \")\n",
    "total=num1 + num2\n",
    "print(\"El resultado de tus números es: \")\n",
    "print(total) #, RESUNTADO SERÍA: 49, NO SUMARÁ DEBIDO A QUE TODO DATO INGRESADO POR USUARIO SERÁ str"
   ]
  },
  {
   "cell_type": "markdown",
   "metadata": {},
   "source": [
    "### ante lo sucedido anteriormente, se procede a convertir los valores a otro tipo de datos"
   ]
  },
  {
   "cell_type": "code",
   "execution_count": 9,
   "metadata": {},
   "outputs": [
    {
     "name": "stdout",
     "output_type": "stream",
     "text": [
      "1020\n"
     ]
    }
   ],
   "source": [
    "# usar \"int()\", \"float()\" y \"str()\" siempre que datos sean compatibles\n",
    "\n",
    "\n",
    "megas=\"1000\" #es unva variable STR\n",
    "print(int(megas) + 20) #convertimos megas a núm y le sumamos 20, y lo imprimimos"
   ]
  },
  {
   "cell_type": "code",
   "execution_count": 3,
   "metadata": {},
   "outputs": [
    {
     "name": "stdout",
     "output_type": "stream",
     "text": [
      "120 <class 'int'>\n",
      "120 <class 'int'>\n",
      "120 <class 'str'>\n",
      "120.0 <class 'str'>\n"
     ]
    }
   ],
   "source": [
    "## ejemplos\n",
    "saldo1=120 #saldo en núm/int\n",
    "float(saldo1)#convertir a decimal/float\n",
    "print(saldo1, type(saldo1))\n",
    "\n",
    "saldo2=120 #es núm entero\n",
    "str(saldo2) #convetir a str/carácter\n",
    "print(saldo2, type(saldo2))\n",
    "\n",
    "saldo3=\"120\" #es carcater/str\n",
    "int(saldo3) #convertir a núm\n",
    "print(saldo3, type(saldo3))\n",
    "\n",
    "saldo4=\"120.0\" #es STR\n",
    "float(saldo4) #convetir a decimal\n",
    "print(saldo4, type(saldo4))\n"
   ]
  },
  {
   "cell_type": "code",
   "execution_count": 22,
   "metadata": {},
   "outputs": [
    {
     "ename": "ValueError",
     "evalue": "invalid literal for int() with base 10: '120.0'",
     "output_type": "error",
     "traceback": [
      "\u001b[1;31m---------------------------------------------------------------------------\u001b[0m",
      "\u001b[1;31mValueError\u001b[0m                                Traceback (most recent call last)",
      "\u001b[1;32m<ipython-input-22-39b02f543a44>\u001b[0m in \u001b[0;36m<module>\u001b[1;34m\u001b[0m\n\u001b[0;32m      1\u001b[0m \u001b[0msaldo5\u001b[0m\u001b[1;33m=\u001b[0m\u001b[1;34m\"120.0\"\u001b[0m \u001b[1;31m#es STR\u001b[0m\u001b[1;33m\u001b[0m\u001b[1;33m\u001b[0m\u001b[0m\n\u001b[1;32m----> 2\u001b[1;33m \u001b[0mint\u001b[0m\u001b[1;33m(\u001b[0m\u001b[0msaldo5\u001b[0m\u001b[1;33m)\u001b[0m \u001b[1;31m#convetir a enterio/int\u001b[0m\u001b[1;33m\u001b[0m\u001b[1;33m\u001b[0m\u001b[0m\n\u001b[0m\u001b[0;32m      3\u001b[0m \u001b[0mprint\u001b[0m\u001b[1;33m(\u001b[0m\u001b[0msaldo5\u001b[0m\u001b[1;33m)\u001b[0m \u001b[1;31m##ERROR debido a que no pudes pasar de decimal a entero\u001b[0m\u001b[1;33m\u001b[0m\u001b[1;33m\u001b[0m\u001b[0m\n\u001b[0;32m      4\u001b[0m \u001b[1;33m\u001b[0m\u001b[0m\n",
      "\u001b[1;31mValueError\u001b[0m: invalid literal for int() with base 10: '120.0'"
     ]
    }
   ],
   "source": [
    "saldo5=\"120.0\" #es STR\n",
    "int(saldo5) #convetir a enterio/int\n",
    "print(saldo5) ##ERROR debido a que no pudes pasar de decimal a entero\n",
    "\n"
   ]
  },
  {
   "cell_type": "code",
   "execution_count": 23,
   "metadata": {},
   "outputs": [
    {
     "ename": "ValueError",
     "evalue": "invalid literal for int() with base 10: 'x120'",
     "output_type": "error",
     "traceback": [
      "\u001b[1;31m---------------------------------------------------------------------------\u001b[0m",
      "\u001b[1;31mValueError\u001b[0m                                Traceback (most recent call last)",
      "\u001b[1;32m<ipython-input-23-99d79da64a1c>\u001b[0m in \u001b[0;36m<module>\u001b[1;34m\u001b[0m\n\u001b[0;32m      1\u001b[0m \u001b[0msaldo6\u001b[0m\u001b[1;33m=\u001b[0m\u001b[1;34m\"x120\"\u001b[0m\u001b[1;33m\u001b[0m\u001b[1;33m\u001b[0m\u001b[0m\n\u001b[1;32m----> 2\u001b[1;33m \u001b[0mint\u001b[0m\u001b[1;33m(\u001b[0m\u001b[0msaldo6\u001b[0m\u001b[1;33m)\u001b[0m \u001b[1;31m#convertir a entero\u001b[0m\u001b[1;33m\u001b[0m\u001b[1;33m\u001b[0m\u001b[0m\n\u001b[0m\u001b[0;32m      3\u001b[0m \u001b[0mprint\u001b[0m\u001b[1;33m(\u001b[0m\u001b[0msaldo6\u001b[0m\u001b[1;33m)\u001b[0m \u001b[1;31m## ERROR debido a que no puedes pasar de letras a número\u001b[0m\u001b[1;33m\u001b[0m\u001b[1;33m\u001b[0m\u001b[0m\n",
      "\u001b[1;31mValueError\u001b[0m: invalid literal for int() with base 10: 'x120'"
     ]
    }
   ],
   "source": [
    "saldo6=\"x120\"\n",
    "int(saldo6) #convertir a entero\n",
    "print(saldo6) ## ERROR debido a que no puedes pasar de letras a número"
   ]
  },
  {
   "cell_type": "markdown",
   "metadata": {},
   "source": [
    "### solución al ejercico anterior"
   ]
  },
  {
   "cell_type": "code",
   "execution_count": 39,
   "metadata": {},
   "outputs": [
    {
     "name": "stdout",
     "output_type": "stream",
     "text": [
      "ingresa un número BRO: 67\n",
      "ingresa otro número BRO: 67\n",
      "El resultado de tus números es: \n",
      "134\n"
     ]
    }
   ],
   "source": [
    "## cree un programa que pida dos núm al usuario y muestre la suma\n",
    "num1=int(input(\"ingresa un número BRO: \"))\n",
    "num2=int(input(\"ingresa otro número BRO: \"))\n",
    "total=num1 + num2\n",
    "print(\"El resultado de tus números es: \")\n",
    "print(total) "
   ]
  },
  {
   "cell_type": "markdown",
   "metadata": {},
   "source": [
    "### ejercicios"
   ]
  },
  {
   "cell_type": "code",
   "execution_count": 4,
   "metadata": {},
   "outputs": [
    {
     "name": "stdout",
     "output_type": "stream",
     "text": [
      "18\n",
      "20\n"
     ]
    }
   ],
   "source": [
    "#redeclarar variables\n",
    "\n",
    "\n",
    "n=18\n",
    "print(n)\n",
    "n=20\n",
    "print(n)"
   ]
  },
  {
   "cell_type": "code",
   "execution_count": 33,
   "metadata": {},
   "outputs": [
    {
     "name": "stdout",
     "output_type": "stream",
     "text": [
      "4\n"
     ]
    }
   ],
   "source": [
    "#\n",
    "\n",
    "n=4\n",
    "n + 10 \n",
    "print(n)## resultado es 4, debido a que \"n + 10\" no se guardó"
   ]
  },
  {
   "cell_type": "code",
   "execution_count": 36,
   "metadata": {},
   "outputs": [
    {
     "ename": "NameError",
     "evalue": "name 'z' is not defined",
     "output_type": "error",
     "traceback": [
      "\u001b[1;31m---------------------------------------------------------------------------\u001b[0m",
      "\u001b[1;31mNameError\u001b[0m                                 Traceback (most recent call last)",
      "\u001b[1;32m<ipython-input-36-744f0b556adb>\u001b[0m in \u001b[0;36m<module>\u001b[1;34m\u001b[0m\n\u001b[0;32m      2\u001b[0m \u001b[1;33m\u001b[0m\u001b[0m\n\u001b[0;32m      3\u001b[0m \u001b[0mm\u001b[0m\u001b[1;33m=\u001b[0m\u001b[1;36m2\u001b[0m\u001b[1;33m\u001b[0m\u001b[1;33m\u001b[0m\u001b[0m\n\u001b[1;32m----> 4\u001b[1;33m \u001b[0mz\u001b[0m \u001b[1;33m=\u001b[0m \u001b[0mz\u001b[0m \u001b[1;33m+\u001b[0m \u001b[0mm\u001b[0m\u001b[1;33m\u001b[0m\u001b[1;33m\u001b[0m\u001b[0m\n\u001b[0m\u001b[0;32m      5\u001b[0m \u001b[0mprint\u001b[0m\u001b[1;33m(\u001b[0m\u001b[0mz\u001b[0m\u001b[1;33m)\u001b[0m\u001b[1;33m\u001b[0m\u001b[1;33m\u001b[0m\u001b[0m\n",
      "\u001b[1;31mNameError\u001b[0m: name 'z' is not defined"
     ]
    }
   ],
   "source": [
    "#\n",
    "\n",
    "m=2\n",
    "z = z + m\n",
    "print(z) # marca ERROR porque z no se ha definido/guardado"
   ]
  },
  {
   "cell_type": "code",
   "execution_count": 37,
   "metadata": {},
   "outputs": [
    {
     "name": "stdout",
     "output_type": "stream",
     "text": [
      "10\n"
     ]
    }
   ],
   "source": [
    "#\n",
    "\n",
    "\n",
    "n=2*(4+2)\n",
    "n -= 2 # n=n-2\n",
    "print(n)"
   ]
  },
  {
   "cell_type": "code",
   "execution_count": 38,
   "metadata": {},
   "outputs": [
    {
     "name": "stdout",
     "output_type": "stream",
     "text": [
      "54\n"
     ]
    }
   ],
   "source": [
    "#\n",
    "\n",
    "n= \"5\"\n",
    "n += \"4\"\n",
    "print(n) #CONCATENACIÓN DE CARACTER"
   ]
  },
  {
   "cell_type": "code",
   "execution_count": 40,
   "metadata": {},
   "outputs": [
    {
     "ename": "TypeError",
     "evalue": "can only concatenate str (not \"int\") to str",
     "output_type": "error",
     "traceback": [
      "\u001b[1;31m---------------------------------------------------------------------------\u001b[0m",
      "\u001b[1;31mTypeError\u001b[0m                                 Traceback (most recent call last)",
      "\u001b[1;32m<ipython-input-40-9d1fed18c42b>\u001b[0m in \u001b[0;36m<module>\u001b[1;34m\u001b[0m\n\u001b[0;32m      3\u001b[0m \u001b[0mx\u001b[0m\u001b[1;33m=\u001b[0m\u001b[1;34m\"10\"\u001b[0m\u001b[1;33m\u001b[0m\u001b[1;33m\u001b[0m\u001b[0m\n\u001b[0;32m      4\u001b[0m \u001b[0mint\u001b[0m\u001b[1;33m(\u001b[0m\u001b[0mx\u001b[0m\u001b[1;33m)\u001b[0m\u001b[1;33m\u001b[0m\u001b[1;33m\u001b[0m\u001b[0m\n\u001b[1;32m----> 5\u001b[1;33m \u001b[0mx\u001b[0m\u001b[1;33m=\u001b[0m\u001b[0mx\u001b[0m\u001b[1;33m+\u001b[0m\u001b[1;36m5\u001b[0m\u001b[1;33m\u001b[0m\u001b[1;33m\u001b[0m\u001b[0m\n\u001b[0m\u001b[0;32m      6\u001b[0m \u001b[0mprint\u001b[0m\u001b[1;33m(\u001b[0m\u001b[0mx\u001b[0m\u001b[1;33m)\u001b[0m\u001b[1;33m\u001b[0m\u001b[1;33m\u001b[0m\u001b[0m\n",
      "\u001b[1;31mTypeError\u001b[0m: can only concatenate str (not \"int\") to str"
     ]
    }
   ],
   "source": [
    "#\n",
    "\n",
    "x=\"10\"\n",
    "int(x) #no se está guardando el valor\n",
    "x=x+5\n",
    "print(x) ###ERORR"
   ]
  },
  {
   "cell_type": "markdown",
   "metadata": {},
   "source": [
    "### elabora un programa donde se pida igresar segundos y mostras a cuantas hrs, min y seg equivale"
   ]
  },
  {
   "cell_type": "code",
   "execution_count": 5,
   "metadata": {},
   "outputs": [
    {
     "name": "stdout",
     "output_type": "stream",
     "text": [
      "Ingresa cantidad de segundos deseado: 76000\n",
      "Horas:  21\n",
      "Minutos:  6\n",
      "segundos:  40\n"
     ]
    }
   ],
   "source": [
    "segundos=int(input(\"Ingresa cantidad de segundos deseado: \"))\n",
    "horas=segundos//(60*60)# convertir segundoa horas enteras:horas\n",
    "sobrante1=segundos%(60*60) #el residuo de horas\n",
    "minutos = sobrante1//60 #el residuo anterior entre 60, sólo enterio:minutos\n",
    "sobrante2=sobrante1%60 #residuo anterior entre 60, son los segundos\n",
    "print(\"Horas: \", horas)\n",
    "print(\"Minutos: \", minutos)\n",
    "print(\"segundos: \", sobrante2)"
   ]
  },
  {
   "cell_type": "code",
   "execution_count": null,
   "metadata": {},
   "outputs": [],
   "source": [
    "# ejericico\n",
    "\n",
    "### escribir un programa que permita el ingreso de dos núm y muestre por pantalla\n",
    "### TRUE si el primer núm es dividsible por el segundo, FALSE caso sonctrario"
   ]
  },
  {
   "cell_type": "code",
   "execution_count": 57,
   "metadata": {},
   "outputs": [
    {
     "name": "stdout",
     "output_type": "stream",
     "text": [
      "Ingresa un núm BROU: 25\n",
      "Ingresa otro núm BROU: 6\n",
      "El resultado de la división Entera es:  False\n"
     ]
    }
   ],
   "source": [
    "numero1=int(input(\"Ingresa un núm BROU: \"))\n",
    "numero2=int(input(\"Ingresa otro núm BROU: \"))\n",
    "resultado= numero1%numero2==0\n",
    "print(\"El resultado de la división Entera es: \", resultado)"
   ]
  },
  {
   "cell_type": "code",
   "execution_count": 43,
   "metadata": {},
   "outputs": [
    {
     "name": "stdout",
     "output_type": "stream",
     "text": [
      "ingresar primera nota: 5\n",
      "ingresa tu segunda nota: 7\n",
      "Su promedio fue:  6.0\n",
      "De acuerdo a su promedio usted:  True\n"
     ]
    }
   ],
   "source": [
    "nota1= float(input(\"ingresar primera nota: \"))\n",
    "nota2 = float(input(\"ingresa tu segunda nota: \"))\n",
    "media = (nota1 + nota2)/2\n",
    "print(\"Su promedio fue: \", media)\n",
    "\n",
    "aprobar= media >= 6.0\n",
    "print(\"De acuerdo a su promedio usted: \", aprobar)"
   ]
  },
  {
   "cell_type": "code",
   "execution_count": 1,
   "metadata": {},
   "outputs": [
    {
     "name": "stdout",
     "output_type": "stream",
     "text": [
      "Ingresa un número BROUUU: 5\n",
      "AL ingresar un número entre 10 y 100, es:  True\n"
     ]
    }
   ],
   "source": [
    "### ingresar un número, si NO está entre 10 y 100 mostrar TRUE, caso contrario FALSE\n",
    "\n",
    "\n",
    "num = float(input(\"Ingresa un número BROUUU: \"))\n",
    "esta= num>=10 and num<=100\n",
    "esta1=not(esta)\n",
    "print(\"AL ingresar un número entre 10 y 100, es: \", esta1)"
   ]
  },
  {
   "cell_type": "code",
   "execution_count": 8,
   "metadata": {},
   "outputs": [
    {
     "name": "stdout",
     "output_type": "stream",
     "text": [
      "ingresa la altura de tu termo, porfa BRO:  3\n",
      "Ingresar el radio de tu termo, pofis BRO:  5\n",
      "De acuerdo a los datos ingresado su termo será capaz de contener 300:  True\n"
     ]
    }
   ],
   "source": [
    "# escribir un programa donde el usuario ingres Altura y Radio, calcular el Voluman, y comentar\n",
    "# TRUE el cilindro tiene capacidad para 300ml\n",
    "\n",
    "\n",
    "altura = float(input(\"ingresa la altura de tu termo, porfa BRO:  \"))\n",
    "radio = float(input(\"Ingresar el radio de tu termo, pofis BRO:  \"))\n",
    "volumen= (3.1416)*altura*(radio**2)\n",
    "si_capaz = volumen <=300\n",
    "print(\"De acuerdo a los datos ingresado su termo será capaz de contener 300: \", si_capaz)"
   ]
  },
  {
   "cell_type": "code",
   "execution_count": 12,
   "metadata": {},
   "outputs": [
    {
     "name": "stdout",
     "output_type": "stream",
     "text": [
      "Ingresa un número de tres dígitos: 260\n",
      "Ingresas un número de un dígito:  2\n",
      "¿Cumple las dos condiciones? True\n"
     ]
    }
   ],
   "source": [
    "# crear un programa que solicite un núm de tres dígios, y otr núm de 1 dígito;\n",
    "# mostrar TRUE si:\n",
    "# 1) los últimos dos dígitos del primer núm es divisible por el segundo núm\n",
    "# 2) el cuadrado del segundo núm es menor que los dos últimos dígitos del primer núm\n",
    "\n",
    "num1= int(input(\"Ingresa un número de tres dígitos: \"))\n",
    "num2= int(input(\"Ingresas un número de un dígito:  \"))\n",
    "ultnum= num1%100     ## me devuelve ÚLTIMOS DÓS DÍGITOS \n",
    "cond1=ultnum%num2 == 0   # condición 1\n",
    "cuadrado=num2**2\n",
    "cond2= cuadrado<ultnum\n",
    "resultado = cond1 and cond2\n",
    "resultado\n",
    "print(\"¿Cumple las dos condiciones?\", resultado)"
   ]
  },
  {
   "cell_type": "code",
   "execution_count": 17,
   "metadata": {},
   "outputs": [
    {
     "name": "stdout",
     "output_type": "stream",
     "text": [
      "ingresar un valor para X: 55\n",
      "De acuerdo a su valor ingresado, al evaluarlo en 4x´2 + 3/2(x) - 5, u resultado es:  12177.5\n"
     ]
    }
   ],
   "source": [
    "# hacer un programa que evalue el valor de X ingresado por el usuario: 4x´2 + 3/2(x) - 5\n",
    "\n",
    "x=float(input(\"ingresar un valor para X: \"))\n",
    "y = 4*(x**2) + (3/2)*x - 5\n",
    "print(\"De acuerdo a su valor ingresado, al evaluarlo en 4x´2 + 3/2(x) - 5, u resultado es: \", y)"
   ]
  },
  {
   "cell_type": "code",
   "execution_count": 18,
   "metadata": {},
   "outputs": [
    {
     "name": "stdout",
     "output_type": "stream",
     "text": [
      "holaMundo\n",
      "hola Mundo\n"
     ]
    }
   ],
   "source": [
    "print(\"hola\" + \"Mundo\") #concatenar\n",
    "print(\"hola\", \"Mundo\")"
   ]
  },
  {
   "cell_type": "markdown",
   "metadata": {},
   "source": [
    "# función FORMAT\n",
    "### es una mejor forma de concatenación"
   ]
  },
  {
   "cell_type": "code",
   "execution_count": 19,
   "metadata": {},
   "outputs": [
    {
     "name": "stdout",
     "output_type": "stream",
     "text": [
      "Mi nombre es: OsoBear y tengo 44 años\n"
     ]
    }
   ],
   "source": [
    "# retorna una cadena de caracter sustituyendo los {} por los argumentos correspondientes\n",
    "\n",
    "nombre= \"OsoBear\"\n",
    "edad= 44\n",
    "print(\"Mi nombre es: {} y tengo {} años\".format(nombre, edad))\n",
    "    "
   ]
  },
  {
   "cell_type": "code",
   "execution_count": 20,
   "metadata": {},
   "outputs": [
    {
     "name": "stdout",
     "output_type": "stream",
     "text": [
      "Mi nombre es: OsoBear y tengo 44 años\n"
     ]
    }
   ],
   "source": [
    "nombre_edad=(\"Mi nombre es: {} y tengo {} años\".format(nombre, edad))\n",
    "print(nombre_edad)"
   ]
  },
  {
   "cell_type": "markdown",
   "metadata": {},
   "source": [
    "## con format podemos presentar \"n\" decimales"
   ]
  },
  {
   "cell_type": "code",
   "execution_count": 22,
   "metadata": {},
   "outputs": [
    {
     "name": "stdout",
     "output_type": "stream",
     "text": [
      "*Producto: Capuchino ;precio final: 2.912\n"
     ]
    }
   ],
   "source": [
    "producto=\"Capuchino\"\n",
    "valor=2.60\n",
    "iva=0.12\n",
    "total=valor+(iva*valor)\n",
    "print(\"*Producto:\", producto, \";precio final:\", total)"
   ]
  },
  {
   "cell_type": "code",
   "execution_count": 28,
   "metadata": {},
   "outputs": [
    {
     "name": "stdout",
     "output_type": "stream",
     "text": [
      "-Producto: Capuchino -Precio final: 2.91\n"
     ]
    }
   ],
   "source": [
    "producto=\"Capuchino\"\n",
    "valor=2.60\n",
    "iva=0.12\n",
    "total=valor+(iva*valor)\n",
    "print(\"-Producto: {} -Precio final: {:.2f}\".format(producto,total))# .2f reduce decimal/REDONDEA"
   ]
  },
  {
   "cell_type": "markdown",
   "metadata": {},
   "source": [
    "## Alineación con format\n",
    "\n",
    "### \"^\" alineación; centrado, \"<\" alineación iquierda; \">\" alineación a la derecha"
   ]
  },
  {
   "cell_type": "code",
   "execution_count": 34,
   "metadata": {},
   "outputs": [
    {
     "name": "stdout",
     "output_type": "stream",
     "text": [
      "      Producto          Valor sin IVA            Total        \n",
      "     Capuchino               2.6                  2.91        \n",
      "      Expresso               1.1                  2.9         \n",
      "     Mocaccino               2.95                3.3040       \n"
     ]
    }
   ],
   "source": [
    "producto1=\"Capuchino\"\n",
    "valor1=2.60\n",
    "iva=0.12\n",
    "total1=valor1+(iva*valor1)\n",
    "\n",
    "producto2=\"Expresso\"\n",
    "valor2 = 1.10\n",
    "total2 = valor + (iva*valor)\n",
    "\n",
    "producto3 = \"Mocaccino\"\n",
    "valor3=2.95\n",
    "total3= valor3 + (iva*valor3)\n",
    "\n",
    "print(\"{:^20} {:^20} {:^20}\".format(\"Producto\", \"Valor sin IVA\", \"Total\"))\n",
    "print(\"{:^20} {:^20} {:^20,.2f}\".format(producto1, valor1, total1)) # centrado, 2 decimales\n",
    "print(\"{:^20} {:^20} {:^20,.1f}\".format(producto2, valor2, total2)) #centrado, 1 decimal\n",
    "print(\"{:^20} {:^20} {:^20,.4f}\".format(producto3, valor3, total3)) # centrado; 4 decimales"
   ]
  },
  {
   "cell_type": "code",
   "execution_count": 38,
   "metadata": {},
   "outputs": [
    {
     "name": "stdout",
     "output_type": "stream",
     "text": [
      "ingresa las medidas del cateto a en cm: 15.7\n",
      "ingresa las medidas del cateto b en cm: 17.6\n",
      "De acuerdo a las datos de a y b, el valor de cateto C es: 23.58495283014151 cm2\n",
      "Mejor dicho, su cnatidad es:  23.585\n"
     ]
    }
   ],
   "source": [
    "## calcular el teorema de pitagoras, usuario ingresar a y b\n",
    "\n",
    "a=float(input(\"ingresa las medidas del cateto a en cm: \"))\n",
    "b=float(input(\"ingresa las medidas del cateto b en cm: \"))\n",
    "c=((a**2)+(b**2))**(1/2)\n",
    "print(\"De acuerdo a las datos de a y b, el valor de cateto C es:\", c, \"cm2\")\n",
    "print(\"Mejor dicho, su cantidad es: {: .3f}\".format(c))"
   ]
  },
  {
   "cell_type": "markdown",
   "metadata": {},
   "source": [
    "# indices \n",
    "### es la posición que ocupa cada elemento de una cadena de caracteres, va de 0 al n-1"
   ]
  },
  {
   "cell_type": "code",
   "execution_count": null,
   "metadata": {},
   "outputs": [],
   "source": [
    "# P  O  L  L  I  T  O  S\n",
    "# 0  1  2  3  4  5  6  7   <--- ÍNDICES POSITIVOS\n",
    "# -8 -7 -6 -5 -4 -3- 2 -1  <--- ÍNDICES NEGATIVOS"
   ]
  },
  {
   "cell_type": "code",
   "execution_count": 2,
   "metadata": {},
   "outputs": [],
   "source": [
    "# INDEXACIÓN: obtener un caracter de una posición espcífica de un String\n",
    "# Slincing, con los índices se puede obtener un subccades"
   ]
  },
  {
   "cell_type": "code",
   "execution_count": 3,
   "metadata": {},
   "outputs": [
    {
     "name": "stdout",
     "output_type": "stream",
     "text": [
      "L\n"
     ]
    }
   ],
   "source": [
    "cadena=\"POLLITOS\"\n",
    "letra= cadena[3]\n",
    "print(letra)"
   ]
  },
  {
   "cell_type": "code",
   "execution_count": 7,
   "metadata": {},
   "outputs": [
    {
     "name": "stdout",
     "output_type": "stream",
     "text": [
      "I\n",
      "S\n"
     ]
    }
   ],
   "source": [
    "# métodos de indexación:\n",
    "\n",
    "\n",
    "letras=\"POLIITOS\"[4]\n",
    "print(letras)\n",
    "\n",
    "letras=\"POLIITOS\"[-1]\n",
    "print(letras)"
   ]
  },
  {
   "cell_type": "code",
   "execution_count": 13,
   "metadata": {},
   "outputs": [
    {
     "name": "stdout",
     "output_type": "stream",
     "text": [
      "Éste es un Slicing de POLLito:  LLITO\n"
     ]
    }
   ],
   "source": [
    "# slicing \"LLITO\"\n",
    "slicing = cadena[2:7] \n",
    "print(\"Éste es un Slicing de POLLito: \", slicing)"
   ]
  },
  {
   "cell_type": "code",
   "execution_count": 14,
   "metadata": {},
   "outputs": [
    {
     "name": "stdout",
     "output_type": "stream",
     "text": [
      "POLLITOS\n",
      "LLITOS\n",
      "POL\n",
      "LLITO\n"
     ]
    }
   ],
   "source": [
    "# TIPOS DE SLICING\n",
    "\n",
    "\n",
    "candena=\"POLLITOS\"\n",
    "subcadena1=cadena[:] ## de principio a fin\n",
    "print(subcadena1)\n",
    "\n",
    "subcadena2=cadena[2:] ## desde el índice 2 hasta el final\n",
    "print(subcadena2)\n",
    "\n",
    "subcadena3=cadena[:3] ## desde el principio hasta índice 3\n",
    "print(subcadena3)\n",
    "\n",
    "subcadena4=cadena[-6:-1] ## desde el índice -6 al -1\n",
    "print(subcadena4)\n"
   ]
  },
  {
   "cell_type": "markdown",
   "metadata": {},
   "source": [
    "# slicing con saltos"
   ]
  },
  {
   "cell_type": "code",
   "execution_count": 18,
   "metadata": {},
   "outputs": [
    {
     "name": "stdout",
     "output_type": "stream",
     "text": [
      "PLIO\n",
      "SOTIILOP\n"
     ]
    }
   ],
   "source": [
    "cadena= \"POLIITOS\"\n",
    "####  NAME=CADENA[inicio:fin:salto]\n",
    "\n",
    "subcadena5=cadena[::2]\n",
    "print(subcadena5)\n",
    "\n",
    "\n",
    "## invertir una cadena\n",
    "\n",
    "subcadena6=cadena[::-1]\n",
    "print(subcadena6)"
   ]
  },
  {
   "cell_type": "code",
   "execution_count": 24,
   "metadata": {},
   "outputs": [
    {
     "name": "stdout",
     "output_type": "stream",
     "text": [
      "Ingresa web empresarial:www.asf.com\n",
      "Ingresar primer nombre:eduardo\n",
      "Ingresar segundo nombre:jésus\n",
      "Ingresa tu primer apellido:cruz\n",
      "ingresa año de nacimiento:1994\n",
      "ejcruz@asf.com\n"
     ]
    }
   ],
   "source": [
    "# crear un programa que genere un correo electrónico a partir de:\n",
    "# web empresarial, asumir que empieza en www y termina en .com\n",
    "#1er nombre\n",
    "#2do nombre\n",
    "#1er apellido\n",
    "#año de nacimiento\n",
    "\n",
    "#  estrucruea del correo debe ser: 1er letra de NOmbre, 1er letra de segundo nombre, primer apellido, \n",
    "# dos ñultimos dígitos del año de nacimiento, @, nombre de empresa, y .com\n",
    "\n",
    "web=input(\"Ingresa web empresarial:\")\n",
    "nombre=input(\"Ingresar primer nombre:\")\n",
    "nombre2=input(\"Ingresar segundo nombre:\")\n",
    "apellido=input(\"Ingresa tu primer apellido:\")\n",
    "ano_n=input(\"ingresa año de nacimiento:\")\n",
    "\n",
    "correo=nombre[0]+nombre2[0]+apellido[:]+ano_n[-1:-2]+\"@\"+web[4:-4]+\".com\"\n",
    "print(correo)\n"
   ]
  },
  {
   "cell_type": "code",
   "execution_count": 30,
   "metadata": {},
   "outputs": [
    {
     "name": "stdout",
     "output_type": "stream",
     "text": [
      "Joel de FP y #Kevin de CUV ya se divirtieron los pollitos, ahora le toca a los gallos con #Alex\n",
      "Joel\n"
     ]
    }
   ],
   "source": [
    "## extrayendo varios Hastag de un tweet\n",
    "tweet=\"El día de ayer hubo ayudantías con #Joel de FP y #Kevin de CUV ya se divirtieron los pollitos, ahora le toca a los gallos con #Alex\"\n",
    "\n",
    "pos1=tweet.index(\"#\") ## busca al primer \"#\"\n",
    "subtweet=tweet[pos1+1: ] ## sub caracter que empieza desde \"Joel ....\"\n",
    "print(subtweet)\n",
    "pos_esp1=subtweet.index(\" \") ## busca el espacion de cadena \"subtweet\"\n",
    "ayu1=subtweet[:pos_esp1]\n",
    "print(ayu1)"
   ]
  },
  {
   "cell_type": "code",
   "execution_count": 35,
   "metadata": {},
   "outputs": [
    {
     "name": "stdout",
     "output_type": "stream",
     "text": [
      "Kevin de CUV ya se divirtieron los pollitos, ahora le toca a los gallos con #Alex\n",
      "Kevin\n"
     ]
    }
   ],
   "source": [
    "# extraer segundo nombre de TWEET\n",
    "\n",
    "pos2=tweet.index(\"#\", pos1+1) # buscará de tweet el \"#\" partiendo de la posición \"pos1 + 1\"\n",
    "subtweet2=tweet[pos2+1:]\n",
    "print(subtweet2)\n",
    "pos_esp2=subtweet2.index(\" \") # busca el espacio de cadena \"subtweet2\"\n",
    "ayu2=subtweet2[:pos_esp2]\n",
    "print(ayu2)"
   ]
  },
  {
   "cell_type": "code",
   "execution_count": 34,
   "metadata": {},
   "outputs": [
    {
     "name": "stdout",
     "output_type": "stream",
     "text": [
      "xelA# noc sollag sol a acot el aroha ,sotillop sol noreitrivid es ay VUC ed niveK# y PF ed leoJ# noc saítnaduya obuh reya ed aíd lE\n"
     ]
    },
    {
     "ename": "ValueError",
     "evalue": "substring not found",
     "output_type": "error",
     "traceback": [
      "\u001b[1;31m---------------------------------------------------------------------------\u001b[0m",
      "\u001b[1;31mValueError\u001b[0m                                Traceback (most recent call last)",
      "\u001b[1;32m<ipython-input-34-8d3661985e94>\u001b[0m in \u001b[0;36m<module>\u001b[1;34m\u001b[0m\n\u001b[0;32m      6\u001b[0m \u001b[0msubtweetult\u001b[0m\u001b[1;33m=\u001b[0m\u001b[0mtweetinv\u001b[0m\u001b[1;33m[\u001b[0m\u001b[0mposult\u001b[0m\u001b[1;33m]\u001b[0m\u001b[1;33m\u001b[0m\u001b[1;33m\u001b[0m\u001b[0m\n\u001b[0;32m      7\u001b[0m \u001b[0msubtweetultinv\u001b[0m\u001b[1;33m=\u001b[0m\u001b[0msubtweetult\u001b[0m\u001b[1;33m[\u001b[0m\u001b[1;33m:\u001b[0m\u001b[1;33m:\u001b[0m\u001b[1;33m-\u001b[0m\u001b[1;36m1\u001b[0m\u001b[1;33m]\u001b[0m\u001b[1;33m\u001b[0m\u001b[1;33m\u001b[0m\u001b[0m\n\u001b[1;32m----> 8\u001b[1;33m \u001b[0mposespult\u001b[0m\u001b[1;33m=\u001b[0m\u001b[0msubtweetultinv\u001b[0m\u001b[1;33m.\u001b[0m\u001b[0mindex\u001b[0m\u001b[1;33m(\u001b[0m\u001b[1;34m\" \"\u001b[0m\u001b[1;33m)\u001b[0m\u001b[1;33m\u001b[0m\u001b[1;33m\u001b[0m\u001b[0m\n\u001b[0m\u001b[0;32m      9\u001b[0m \u001b[0mayuult\u001b[0m\u001b[1;33m=\u001b[0m\u001b[0msubtweetultinv\u001b[0m\u001b[1;33m[\u001b[0m\u001b[1;33m:\u001b[0m\u001b[0mposespult\u001b[0m\u001b[1;33m]\u001b[0m\u001b[1;33m\u001b[0m\u001b[1;33m\u001b[0m\u001b[0m\n\u001b[0;32m     10\u001b[0m \u001b[0mprint\u001b[0m\u001b[1;33m(\u001b[0m\u001b[0mayuult\u001b[0m\u001b[1;33m)\u001b[0m\u001b[1;33m\u001b[0m\u001b[1;33m\u001b[0m\u001b[0m\n",
      "\u001b[1;31mValueError\u001b[0m: substring not found"
     ]
    }
   ],
   "source": [
    "# estraer el último ayudante\n",
    "\n",
    "tweetinv=tweet[::-1] # : xelA# noc sollag sol a acot el aroha ,sotillop sol noreitrivid es ay VUC...\n",
    "print(tweetinv)\n",
    "posult=tweetinv.index(\"#\")\n",
    "subtweetult=tweetinv[posult]\n",
    "subtweetultinv=subtweetult[::-1]\n",
    "posespult=subtweetultinv.index(\" \")\n",
    "ayuult=subtweetultinv[:posespult]\n",
    "print(ayuult)"
   ]
  },
  {
   "cell_type": "markdown",
   "metadata": {},
   "source": [
    "## operador con String"
   ]
  },
  {
   "cell_type": "code",
   "execution_count": 1,
   "metadata": {},
   "outputs": [
    {
     "name": "stdout",
     "output_type": "stream",
     "text": [
      "polloGallo\n"
     ]
    }
   ],
   "source": [
    "# concatenar\n",
    "\n",
    "print( \"pollo\" + \"Gallo\")"
   ]
  },
  {
   "cell_type": "code",
   "execution_count": 2,
   "metadata": {},
   "outputs": [
    {
     "name": "stdout",
     "output_type": "stream",
     "text": [
      "pollopollopollo\n"
     ]
    }
   ],
   "source": [
    "# multiplicar\n",
    "\n",
    "print(\"pollo\" *3)"
   ]
  },
  {
   "cell_type": "markdown",
   "metadata": {},
   "source": [
    "# in"
   ]
  },
  {
   "cell_type": "code",
   "execution_count": 5,
   "metadata": {},
   "outputs": [
    {
     "name": "stdout",
     "output_type": "stream",
     "text": [
      "True\n",
      "True\n"
     ]
    }
   ],
   "source": [
    "# retorna TRUe si una cadena es subcadena de otra:\n",
    "\n",
    "alexa= \"Alexa toma capuchino en cada ayudantía\"\n",
    "resultado = \"capuchino\" in alexa\n",
    "print(resultado)\n",
    "\n",
    "resultado1= \"a\" in \"casita\"\n",
    "print(resultado1)"
   ]
  },
  {
   "cell_type": "markdown",
   "metadata": {},
   "source": [
    "# ==   !=\n",
    "# comprara igualdad de string"
   ]
  },
  {
   "cell_type": "code",
   "execution_count": 8,
   "metadata": {},
   "outputs": [
    {
     "name": "stdout",
     "output_type": "stream",
     "text": [
      "False\n"
     ]
    }
   ],
   "source": [
    "condicion = \"pato\" == \"Pato\"\n",
    "print(condicion) ## TRUe si son iguales"
   ]
  },
  {
   "cell_type": "code",
   "execution_count": 10,
   "metadata": {},
   "outputs": [
    {
     "name": "stdout",
     "output_type": "stream",
     "text": [
      "True\n"
     ]
    }
   ],
   "source": [
    "condicion2= \"pollo\" != \"pato\"\n",
    "print(condicion2) # TRUE sin son diferentes"
   ]
  },
  {
   "cell_type": "markdown",
   "metadata": {},
   "source": [
    "# orden alfabético\n",
    "\n",
    "## > < >= <=\n",
    "\n",
    "### ABCDEF....abcdef..\n",
    "#### A es menor que a"
   ]
  },
  {
   "cell_type": "code",
   "execution_count": 13,
   "metadata": {},
   "outputs": [
    {
     "name": "stdout",
     "output_type": "stream",
     "text": [
      "False\n",
      "True\n"
     ]
    }
   ],
   "source": [
    "casa = \"Casa\" > \"armario\"\n",
    "print(casa) # DONDE:   A < a\n",
    "\n",
    "casa1 = \"casa\" > \"armario\"\n",
    "print(casa1) # "
   ]
  },
  {
   "cell_type": "code",
   "execution_count": 16,
   "metadata": {},
   "outputs": [
    {
     "data": {
      "text/plain": [
       "True"
      ]
     },
     "execution_count": 16,
     "metadata": {},
     "output_type": "execute_result"
    }
   ],
   "source": [
    "a = \"a\" >= \"A\"\n",
    "a"
   ]
  },
  {
   "cell_type": "markdown",
   "metadata": {},
   "source": [
    "# secuencua de escape\n",
    "\n",
    "## comillas "
   ]
  },
  {
   "cell_type": "code",
   "execution_count": 19,
   "metadata": {},
   "outputs": [
    {
     "name": "stdout",
     "output_type": "stream",
     "text": [
      " \"Somos el resutlado de los libros que leemos, los cafés que disfrutamo, los viajes que haceemos y las personas que amamos\" Airton ortíz \n"
     ]
    }
   ],
   "source": [
    " frase = \" \\\"Somos el resutlado de los libros que leemos, los cafés que disfrutamo, los viajes que haceemos y las personas que amamos\\\" Airton ortíz \"\n",
    "print(frase)"
   ]
  },
  {
   "cell_type": "code",
   "execution_count": 13,
   "metadata": {},
   "outputs": [
    {
     "name": "stdout",
     "output_type": "stream",
     "text": [
      "Fundamentos de programación se pasa \n",
      "sola exclamó: Joel la Bala ALvarado\n"
     ]
    }
   ],
   "source": [
    "frase2 = \"Fundamentos de programación se pasa \\nsola exclamó: Joel la Bala ALvarado\"\n",
    "print(frase2)"
   ]
  },
  {
   "cell_type": "code",
   "execution_count": 26,
   "metadata": {},
   "outputs": [
    {
     "name": "stdout",
     "output_type": "stream",
     "text": [
      "Fundamentos de Programaciónse pasa sola\t -Joel la Bala Alvarado\n"
     ]
    }
   ],
   "source": [
    "#TABULADOR\n",
    "\n",
    "frase3=\"Fundamentos de Programaciónse pasa sola\\t -Joel la Bala Alvarado\"\n",
    "print(frase3)"
   ]
  },
  {
   "cell_type": "markdown",
   "metadata": {},
   "source": [
    "# funciones\n",
    "\n",
    "## regla para estudiar funciones:\n",
    "#### síntaxis\n",
    "#### argumentos\n",
    "#### ¿qué hace?\n",
    "#### ¿retorna un tipo de datos? ¿cuál?"
   ]
  },
  {
   "cell_type": "code",
   "execution_count": 30,
   "metadata": {
    "scrolled": true
   },
   "outputs": [
    {
     "name": "stdout",
     "output_type": "stream",
     "text": [
      "Hola mundo\n",
      "None\n"
     ]
    }
   ],
   "source": [
    "## PRINT no retorna vaariable\n",
    "\n",
    "# ej:\n",
    "\n",
    "variable = print(\"Hola mundo\")\n",
    "print(variable)"
   ]
  },
  {
   "cell_type": "code",
   "execution_count": 31,
   "metadata": {},
   "outputs": [
    {
     "name": "stdout",
     "output_type": "stream",
     "text": [
      "Ingresa tu nameeduardo\n"
     ]
    },
    {
     "data": {
      "text/plain": [
       "'eduardo'"
      ]
     },
     "execution_count": 31,
     "metadata": {},
     "output_type": "execute_result"
    }
   ],
   "source": [
    "## INPUT\n",
    "\n",
    "#ej:\n",
    "\n",
    "input(\"Ingresa tu name\") # acepta un argumento string y retorna string"
   ]
  },
  {
   "cell_type": "code",
   "execution_count": null,
   "metadata": {},
   "outputs": [],
   "source": [
    "## LEN(str)\n",
    "\n",
    "#cantCarac=len(\"Edaurdo es el osoBear\")"
   ]
  },
  {
   "cell_type": "code",
   "execution_count": 36,
   "metadata": {},
   "outputs": [
    {
     "data": {
      "text/plain": [
       "8"
      ]
     },
     "execution_count": 36,
     "metadata": {},
     "output_type": "execute_result"
    }
   ],
   "source": [
    "len(\"30303030\") #cuenta caractéres"
   ]
  },
  {
   "cell_type": "code",
   "execution_count": 35,
   "metadata": {},
   "outputs": [
    {
     "data": {
      "text/plain": [
       "44"
      ]
     },
     "execution_count": 35,
     "metadata": {},
     "output_type": "execute_result"
    }
   ],
   "source": [
    "len(\"mi casa tiene un patio muymuy perro y grande\")"
   ]
  },
  {
   "cell_type": "code",
   "execution_count": 38,
   "metadata": {},
   "outputs": [
    {
     "name": "stdout",
     "output_type": "stream",
     "text": [
      "ingresa tu sueldo mensual: 2000\n"
     ]
    },
    {
     "data": {
      "text/plain": [
       "4"
      ]
     },
     "execution_count": 38,
     "metadata": {},
     "output_type": "execute_result"
    }
   ],
   "source": [
    "ingresos = len(input(\"ingresa tu sueldo mensual: \"))\n",
    "ingresos"
   ]
  },
  {
   "cell_type": "code",
   "execution_count": 40,
   "metadata": {},
   "outputs": [
    {
     "data": {
      "text/plain": [
       "2"
      ]
     },
     "execution_count": 40,
     "metadata": {},
     "output_type": "execute_result"
    }
   ],
   "source": [
    "# CONTAR: cunata el núm de veces que aparece un sub cadena en una cadena\n",
    "\n",
    "cadena=\"los pollitos de FP\"\n",
    "cantidades=cadena.count(\"os\")\n",
    "cantidades"
   ]
  },
  {
   "cell_type": "code",
   "execution_count": 42,
   "metadata": {},
   "outputs": [
    {
     "name": "stdout",
     "output_type": "stream",
     "text": [
      "me gusta el mocachino\n"
     ]
    }
   ],
   "source": [
    "## REMPLAZAR\n",
    "\n",
    "info=\"me gusta el capuchino\"\n",
    "nueva_info=info.replace(\"capuchino\", \"mocachino\")\n",
    "print(nueva_info)"
   ]
  },
  {
   "cell_type": "code",
   "execution_count": 15,
   "metadata": {},
   "outputs": [
    {
     "name": "stdout",
     "output_type": "stream",
     "text": [
      "Alex ell\n"
     ]
    }
   ],
   "source": [
    "# BORRAR CARACTER DE IQUIERDA Y DERECHA\n",
    "nombre= \"Alex ell\\n \"\n",
    "cadena=nombre.strip()\n",
    "print(cadena)"
   ]
  },
  {
   "cell_type": "code",
   "execution_count": 44,
   "metadata": {},
   "outputs": [
    {
     "name": "stdout",
     "output_type": "stream",
     "text": [
      "_Alex-_\n"
     ]
    }
   ],
   "source": [
    "nombre=\"--_Alex-_-\"\n",
    "cadena=nombre.strip(\"-\")\n",
    "print(cadena) #elimina guiones de los extremos"
   ]
  },
  {
   "cell_type": "markdown",
   "metadata": {},
   "source": [
    "## mayúsculas y minúsculas"
   ]
  },
  {
   "cell_type": "code",
   "execution_count": 4,
   "metadata": {},
   "outputs": [
    {
     "name": "stdout",
     "output_type": "stream",
     "text": [
      "Ingrese un nombre: Harvy\n"
     ]
    },
    {
     "data": {
      "text/plain": [
       "'harvy'"
      ]
     },
     "execution_count": 4,
     "metadata": {},
     "output_type": "execute_result"
    }
   ],
   "source": [
    "nombre=input(\"Ingrese un nombre: \").lower()\n",
    "nombre"
   ]
  },
  {
   "cell_type": "code",
   "execution_count": 48,
   "metadata": {},
   "outputs": [
    {
     "name": "stdout",
     "output_type": "stream",
     "text": [
      "ingrese apellidocruz\n"
     ]
    },
    {
     "data": {
      "text/plain": [
       "'CRUZ'"
      ]
     },
     "execution_count": 48,
     "metadata": {},
     "output_type": "execute_result"
    }
   ],
   "source": [
    "apellido=input(\"ingrese apellido\").upper()\n",
    "apellido"
   ]
  },
  {
   "cell_type": "code",
   "execution_count": 5,
   "metadata": {},
   "outputs": [
    {
     "data": {
      "text/plain": [
       "'Funciones De String'"
      ]
     },
     "execution_count": 5,
     "metadata": {},
     "output_type": "execute_result"
    }
   ],
   "source": [
    "titulo=(\"funCiones DE strinG\").title() #pone mayúsculas en cada inicio de palabras\n",
    "titulo"
   ]
  },
  {
   "cell_type": "markdown",
   "metadata": {},
   "source": [
    "# star - End"
   ]
  },
  {
   "cell_type": "code",
   "execution_count": 52,
   "metadata": {},
   "outputs": [
    {
     "name": "stdout",
     "output_type": "stream",
     "text": [
      "True\n"
     ]
    }
   ],
   "source": [
    "## star nos dice si empieza con cierta caracter\n",
    "web=\"www.youtube.com\"\n",
    "cond= web.startswith(\"www.\")\n",
    "print(cond)"
   ]
  },
  {
   "cell_type": "code",
   "execution_count": 56,
   "metadata": {},
   "outputs": [
    {
     "name": "stdout",
     "output_type": "stream",
     "text": [
      "Ingrese su correoeduardocruz@espol.edu.ec\n",
      "True\n"
     ]
    }
   ],
   "source": [
    "## end nos dice si termina con cierto caracter\n",
    "\n",
    "correo=input(\"Ingrese su correo\")\n",
    "cond=correo.endswith(\"@espol.edu.ec\")\n",
    "print(cond)"
   ]
  },
  {
   "cell_type": "markdown",
   "metadata": {},
   "source": [
    "# busca la posición de una cadena"
   ]
  },
  {
   "cell_type": "code",
   "execution_count": 18,
   "metadata": {},
   "outputs": [
    {
     "data": {
      "text/plain": [
       "11"
      ]
     },
     "execution_count": 18,
     "metadata": {},
     "output_type": "execute_result"
    }
   ],
   "source": [
    "# str.index(str)\n",
    "\n",
    "cadena=\"Alex Concha|ing.Computación\"\n",
    "pos=cadena.index(\"|\")\n",
    "pos # nos devuelve la posición de cierto caracter que encuentre primero"
   ]
  },
  {
   "cell_type": "code",
   "execution_count": 19,
   "metadata": {},
   "outputs": [
    {
     "name": "stdout",
     "output_type": "stream",
     "text": [
      "11\n"
     ]
    }
   ],
   "source": [
    "# str.find.(str)\n",
    "\n",
    "cadena=\"Alex Concha|ing.Computación\"\n",
    "pos=cadena.find(\"|ing\")\n",
    "print(pos) # nos devuelve la posición de cierto caracter"
   ]
  },
  {
   "cell_type": "code",
   "execution_count": 60,
   "metadata": {},
   "outputs": [
    {
     "data": {
      "text/plain": [
       "27"
      ]
     },
     "execution_count": 60,
     "metadata": {},
     "output_type": "execute_result"
    }
   ],
   "source": [
    "# econtrar otro caracter igual en la misma variable\n",
    "cadena=\"Alex Concha|ing.Computación|22\"\n",
    "pos1=cadena.index(\"|\")\n",
    "pos2=cadena.index(\"|\", pos1+1)\n",
    "pos2\n"
   ]
  },
  {
   "cell_type": "markdown",
   "metadata": {},
   "source": [
    "# is..."
   ]
  },
  {
   "cell_type": "code",
   "execution_count": 62,
   "metadata": {},
   "outputs": [
    {
     "name": "stdout",
     "output_type": "stream",
     "text": [
      "True\n"
     ]
    },
    {
     "data": {
      "text/plain": [
       "False"
      ]
     },
     "execution_count": 62,
     "metadata": {},
     "output_type": "execute_result"
    }
   ],
   "source": [
    "# str.isdigit()\n",
    "# cadena tiene dígitos?\n",
    "cadena=\"12\"\n",
    "cond=cadena.isdigit()\n",
    "print(cond) ## TRUE sólo si es string en número, no debe tener guión...\n",
    "\n",
    "cadena=\"-12\"\n",
    "cond=cadena.isdigit()\n",
    "cond"
   ]
  },
  {
   "cell_type": "code",
   "execution_count": 21,
   "metadata": {},
   "outputs": [
    {
     "data": {
      "text/plain": [
       "False"
      ]
     },
     "execution_count": 21,
     "metadata": {},
     "output_type": "execute_result"
    }
   ],
   "source": [
    "# str.isalpha() --> TRUE si solo tiene letras, no núm ni espacions...\n",
    "cadena=\"hola mundo\"\n",
    "cond=cadena.isalpha()\n",
    "cond"
   ]
  },
  {
   "cell_type": "code",
   "execution_count": 66,
   "metadata": {},
   "outputs": [
    {
     "data": {
      "text/plain": [
       "True"
      ]
     },
     "execution_count": 66,
     "metadata": {},
     "output_type": "execute_result"
    }
   ],
   "source": [
    "# str.islower() --> TRUE si todos están en minúsculas\n",
    "cadena=\"hola mundo\"\n",
    "cond=cadena.islower()\n",
    "cond\n"
   ]
  },
  {
   "cell_type": "code",
   "execution_count": 68,
   "metadata": {},
   "outputs": [
    {
     "data": {
      "text/plain": [
       "True"
      ]
     },
     "execution_count": 68,
     "metadata": {},
     "output_type": "execute_result"
    }
   ],
   "source": [
    "# str.isupper() -->TRUE si son mayúsculas\n",
    "cadena1=\"HOLISSS\"\n",
    "cond1=cadena1.isupper()\n",
    "cond1"
   ]
  },
  {
   "cell_type": "markdown",
   "metadata": {},
   "source": [
    "# tipo de datos: LISTA"
   ]
  },
  {
   "cell_type": "markdown",
   "metadata": {},
   "source": [
    "#### se hace con [], pude ser vacía los [], es un grupo de elementos, de cualquier tipo, son mutables"
   ]
  },
  {
   "cell_type": "code",
   "execution_count": 73,
   "metadata": {},
   "outputs": [
    {
     "name": "stdout",
     "output_type": "stream",
     "text": [
      "['eduardo', 94, True, 'Cruz', 2021] []\n"
     ]
    }
   ],
   "source": [
    "pollosLista=[]\n",
    "lista=[\"eduardo\", 94, True, \"Cruz\", 2021]\n",
    "print(lista, pollosLista)"
   ]
  },
  {
   "cell_type": "code",
   "execution_count": 74,
   "metadata": {},
   "outputs": [
    {
     "data": {
      "text/plain": [
       "94"
      ]
     },
     "execution_count": 74,
     "metadata": {},
     "output_type": "execute_result"
    }
   ],
   "source": [
    "#índice en listas: 0,1,2..n---- o -1, -2...-n; síendo el -1 el úlitmo..\n",
    "lista[1]"
   ]
  },
  {
   "cell_type": "code",
   "execution_count": 75,
   "metadata": {},
   "outputs": [
    {
     "data": {
      "text/plain": [
       "2021"
      ]
     },
     "execution_count": 75,
     "metadata": {},
     "output_type": "execute_result"
    }
   ],
   "source": [
    "lista[-1]"
   ]
  },
  {
   "cell_type": "code",
   "execution_count": 76,
   "metadata": {},
   "outputs": [
    {
     "data": {
      "text/plain": [
       "[94, True]"
      ]
     },
     "execution_count": 76,
     "metadata": {},
     "output_type": "execute_result"
    }
   ],
   "source": [
    "# slicing\n",
    "\n",
    "sub_lista=lista[1:3]\n",
    "sub_lista"
   ]
  },
  {
   "cell_type": "code",
   "execution_count": 77,
   "metadata": {},
   "outputs": [
    {
     "data": {
      "text/plain": [
       "[2021, 'Cruz', True, 94, 'eduardo']"
      ]
     },
     "execution_count": 77,
     "metadata": {},
     "output_type": "execute_result"
    }
   ],
   "source": [
    "# invertir una list\n",
    "sub_lista1=lista[::-1]\n",
    "sub_lista1"
   ]
  },
  {
   "cell_type": "code",
   "execution_count": 80,
   "metadata": {},
   "outputs": [
    {
     "name": "stdout",
     "output_type": "stream",
     "text": [
      "['eduardo', 'VEGA', True, 'Cruz', 2021]\n"
     ]
    }
   ],
   "source": [
    "lista\n",
    "lista[1]=\"VEGA\" #rempalzar elementos de una lista\n",
    "print(lista)"
   ]
  },
  {
   "cell_type": "markdown",
   "metadata": {},
   "source": [
    "## operadores en lista"
   ]
  },
  {
   "cell_type": "code",
   "execution_count": 81,
   "metadata": {},
   "outputs": [
    {
     "name": "stdout",
     "output_type": "stream",
     "text": [
      "[True, 'Alex', 'Beatriz', 8]\n"
     ]
    }
   ],
   "source": [
    "#concatenar (une lista) +\n",
    "\n",
    "listanueva=[True, \"Alex\"] + [\"Beatriz\", 8]\n",
    "print(listanueva)"
   ]
  },
  {
   "cell_type": "code",
   "execution_count": 83,
   "metadata": {},
   "outputs": [
    {
     "data": {
      "text/plain": [
       "[True, 'Alex', True, 'Alex', True, 'Alex']"
      ]
     },
     "execution_count": 83,
     "metadata": {},
     "output_type": "execute_result"
    }
   ],
   "source": [
    "# repetición de elementos * \n",
    "\n",
    "listanueva=[True, \"Alex\"]*3\n",
    "listanueva"
   ]
  },
  {
   "cell_type": "code",
   "execution_count": 90,
   "metadata": {},
   "outputs": [
    {
     "data": {
      "text/plain": [
       "False"
      ]
     },
     "execution_count": 90,
     "metadata": {},
     "output_type": "execute_result"
    }
   ],
   "source": [
    "# pertenece in\n",
    "\n",
    "estudiantes= [\"alex\", \"Joel\", \"Mel\", \"Gaby\"]\n",
    "cond=\"Kevin\" in estudiantes\n",
    "cond # FALSE porque no está \"Kevin\" en lista de estudiante"
   ]
  },
  {
   "cell_type": "code",
   "execution_count": 89,
   "metadata": {},
   "outputs": [
    {
     "data": {
      "text/plain": [
       "True"
      ]
     },
     "execution_count": 89,
     "metadata": {},
     "output_type": "execute_result"
    }
   ],
   "source": [
    "cond2= \"Bryan\" not in estudiantes\n",
    "cond2 # TRUE porque no está \"Bryan\" en lista de estudiante"
   ]
  },
  {
   "cell_type": "code",
   "execution_count": 92,
   "metadata": {},
   "outputs": [
    {
     "data": {
      "text/plain": [
       "False"
      ]
     },
     "execution_count": 92,
     "metadata": {},
     "output_type": "execute_result"
    }
   ],
   "source": [
    "cond3=\"a\" in estudiantes\n",
    "cond3 # FALSE porque no está \"a\" como elemnto en lista de estudiante"
   ]
  },
  {
   "cell_type": "markdown",
   "metadata": {},
   "source": [
    "# funciones en listas"
   ]
  },
  {
   "cell_type": "code",
   "execution_count": 6,
   "metadata": {},
   "outputs": [
    {
     "name": "stdout",
     "output_type": "stream",
     "text": [
      "Hola \n",
      "me llamo Axell \tsoy Estudiante\n",
      "['Hola', 'me', 'llamo', 'Axell', 'soy', 'Estudiante']\n"
     ]
    }
   ],
   "source": [
    "# str.split()\n",
    "# retorna una lista  con todos los elementos  que resultadon de dividir la cadena por espacio \" \", tab \"\\t\", o enter \"\\n\"\n",
    "texto= \"Hola \\nme llamo Axell \\tsoy Estudiante\"\n",
    "print(texto)\n",
    "palabras=texto.split()#separa por espacio\n",
    "print(palabras )"
   ]
  },
  {
   "cell_type": "code",
   "execution_count": 94,
   "metadata": {},
   "outputs": [
    {
     "name": "stdout",
     "output_type": "stream",
     "text": [
      "['www', 'fiec', 'espol', 'edu', 'ec']\n"
     ]
    }
   ],
   "source": [
    "# str.split(str)\n",
    "# retorna una lista con todos los elementos que resultaron al dividir la cadena por un separador\n",
    "\n",
    "url=\"www.fiec.espol.edu.ec\"\n",
    "datos=url.split(\".\")#spara por \".\"\n",
    "print(datos)"
   ]
  },
  {
   "cell_type": "markdown",
   "metadata": {},
   "source": [
    "### desempaquetado en lista"
   ]
  },
  {
   "cell_type": "code",
   "execution_count": 32,
   "metadata": {},
   "outputs": [
    {
     "name": "stdout",
     "output_type": "stream",
     "text": [
      "Ingrese datos: duaro|cruz|vega|22 años|1994\n",
      "duaro vega 22 años\n"
     ]
    }
   ],
   "source": [
    "cadena=input(\"Ingrese datos: \") # eduaro|cruz|vega|22 años|1994\n",
    "datos=cadena.split(\"|\")\n",
    "\n",
    "#desempaquetar en 4 nombres (en 4 variables):\n",
    "nombre, apellidoP, apellidoM, años, año_born = cadena.split(\"|\")\n",
    "\n",
    "print(nombre, apellidoM, años)"
   ]
  },
  {
   "cell_type": "code",
   "execution_count": 4,
   "metadata": {},
   "outputs": [
    {
     "name": "stdout",
     "output_type": "stream",
     "text": [
      "eduardo \n"
     ]
    }
   ],
   "source": [
    "print(nombre)"
   ]
  },
  {
   "cell_type": "markdown",
   "metadata": {},
   "source": [
    "## join"
   ]
  },
  {
   "cell_type": "code",
   "execution_count": 33,
   "metadata": {},
   "outputs": [
    {
     "name": "stdout",
     "output_type": "stream",
     "text": [
      "Eduardo+FE-UNAM+Economía+22\n"
     ]
    }
   ],
   "source": [
    "# sintaxis: str.join(list)\n",
    "# retorna un str con todos los elementos de la lista concatenados por un str\n",
    "\n",
    "lista=[\"Eduardo\", \"FE-UNAM\", \"Economía\", \"22\"]\n",
    "cadena=\"+\".join(lista)\n",
    "print(cadena)"
   ]
  },
  {
   "cell_type": "markdown",
   "metadata": {},
   "source": [
    "# len"
   ]
  },
  {
   "cell_type": "code",
   "execution_count": 7,
   "metadata": {},
   "outputs": [
    {
     "name": "stdout",
     "output_type": "stream",
     "text": [
      "4\n"
     ]
    }
   ],
   "source": [
    "# sintaxis: len(lista), retorna un \"int\" que reprenta a la cantidad de los elementos de la lista\n",
    "\n",
    "lista=[\"Eduardo\", 22, True, \"Cruz\"]\n",
    "cantidad=len(lista)#conteo de elementos\n",
    "print(cantidad)"
   ]
  },
  {
   "cell_type": "markdown",
   "metadata": {},
   "source": [
    "# sum"
   ]
  },
  {
   "cell_type": "code",
   "execution_count": 8,
   "metadata": {},
   "outputs": [
    {
     "name": "stdout",
     "output_type": "stream",
     "text": [
      "2.5\n"
     ]
    }
   ],
   "source": [
    "# sintaxis: un \"int/float\" que representa la suma de todoslos \"int/float\" de una lista\n",
    "\n",
    "lista_num=[2,3.5,-3,0]\n",
    "total_suma=sum(lista_num)\n",
    "print(total_suma)"
   ]
  },
  {
   "cell_type": "markdown",
   "metadata": {},
   "source": [
    "# max y min"
   ]
  },
  {
   "cell_type": "code",
   "execution_count": 12,
   "metadata": {},
   "outputs": [
    {
     "name": "stdout",
     "output_type": "stream",
     "text": [
      "10000\n",
      "josé\n"
     ]
    }
   ],
   "source": [
    "# sintaxis: max(list), retorna el valor máximo de una lista--> min(lista)\n",
    "\n",
    "num=[2,4,-5.9,4,10000]\n",
    "maximo=max(num)\n",
    "print(maximo)\n",
    "\n",
    "nombres=[\"eduardo\", \"Marcos\", \"josé\", \"Antonio\"]\n",
    "max_nombre=max(nombres)  ### A es menor que a\n",
    "print(max_nombre)"
   ]
  },
  {
   "cell_type": "markdown",
   "metadata": {},
   "source": [
    "# append"
   ]
  },
  {
   "cell_type": "code",
   "execution_count": 34,
   "metadata": {},
   "outputs": [
    {
     "name": "stdout",
     "output_type": "stream",
     "text": [
      "['eduardo', 22, True, 'cruz']\n",
      "['eduardo', 22, True, 'cruz', 'OsoBear']\n"
     ]
    }
   ],
   "source": [
    "# sintaxis list.append(elemento)--> guarda el elemento al final de la lista\n",
    "\n",
    "\n",
    "lista=[\"eduardo\", 22, True, \"cruz\"]\n",
    "print(lista)\n",
    "lista.append(\"OsoBear\")#agrega elemento al final de la lista\n",
    "print(lista)"
   ]
  },
  {
   "cell_type": "markdown",
   "metadata": {},
   "source": [
    "# insert"
   ]
  },
  {
   "cell_type": "code",
   "execution_count": 38,
   "metadata": {},
   "outputs": [
    {
     "name": "stdout",
     "output_type": "stream",
     "text": [
      "['eduardo', 22, '1994', 'cruz']\n",
      "['eduardo', 'OsoBear', 22, '1994', 'cruz']\n"
     ]
    }
   ],
   "source": [
    "# sintaxis: list.insert(int, elemento)--> inserta el elemento en la índice int\n",
    "\n",
    "\n",
    "lista=[\"eduardo\", 22, \"1994\", \"cruz\"]\n",
    "print(lista)\n",
    "lista.insert(1,\"OsoBear\")\n",
    "print(lista)## inserta \"osobear\" en la posición 1"
   ]
  },
  {
   "cell_type": "code",
   "execution_count": 15,
   "metadata": {},
   "outputs": [
    {
     "name": "stdout",
     "output_type": "stream",
     "text": [
      "['eduardo', 'OsoBear', 22, '1994', 'cruz', 'k']\n"
     ]
    }
   ],
   "source": [
    "lista.insert(8,\"k\") ## si el índice no \"alcanza\" so coloca al último\n",
    "print(lista)"
   ]
  },
  {
   "cell_type": "markdown",
   "metadata": {},
   "source": [
    "# extend"
   ]
  },
  {
   "cell_type": "code",
   "execution_count": 17,
   "metadata": {},
   "outputs": [
    {
     "name": "stdout",
     "output_type": "stream",
     "text": [
      "['eduardo', 'OsoBear', 'eleazar', 'fer']\n"
     ]
    }
   ],
   "source": [
    "# sintaxis: list.extend(list)--> concatena\n",
    "\n",
    "lista=[\"eduardo\", \"OsoBear\"]\n",
    "lista2=[\"eleazar\", \"fer\"]\n",
    "lista.extend(lista2)\n",
    "print(lista)  # concatena las dos listas"
   ]
  },
  {
   "cell_type": "markdown",
   "metadata": {},
   "source": [
    "# pop"
   ]
  },
  {
   "cell_type": "code",
   "execution_count": 40,
   "metadata": {},
   "outputs": [
    {
     "name": "stdout",
     "output_type": "stream",
     "text": [
      "['mouse', 'gato', 22, 'oso', 1994]\n",
      "1994\n",
      "['mouse', 'gato', 22, 'oso', 1994]\n"
     ]
    }
   ],
   "source": [
    "# método 1: sintaxis: list.pop()-->devuelve y elemina el último elento de la lista\n",
    "\n",
    "lista=[\"mouse\", \"gato\", 22, \"oso\", 1994]\n",
    "print(lista)#lista original\n",
    "print(lista_peque)#devuelve elemento eliminado\n",
    "print(lista)#lista actual"
   ]
  },
  {
   "cell_type": "code",
   "execution_count": 20,
   "metadata": {},
   "outputs": [
    {
     "name": "stdout",
     "output_type": "stream",
     "text": [
      "['mouse', 22, '199a', 'oso']\n",
      "ELIMINAR\n"
     ]
    }
   ],
   "source": [
    "# método 2: sintaxis: list.pop(int)-->devuelve y elimina el elemento del índice int de la lista\n",
    "\n",
    "lista=[\"mouse\",\"ELIMINAR\",22, \"199a\", \"oso\"]\n",
    "lista_peque=lista.pop(1)#elimina elemento a través del índice\n",
    "print(lista)\n",
    "print(lista_peque)"
   ]
  },
  {
   "cell_type": "markdown",
   "metadata": {},
   "source": [
    "# remove"
   ]
  },
  {
   "cell_type": "code",
   "execution_count": 21,
   "metadata": {},
   "outputs": [
    {
     "name": "stdout",
     "output_type": "stream",
     "text": [
      "['mouse', 22, '199a', 'oso']\n"
     ]
    }
   ],
   "source": [
    "# sintaxis: list.remove(elemento)-->elimina elemenot de la lista\n",
    "\n",
    "\n",
    "lista=[\"mouse\",\"ELIMINAR\",22, \"199a\", \"oso\"]\n",
    "lista.remove(\"ELIMINAR\") #elimina el elmento señalado\n",
    "print(lista)"
   ]
  },
  {
   "cell_type": "markdown",
   "metadata": {},
   "source": [
    "# del"
   ]
  },
  {
   "cell_type": "code",
   "execution_count": 22,
   "metadata": {},
   "outputs": [
    {
     "ename": "NameError",
     "evalue": "name 'lista' is not defined",
     "output_type": "error",
     "traceback": [
      "\u001b[1;31m---------------------------------------------------------------------------\u001b[0m",
      "\u001b[1;31mNameError\u001b[0m                                 Traceback (most recent call last)",
      "\u001b[1;32m<ipython-input-22-cfca9d36141c>\u001b[0m in \u001b[0;36m<module>\u001b[1;34m\u001b[0m\n\u001b[0;32m      4\u001b[0m \u001b[0mlista\u001b[0m\u001b[1;33m=\u001b[0m\u001b[1;33m[\u001b[0m\u001b[1;34m\"mouse\"\u001b[0m\u001b[1;33m,\u001b[0m\u001b[1;34m\"ELIMINAR\"\u001b[0m\u001b[1;33m,\u001b[0m\u001b[1;36m22\u001b[0m\u001b[1;33m,\u001b[0m \u001b[1;34m\"199a\"\u001b[0m\u001b[1;33m,\u001b[0m \u001b[1;34m\"oso\"\u001b[0m\u001b[1;33m]\u001b[0m\u001b[1;33m\u001b[0m\u001b[1;33m\u001b[0m\u001b[0m\n\u001b[0;32m      5\u001b[0m \u001b[1;32mdel\u001b[0m \u001b[0mlista\u001b[0m\u001b[1;33m\u001b[0m\u001b[1;33m\u001b[0m\u001b[0m\n\u001b[1;32m----> 6\u001b[1;33m \u001b[0mprint\u001b[0m\u001b[1;33m(\u001b[0m\u001b[0mlista\u001b[0m\u001b[1;33m)\u001b[0m\u001b[1;33m\u001b[0m\u001b[1;33m\u001b[0m\u001b[0m\n\u001b[0m",
      "\u001b[1;31mNameError\u001b[0m: name 'lista' is not defined"
     ]
    }
   ],
   "source": [
    "# sintaxis: del lista --> elimina lista\n",
    "\n",
    "\n",
    "lista=[\"mouse\",\"ELIMINAR\",22, \"199a\", \"oso\"]\n",
    "del lista\n",
    "print(lista)"
   ]
  },
  {
   "cell_type": "code",
   "execution_count": 24,
   "metadata": {},
   "outputs": [
    {
     "name": "stdout",
     "output_type": "stream",
     "text": [
      "['mouse', 22, '199a', 'oso']\n"
     ]
    }
   ],
   "source": [
    "# eliminar elemento de la lista con \"del\": sintaxis: del list[int]\n",
    "\n",
    "lista=[\"mouse\",\"ELIMINAR\",22, \"199a\", \"oso\"]\n",
    "del lista[1]\n",
    "print(lista)"
   ]
  },
  {
   "cell_type": "markdown",
   "metadata": {},
   "source": [
    "# index"
   ]
  },
  {
   "cell_type": "code",
   "execution_count": 26,
   "metadata": {},
   "outputs": [
    {
     "name": "stdout",
     "output_type": "stream",
     "text": [
      "1\n"
     ]
    }
   ],
   "source": [
    "# sintaxis: lista.index(elemento)-->retorna el índice donde se encuentra el elemento\n",
    "\n",
    "lista=[\"mouse\",\"ELIMINAR\",22, \"199a\", \"oso\"]\n",
    "id=lista.index(\"ELIMINAR\")\n",
    "print(id)# devuelve el índice"
   ]
  },
  {
   "cell_type": "markdown",
   "metadata": {},
   "source": [
    "# count"
   ]
  },
  {
   "cell_type": "code",
   "execution_count": 27,
   "metadata": {},
   "outputs": [
    {
     "name": "stdout",
     "output_type": "stream",
     "text": [
      "2\n"
     ]
    }
   ],
   "source": [
    "#sintaxis: lista.count(elemento)-->retorna un int que representa la cantdad de veces \n",
    "# que se encuentra el elemento en la lista\n",
    "\n",
    "lista=[\"mouse\",\"ELIMINAR\",22, \"199a\", 22]\n",
    "cantidad=lista.count(22)\n",
    "print(cantidad)"
   ]
  },
  {
   "cell_type": "markdown",
   "metadata": {},
   "source": [
    "# reverse"
   ]
  },
  {
   "cell_type": "code",
   "execution_count": 28,
   "metadata": {},
   "outputs": [
    {
     "name": "stdout",
     "output_type": "stream",
     "text": [
      "['oso', '199a', 22, 'ELIMINAR', 'mouse']\n"
     ]
    }
   ],
   "source": [
    "# sintaxis: lista.reverse()-->invierte el orden de la lista\n",
    "\n",
    "\n",
    "lista=[\"mouse\",\"ELIMINAR\",22, \"199a\", \"oso\"]\n",
    "lista.reverse()\n",
    "print(lista)"
   ]
  },
  {
   "cell_type": "markdown",
   "metadata": {},
   "source": [
    "# sort"
   ]
  },
  {
   "cell_type": "code",
   "execution_count": 30,
   "metadata": {},
   "outputs": [
    {
     "data": {
      "text/plain": [
       "['1999', 'ELIMINAR', 'mouse', 'oso']"
      ]
     },
     "execution_count": 30,
     "metadata": {},
     "output_type": "execute_result"
    }
   ],
   "source": [
    "# sintaxis: lista.sort()--> ordena la lista de menor a mayor\n",
    "\n",
    "lista=[\"mouse\",\"ELIMINAR\", \"1999\", \"oso\"]\n",
    "lista.sort()\n",
    "lista"
   ]
  },
  {
   "cell_type": "code",
   "execution_count": 37,
   "metadata": {},
   "outputs": [
    {
     "name": "stdout",
     "output_type": "stream",
     "text": [
      "['oso', 'mouse', 'ELIMINAR', '1999']\n"
     ]
    }
   ],
   "source": [
    "# ordenar de mayor a menor\n",
    "\n",
    "lista1=[\"mouse\",\"ELIMINAR\", \"1999\", \"oso\"]\n",
    "lista1.sort()#ordenar de menor a mayor\n",
    "lista1.reverse()#invertir order: de mayor a menor\n",
    "print(lista1)"
   ]
  },
  {
   "cell_type": "code",
   "execution_count": 38,
   "metadata": {},
   "outputs": [
    {
     "name": "stdout",
     "output_type": "stream",
     "text": [
      "['oso', 'mouse', 'ELIMINAR', '1999']\n"
     ]
    }
   ],
   "source": [
    "# otra forma de ordenar de mayor a menor:\n",
    "\n",
    "\n",
    "lista3=[\"mouse\",\"ELIMINAR\", \"1999\", \"oso\"]\n",
    "lista3.sort(reverse=True)#de mayor a menor\n",
    "print(lista3)"
   ]
  },
  {
   "cell_type": "markdown",
   "metadata": {},
   "source": [
    "# sorted"
   ]
  },
  {
   "cell_type": "code",
   "execution_count": 39,
   "metadata": {},
   "outputs": [
    {
     "name": "stdout",
     "output_type": "stream",
     "text": [
      "['mouse', 'ELIMINAR', '1999', 'oso']\n",
      "['1999', 'ELIMINAR', 'mouse', 'oso']\n"
     ]
    }
   ],
   "source": [
    "# sintaxis: sorted(lista)-->retorna un lista ordenada de menor a mayor\n",
    "\n",
    "lista=[\"mouse\",\"ELIMINAR\", \"1999\", \"oso\"]\n",
    "lista4=sorted(lista)\n",
    "print(lista)\n",
    "print(lista4)"
   ]
  },
  {
   "cell_type": "markdown",
   "metadata": {},
   "source": [
    "# cast list"
   ]
  },
  {
   "cell_type": "code",
   "execution_count": 7,
   "metadata": {},
   "outputs": [
    {
     "name": "stdout",
     "output_type": "stream",
     "text": [
      "['t', 'e', 'c', 'l', 'a', 'd', 'o']\n"
     ]
    }
   ],
   "source": [
    "# sintaxis: list(str)--> retorna una lista donde los elementos son los caracteres del str\n",
    "\n",
    "\n",
    "cadena=\"teclado\"\n",
    "lista=list(cadena)\n",
    "print(lista)"
   ]
  },
  {
   "cell_type": "markdown",
   "metadata": {},
   "source": [
    "# importar librería Random"
   ]
  },
  {
   "cell_type": "code",
   "execution_count": 42,
   "metadata": {},
   "outputs": [],
   "source": [
    "# síntaxis: import NAMEdeLibrería\n",
    "\n",
    "import random"
   ]
  },
  {
   "cell_type": "code",
   "execution_count": 43,
   "metadata": {},
   "outputs": [
    {
     "data": {
      "text/plain": [
       "5"
      ]
     },
     "execution_count": 43,
     "metadata": {},
     "output_type": "execute_result"
    }
   ],
   "source": [
    "# síntaxis para usar la librería. \n",
    "#NAME_Libreria.función()\n",
    "\n",
    "n=random.randint(1,6)\n",
    "n"
   ]
  },
  {
   "cell_type": "code",
   "execution_count": 4,
   "metadata": {},
   "outputs": [
    {
     "name": "stdout",
     "output_type": "stream",
     "text": [
      "4\n"
     ]
    }
   ],
   "source": [
    "#otra manera de importar: import NAME_LIBRERIA as alias\n",
    "\n",
    "import random as rd\n",
    "n=rd.randint(1,6)\n",
    "print(n)"
   ]
  },
  {
   "cell_type": "code",
   "execution_count": 7,
   "metadata": {},
   "outputs": [
    {
     "name": "stdout",
     "output_type": "stream",
     "text": [
      "5\n"
     ]
    }
   ],
   "source": [
    "# importar sólo función de la librerái\n",
    "#Síntaxs: from NAME_LIBRERIA import nameFUNCIÖN1, nameFUNCIÖN2\n",
    "\n",
    "from random import randint\n",
    "n=rd.randint(1,6)\n",
    "print(n)"
   ]
  },
  {
   "cell_type": "code",
   "execution_count": 8,
   "metadata": {},
   "outputs": [
    {
     "data": {
      "text/plain": [
       "3"
      ]
     },
     "execution_count": 8,
     "metadata": {},
     "output_type": "execute_result"
    }
   ],
   "source": [
    "# otra forma de importa:\n",
    "# síntaxis: from NAMELIBRERIA import*\n",
    "# el * significa que se importarán todas las funciones de la librería\n",
    "\n",
    "from random import*\n",
    "n=randint(1,6)\n",
    "n"
   ]
  },
  {
   "cell_type": "markdown",
   "metadata": {},
   "source": [
    "# función RANDINT de librería RANDOM"
   ]
  },
  {
   "cell_type": "code",
   "execution_count": 45,
   "metadata": {},
   "outputs": [
    {
     "data": {
      "text/plain": [
       "2"
      ]
     },
     "execution_count": 45,
     "metadata": {},
     "output_type": "execute_result"
    }
   ],
   "source": [
    "# randint--> Síntaxis: randint(int1, int2) \n",
    "\n",
    "# es una fucnión que recibe ENTERO1 y ENTERO2, retorna un inetero entre los extremos señalados incluyéndolos\n",
    "\n",
    "from random import*\n",
    "n=randint(1,100) # devolverá un número entero aleatorio entre 1 y 100\n",
    "n"
   ]
  },
  {
   "cell_type": "code",
   "execution_count": 10,
   "metadata": {},
   "outputs": [
    {
     "name": "stdout",
     "output_type": "stream",
     "text": [
      "4\n"
     ]
    }
   ],
   "source": [
    "#randrange-->síntaxis: randrange(int1)\n",
    "\n",
    "# retorna un entero entre 0 a int1, sin incluir int1\n",
    "\n",
    "x=randrange(6)\n",
    "print(x)"
   ]
  },
  {
   "cell_type": "code",
   "execution_count": 46,
   "metadata": {},
   "outputs": [
    {
     "data": {
      "text/plain": [
       "4"
      ]
     },
     "execution_count": 46,
     "metadata": {},
     "output_type": "execute_result"
    }
   ],
   "source": [
    "x=randrange(1,6)\n",
    "x"
   ]
  },
  {
   "cell_type": "code",
   "execution_count": 47,
   "metadata": {},
   "outputs": [
    {
     "name": "stdout",
     "output_type": "stream",
     "text": [
      "1\n",
      "1 Gaby\n"
     ]
    }
   ],
   "source": [
    "# indexar ínices a una lista, usando randrange\n",
    "\n",
    "\n",
    "estudiantes=[\"Axell\", \"Gaby\", \"MEl\", \"Brayan\", \"Karla\"]\n",
    "indice=randrange(len(estudiantes))#randrange va de 0 a num Deseado\n",
    "print(indice)\n",
    "estudiantes=estudiantes[indice]\n",
    "print(indice, estudiantes) # imprime el índice junto con su nombre"
   ]
  },
  {
   "cell_type": "code",
   "execution_count": 52,
   "metadata": {},
   "outputs": [
    {
     "name": "stdout",
     "output_type": "stream",
     "text": [
      "0 Axell\n"
     ]
    }
   ],
   "source": [
    "# indexar índices a una lista usando randint:\n",
    "\n",
    "\n",
    "estudiantes=[\"Axell\", \"Gaby\", \"MEl\", \"Brayan\", \"Karla\"]\n",
    "indice=randint(0,len(estudiantes)-1)#randint va de NUM1 al NUM2 que se especifica\n",
    "estudiantes=estudiantes[indice]\n",
    "print(indice, estudiantes)"
   ]
  },
  {
   "cell_type": "code",
   "execution_count": 21,
   "metadata": {},
   "outputs": [
    {
     "name": "stdout",
     "output_type": "stream",
     "text": [
      "40\n"
     ]
    }
   ],
   "source": [
    "# randrange con salto-->síntaxis:randrange(int1, int2, int3)\n",
    "\n",
    "#retorna un entero entre int1 e int2 con saltos de int3, sin incluir int2\n",
    "\n",
    "n=randrange(0,50,10)\n",
    "print(n)"
   ]
  },
  {
   "cell_type": "code",
   "execution_count": 9,
   "metadata": {},
   "outputs": [
    {
     "name": "stdout",
     "output_type": "stream",
     "text": [
      "Número aleatorio entre 0 y 1 es:  0.1562931757447672\n"
     ]
    }
   ],
   "source": [
    "# random()\n",
    "\n",
    "#retorna un decimal entre 0 y 1, sin incluir el 1\n",
    "\n",
    "from random import*\n",
    "\n",
    "n=random()\n",
    "print(\"Número aleatorio entre 0 y 1 es: \", n)"
   ]
  },
  {
   "cell_type": "code",
   "execution_count": 27,
   "metadata": {},
   "outputs": [
    {
     "name": "stdout",
     "output_type": "stream",
     "text": [
      "imprime un número decimal aleatorio entre 1 y 10:  5.2256105381040365\n"
     ]
    }
   ],
   "source": [
    "# uniform---> uniform(int1, int2)\n",
    "\n",
    "#retorna un núm decimal entre int1 y int2, incluyendo extremos:\n",
    "\n",
    "n=uniform(1,10)\n",
    "print(\"imprime un número decimal aleatorio entre 1 y 10: \", n)"
   ]
  },
  {
   "cell_type": "code",
   "execution_count": 10,
   "metadata": {},
   "outputs": [
    {
     "name": "stdout",
     "output_type": "stream",
     "text": [
      "letra aleatorio de ´OsoBear´ es:  O\n"
     ]
    }
   ],
   "source": [
    "# choice-->sintaxis:choice(str1)\n",
    "\n",
    "# retorna uns str(carácter) aleatorio de str\n",
    "\n",
    "x=\"OsoBear\"\n",
    "ext_letra=choice(x)\n",
    "print(\"letra aleatorio de ´OsoBear´ es: \",ext_letra)"
   ]
  },
  {
   "cell_type": "code",
   "execution_count": 11,
   "metadata": {},
   "outputs": [
    {
     "data": {
      "text/plain": [
       "'l'"
      ]
     },
     "execution_count": 11,
     "metadata": {},
     "output_type": "execute_result"
    }
   ],
   "source": [
    "a= \"el_oso-es*enorme\"\n",
    "z=choice(a)\n",
    "z"
   ]
  },
  {
   "cell_type": "code",
   "execution_count": 57,
   "metadata": {},
   "outputs": [
    {
     "name": "stdout",
     "output_type": "stream",
     "text": [
      "el estudiante aleatorio seleccionado es:  Karla\n"
     ]
    }
   ],
   "source": [
    "estudiantes=[\"Axell\", \"Gaby\", \"MEl\", \"Brayan\", \"Karla\"]\n",
    "alumno=choice(estudiantes)\n",
    "print(\"el estudiante aleatorio seleccionado es: \",alumno)"
   ]
  },
  {
   "cell_type": "code",
   "execution_count": 58,
   "metadata": {},
   "outputs": [
    {
     "name": "stdout",
     "output_type": "stream",
     "text": [
      "Los dos estudiantes elegidos al azar fueron:  ['Karla', 'MEl']\n"
     ]
    }
   ],
   "source": [
    "# sample-->sintaxis: sample(list1,int1)\n",
    "\n",
    "#retorna una lsita con int1 elementos diferentes elegidos al azar de list1\n",
    "\n",
    "mini_lista=sample(estudiantes,2)\n",
    "print(\"Los dos estudiantes elegidos al azar fueron: \", mini_lista)"
   ]
  },
  {
   "cell_type": "code",
   "execution_count": 43,
   "metadata": {},
   "outputs": [
    {
     "name": "stdout",
     "output_type": "stream",
     "text": [
      "Las 3 letras elegidas al azas de  OsoBear fueron:  ['o', 's', 'e']\n"
     ]
    }
   ],
   "source": [
    "o=\"OsoBear\"\n",
    "x=sample(o,3)\n",
    "print(\"Las 3 letras elegidas al azas de \",o, \"fueron: \",x)"
   ]
  },
  {
   "cell_type": "code",
   "execution_count": 59,
   "metadata": {},
   "outputs": [
    {
     "data": {
      "text/plain": [
       "[2, 3, 1, 'D', 'A', 4, 'C', 'B']"
      ]
     },
     "execution_count": 59,
     "metadata": {},
     "output_type": "execute_result"
    }
   ],
   "source": [
    "# shuffle -->síntaxis: shuffle(list1)\n",
    "\n",
    "#NO retorna nada, sólo mezcal o combina aleatoriamente el orden de los elementos de una lista:\n",
    "\n",
    "p_inicial=[\"A\", \"B\", \"C\", \"D\", 1, 2, 3, 4,]\n",
    "shuffle(p_inicial)\n",
    "p_inicial"
   ]
  },
  {
   "cell_type": "code",
   "execution_count": 12,
   "metadata": {},
   "outputs": [
    {
     "name": "stdout",
     "output_type": "stream",
     "text": [
      "O _  _ O\n",
      "Ingrese la palabra que considere adecuada según la lista: oso\n",
      "¿Ganó?  False\n"
     ]
    }
   ],
   "source": [
    "# ejercicio: crea un programa que selecciona una palarba aleatoria, y que la palabra muestre, por ejemplo P _ _ _ _ s\n",
    "# el usuario debe ingresar una palabra, si es la palabra se debemoestrar TRUE\n",
    "\n",
    "\n",
    "\n",
    "import random as rd # importar libreria\n",
    "palabras=[\"Capuchino\", \"Café\", \"Oreo\", \"Pollos\", \"Programación\"] # crear lista\n",
    "indice=rd.randint(0,len(palabras)-1) # 0 1 2 3 4--> retorna indices aleatorio de cada elemento de lista\n",
    "pal=palabras[indice].upper() # indexar los indices a cada palabra; y poner lista en mayúsculas\n",
    "##  print(indice,pal) #ej. si palabra aleatoria fuera P O L L O\n",
    "\n",
    "letrapri=pal[0] # P <-- primera letra de la palabra aleatoria\n",
    "letrault=pal[-1] # S <-- última letra de palabra aleatoria\n",
    "n=len(pal)-2 # <-- contar carácter de la palabra aleatoria y restarle 2 (letra incial y final)\n",
    "subguion=n * \" _ \" # <-- multiplicar n (núm de letras -2) por espacios\n",
    "pista= letrapri + subguion + letrault # <-- pista es poner 1ra letra -- Guiones-- y ultima letra\n",
    "print(pista)\n",
    "\n",
    "\n",
    "# para el usuario\n",
    "\n",
    "usuario=input(\"Ingrese la palabra que considere adecuada según la lista: \").upper()\n",
    "cond=usuario==pal\n",
    "print(\"¿Ganó? \", cond)"
   ]
  },
  {
   "cell_type": "code",
   "execution_count": null,
   "metadata": {},
   "outputs": [],
   "source": [
    "# crea un programa que simule el juego del ahorcado\n",
    "# suprograma debe seleccionar una palabra aleatoria de una lista\n",
    "#luego selecciona una letra aleatoria de esa palabra para poder mostrarla en la pista\n",
    "# ej. si la palabra es ESPOL y la lestra aleatoria es P,  entonces el programa debe mostrar al usuruaio _ _ p _ _\n",
    "# el usuario debe ingresar una palabra y si es igual a la palabra alaeatoria mostrar TRUE\n",
    "\n",
    "# importar libreria random\n",
    "palabras=[\"Capuchino\", \"Café\", \"Oreo\", \"Pollos\", \"Programación\"] # crear lista\n",
    "p_elegida=rd.choice(palabras).upper() # elegir una palaraba aleatoria\n",
    "#print(p_elegida)\n",
    "indice=rd.randint(0,len(p_elegida)-1) #sacar un índice aleatorio de dicha palabra elegida\n",
    "letra=p_elegida[indice] # indexar el índice a la palabra elegida\n",
    "#letra\n",
    "\n",
    "npri=len(p_elegida[:indice]) # busca posición desde el inicio hasta el índice aleatorio\n",
    "nult=len(p_elegida[indice +1:]) # busca posición despues del indice seleccionado\n",
    "\n",
    "pista=(npri * \" _ \") + letra + (nult* \" _ \") # mostrar; _ _ P _ _ \n",
    "print(pista)\n",
    "\n",
    "usuario=input(\"Adivina la palabra: \").upper() # usuario inserta palabra\n",
    "cond=usuario == p_elegida # comparación de palabras, si son iguales: TRUE\n",
    "print(\"¿Ganó?: \", cond)"
   ]
  },
  {
   "cell_type": "markdown",
   "metadata": {},
   "source": [
    "# sentencia condiconal\n",
    "\n",
    "## if else"
   ]
  },
  {
   "cell_type": "code",
   "execution_count": null,
   "metadata": {},
   "outputs": [],
   "source": [
    "# es una estructura de control que permite ejectuar sentencias cuando se cumplan ciertas condicones (Booleanas)"
   ]
  },
  {
   "cell_type": "code",
   "execution_count": 113,
   "metadata": {},
   "outputs": [
    {
     "name": "stdout",
     "output_type": "stream",
     "text": [
      "ingresa un número deseado para conocer si es par o no: 123\n",
      "De acuerdo al númeor ingresaso su número es par:  False\n"
     ]
    }
   ],
   "source": [
    "numero = int(input(\"ingresa un número deseado para conocer si es par o no: \"))\n",
    "residuo= (numero%2) # extraer el resto del número dividido entre 2\n",
    "cond=residuo==0  # resto igual a cero signfica que es par, TRUE\n",
    "print(\"De acuerdo al númeor ingresaso su número es par: \", cond)"
   ]
  },
  {
   "cell_type": "code",
   "execution_count": 116,
   "metadata": {},
   "outputs": [
    {
     "name": "stdout",
     "output_type": "stream",
     "text": [
      "ingresa un número entero: 23\n",
      "Fin de cálculo\n"
     ]
    }
   ],
   "source": [
    "# usando if\n",
    "\n",
    "numero= int(input(\"ingresa un número entero: \"))\n",
    "resto= numero%2 # extraer residuo del \"numero\"/2, si residuo es 0, es par\n",
    "if (resto == 0) : # \"si\"--> codicion\n",
    "    print(\"Tu número ingresado es par\") # si condición es TRUE lee esta línea, sino se la salta\n",
    "print(\"Fin de cálculo\") # instrucción fuera del IF"
   ]
  },
  {
   "cell_type": "code",
   "execution_count": 13,
   "metadata": {},
   "outputs": [
    {
     "name": "stdout",
     "output_type": "stream",
     "text": [
      "ingresa un número entero: 45\n",
      "Fin de cálculo\n"
     ]
    }
   ],
   "source": [
    "numero= int(input(\"ingresa un número entero: \"))\n",
    "resto= numero%2 # extraer residuo del \"numero\"/2, si residuo es 0, es par\n",
    "if (resto == 0 and numero > 120) : # \"si\"--> dos condiciones\n",
    "    print(\"Tu número ingresado es par y mayor a 120\") # si condición es TRUE lee esta línea, sino se la salta\n",
    "print(\"Fin de cálculo\") # instrucción fuera del IF"
   ]
  },
  {
   "cell_type": "code",
   "execution_count": 129,
   "metadata": {},
   "outputs": [
    {
     "name": "stdout",
     "output_type": "stream",
     "text": [
      "Bienvenido a mi programa\n",
      "Ingrese su URL: httP.goberno.mx\n",
      "Su página WEB es segura\n",
      "Fin del programa\n"
     ]
    }
   ],
   "source": [
    "# lectura\n",
    "\n",
    "print(\"Bienvenido a mi programa\")\n",
    "url=str(input(\"Ingrese su URL: \")).upper()\n",
    "if url .startswith(\"HTTPS\"):\n",
    "    print(\"Su página WEB es segura\")\n",
    "print(\"Fin del programa\")"
   ]
  },
  {
   "cell_type": "markdown",
   "metadata": {},
   "source": [
    "# bifurcaciones"
   ]
  },
  {
   "cell_type": "code",
   "execution_count": 130,
   "metadata": {},
   "outputs": [
    {
     "name": "stdout",
     "output_type": "stream",
     "text": [
      "Bienvenido a mi programa\n",
      "Ingrese su URL: http:facebook.com.mx\n",
      "Tu pagina para nada del mundo es segura\n",
      "fin del programa\n"
     ]
    }
   ],
   "source": [
    "# es una estrucutra de control que permite ejecutar sentencias cuando se\n",
    "# cumplan ciertas condicones (Booleana) y otras sentencias cuando no\n",
    "\n",
    "\n",
    "print(\"Bienvenido a mi programa\")\n",
    "url=str(input(\"Ingrese su URL: \")).upper()\n",
    "if url .startswith(\"HTTPS\"):\n",
    "    print(\"Su página WEB es segura\")\n",
    "else:  # no se pone condición en else\n",
    "    print(\"Tu pagina para nada del mundo es segura\")\n",
    "print(\"fin del programa\")"
   ]
  },
  {
   "cell_type": "markdown",
   "metadata": {},
   "source": [
    "# elif"
   ]
  },
  {
   "cell_type": "code",
   "execution_count": null,
   "metadata": {},
   "outputs": [],
   "source": [
    "# la construcción if ... else ... se puede extender añadiendo la instrucción\n",
    "# elif cuantas veces uno quiera\n",
    "# dicha instrucción permite encadenar varias condiciones\n"
   ]
  },
  {
   "cell_type": "code",
   "execution_count": 141,
   "metadata": {},
   "outputs": [
    {
     "name": "stdout",
     "output_type": "stream",
     "text": [
      "Por favor, ingrese su edad:17\n",
      "De acuerdo a su edad, usted es considerado un ADOLECENTE\n",
      "Muchas gracias\n"
     ]
    }
   ],
   "source": [
    "# ejercicio:\n",
    "\n",
    "\n",
    "# adulto: si la edad es mayor o igual a 18\n",
    "# adolecente: si edad es mayor o igual a 12 y menor a 18\n",
    "# niño: si edad es mayor igual a 6 y menor a 12\n",
    "# bebe: si edad es menor a 6\n",
    "\n",
    "edad=int(input(\"Por favor, ingrese su edad:\"))\n",
    "if edad > 18:\n",
    "    print(\"De acuerdo a su edad, usted es considerado un ADULTO\")\n",
    "elif (edad>= 12): #  and edad<18 <-- YA NO ES NECESARO PONER ESTA ACLARACIÓN\n",
    "    print(\"De acuerdo a su edad, usted es considerado un ADOLECENTE\")\n",
    "elif (edad>= 6 ):  # and edad<12 <-- YA NO ES NECESARO ACLARAR, YA DESDE EL IF Y ANTERIO ELIF SE SEÑALA\n",
    "    print(\"De acuerdo a su edad, usted es considerado un NIÑO\")\n",
    "elif (edad<6):\n",
    "    print(\"De acuerdo a sus edad, usted es considerado un BEBÉ\")\n",
    "print(\"Muchas gracias\")"
   ]
  },
  {
   "cell_type": "markdown",
   "metadata": {},
   "source": [
    "# for"
   ]
  },
  {
   "cell_type": "code",
   "execution_count": null,
   "metadata": {},
   "outputs": [],
   "source": [
    "# es una estructura de control que permite repetir sentencias (bloque de instrucciones)\n",
    "#  un número determinado de veces\n",
    "# sintaxis:    for VARIABLE ELEMENTO_ITERABLE (list, cadena, range, etc):\n",
    "#                  sentencia1\n",
    "#                  sentencia2\n",
    "#                  sentencia3\n",
    "\n",
    "\n"
   ]
  },
  {
   "cell_type": "code",
   "execution_count": 15,
   "metadata": {},
   "outputs": [
    {
     "name": "stdout",
     "output_type": "stream",
     "text": [
      "INICIO\n",
      "HOLA Perri 0\n",
      "HOLA Perri 1\n",
      "HOLA Perri 2\n",
      "HOLA Perri 3\n",
      "HOLA Perri 4\n",
      "FIN\n"
     ]
    }
   ],
   "source": [
    "# for VARIABLE in RANGE(n):\n",
    "#      curpo de bucle\n",
    "\n",
    "# usar la función RANGE nos permitirá controlar el número de\n",
    "# ciclos o iteraciones en un bucle for\n",
    "\n",
    "\n",
    "print(\"INICIO\")\n",
    "n=5\n",
    "for i in range(n): # i significa el índice 0 1 2 3 4 --> en total son 5, por n=5\n",
    "    print(\"HOLA Perri\", i)\n",
    "print(\"FIN\")"
   ]
  },
  {
   "cell_type": "code",
   "execution_count": 149,
   "metadata": {},
   "outputs": [
    {
     "name": "stdout",
     "output_type": "stream",
     "text": [
      "2\n",
      "3\n",
      "4\n",
      "5\n",
      "6\n",
      "7\n"
     ]
    }
   ],
   "source": [
    "# for VARIRABLE in RANGE(inico, fin)\n",
    "for x in range(2,8):\n",
    "    print(x)"
   ]
  },
  {
   "cell_type": "code",
   "execution_count": 150,
   "metadata": {},
   "outputs": [
    {
     "name": "stdout",
     "output_type": "stream",
     "text": [
      "2\n",
      "4\n",
      "6\n"
     ]
    }
   ],
   "source": [
    "# for VARIRABLE in RANGE(inico, fin, salto)\n",
    "for y in range(2,8,2):\n",
    "    print(y)"
   ]
  },
  {
   "cell_type": "code",
   "execution_count": 16,
   "metadata": {},
   "outputs": [
    {
     "name": "stdout",
     "output_type": "stream",
     "text": [
      "Ingrese un número que desee multiplicar: 8\n",
      "0 x 8 = 0\n",
      "1 x 8 = 8\n",
      "2 x 8 = 16\n",
      "3 x 8 = 24\n",
      "4 x 8 = 32\n",
      "5 x 8 = 40\n",
      "6 x 8 = 48\n",
      "7 x 8 = 56\n",
      "8 x 8 = 64\n",
      "9 x 8 = 72\n"
     ]
    }
   ],
   "source": [
    "# presenta la tabla de multiplicar de un núm ingresado por el usuario\n",
    "\n",
    "num=int(input(\"Ingrese un número que desee multiplicar: \"))\n",
    "for i in range(10):\n",
    "    resultado= i*num\n",
    "    print(i,\"x\",num, \"=\", resultado)"
   ]
  },
  {
   "cell_type": "code",
   "execution_count": 161,
   "metadata": {},
   "outputs": [
    {
     "name": "stdout",
     "output_type": "stream",
     "text": [
      "0 x 1 = 0\n",
      "1 x 1 = 1\n",
      "2 x 1 = 2\n",
      "3 x 1 = 3\n",
      "4 x 1 = 4\n",
      "5 x 1 = 5\n",
      "6 x 1 = 6\n",
      "7 x 1 = 7\n",
      "8 x 1 = 8\n",
      "9 x 1 = 9\n",
      "0 x 2 = 0\n",
      "1 x 2 = 2\n",
      "2 x 2 = 4\n",
      "3 x 2 = 6\n",
      "4 x 2 = 8\n",
      "5 x 2 = 10\n",
      "6 x 2 = 12\n",
      "7 x 2 = 14\n",
      "8 x 2 = 16\n",
      "9 x 2 = 18\n",
      "0 x 3 = 0\n",
      "1 x 3 = 3\n",
      "2 x 3 = 6\n",
      "3 x 3 = 9\n",
      "4 x 3 = 12\n",
      "5 x 3 = 15\n",
      "6 x 3 = 18\n",
      "7 x 3 = 21\n",
      "8 x 3 = 24\n",
      "9 x 3 = 27\n",
      "0 x 4 = 0\n",
      "1 x 4 = 4\n",
      "2 x 4 = 8\n",
      "3 x 4 = 12\n",
      "4 x 4 = 16\n",
      "5 x 4 = 20\n",
      "6 x 4 = 24\n",
      "7 x 4 = 28\n",
      "8 x 4 = 32\n",
      "9 x 4 = 36\n",
      "0 x 5 = 0\n",
      "1 x 5 = 5\n",
      "2 x 5 = 10\n",
      "3 x 5 = 15\n",
      "4 x 5 = 20\n",
      "5 x 5 = 25\n",
      "6 x 5 = 30\n",
      "7 x 5 = 35\n",
      "8 x 5 = 40\n",
      "9 x 5 = 45\n",
      "0 x 6 = 0\n",
      "1 x 6 = 6\n",
      "2 x 6 = 12\n",
      "3 x 6 = 18\n",
      "4 x 6 = 24\n",
      "5 x 6 = 30\n",
      "6 x 6 = 36\n",
      "7 x 6 = 42\n",
      "8 x 6 = 48\n",
      "9 x 6 = 54\n",
      "0 x 7 = 0\n",
      "1 x 7 = 7\n",
      "2 x 7 = 14\n",
      "3 x 7 = 21\n",
      "4 x 7 = 28\n",
      "5 x 7 = 35\n",
      "6 x 7 = 42\n",
      "7 x 7 = 49\n",
      "8 x 7 = 56\n",
      "9 x 7 = 63\n",
      "0 x 8 = 0\n",
      "1 x 8 = 8\n",
      "2 x 8 = 16\n",
      "3 x 8 = 24\n",
      "4 x 8 = 32\n",
      "5 x 8 = 40\n",
      "6 x 8 = 48\n",
      "7 x 8 = 56\n",
      "8 x 8 = 64\n",
      "9 x 8 = 72\n",
      "0 x 9 = 0\n",
      "1 x 9 = 9\n",
      "2 x 9 = 18\n",
      "3 x 9 = 27\n",
      "4 x 9 = 36\n",
      "5 x 9 = 45\n",
      "6 x 9 = 54\n",
      "7 x 9 = 63\n",
      "8 x 9 = 72\n",
      "9 x 9 = 81\n"
     ]
    }
   ],
   "source": [
    "# para relizar dicha operación con todas las tablas de multiplicar\n",
    "for n in range (1,10):\n",
    "    for i in range(10):\n",
    "        resultado= i*n\n",
    "        print(i,\"x\",n, \"=\", resultado)"
   ]
  },
  {
   "cell_type": "code",
   "execution_count": 163,
   "metadata": {},
   "outputs": [
    {
     "name": "stdout",
     "output_type": "stream",
     "text": [
      "---Tabla 1---\n",
      "0 x 1 = 0\n",
      "1 x 1 = 1\n",
      "2 x 1 = 2\n",
      "3 x 1 = 3\n",
      "4 x 1 = 4\n",
      "5 x 1 = 5\n",
      "6 x 1 = 6\n",
      "7 x 1 = 7\n",
      "8 x 1 = 8\n",
      "9 x 1 = 9\n",
      "---Tabla 2---\n",
      "0 x 2 = 0\n",
      "1 x 2 = 2\n",
      "2 x 2 = 4\n",
      "3 x 2 = 6\n",
      "4 x 2 = 8\n",
      "5 x 2 = 10\n",
      "6 x 2 = 12\n",
      "7 x 2 = 14\n",
      "8 x 2 = 16\n",
      "9 x 2 = 18\n",
      "---Tabla 3---\n",
      "0 x 3 = 0\n",
      "1 x 3 = 3\n",
      "2 x 3 = 6\n",
      "3 x 3 = 9\n",
      "4 x 3 = 12\n",
      "5 x 3 = 15\n",
      "6 x 3 = 18\n",
      "7 x 3 = 21\n",
      "8 x 3 = 24\n",
      "9 x 3 = 27\n",
      "---Tabla 4---\n",
      "0 x 4 = 0\n",
      "1 x 4 = 4\n",
      "2 x 4 = 8\n",
      "3 x 4 = 12\n",
      "4 x 4 = 16\n",
      "5 x 4 = 20\n",
      "6 x 4 = 24\n",
      "7 x 4 = 28\n",
      "8 x 4 = 32\n",
      "9 x 4 = 36\n",
      "---Tabla 5---\n",
      "0 x 5 = 0\n",
      "1 x 5 = 5\n",
      "2 x 5 = 10\n",
      "3 x 5 = 15\n",
      "4 x 5 = 20\n",
      "5 x 5 = 25\n",
      "6 x 5 = 30\n",
      "7 x 5 = 35\n",
      "8 x 5 = 40\n",
      "9 x 5 = 45\n",
      "---Tabla 6---\n",
      "0 x 6 = 0\n",
      "1 x 6 = 6\n",
      "2 x 6 = 12\n",
      "3 x 6 = 18\n",
      "4 x 6 = 24\n",
      "5 x 6 = 30\n",
      "6 x 6 = 36\n",
      "7 x 6 = 42\n",
      "8 x 6 = 48\n",
      "9 x 6 = 54\n",
      "---Tabla 7---\n",
      "0 x 7 = 0\n",
      "1 x 7 = 7\n",
      "2 x 7 = 14\n",
      "3 x 7 = 21\n",
      "4 x 7 = 28\n",
      "5 x 7 = 35\n",
      "6 x 7 = 42\n",
      "7 x 7 = 49\n",
      "8 x 7 = 56\n",
      "9 x 7 = 63\n",
      "---Tabla 8---\n",
      "0 x 8 = 0\n",
      "1 x 8 = 8\n",
      "2 x 8 = 16\n",
      "3 x 8 = 24\n",
      "4 x 8 = 32\n",
      "5 x 8 = 40\n",
      "6 x 8 = 48\n",
      "7 x 8 = 56\n",
      "8 x 8 = 64\n",
      "9 x 8 = 72\n",
      "---Tabla 9---\n",
      "0 x 9 = 0\n",
      "1 x 9 = 9\n",
      "2 x 9 = 18\n",
      "3 x 9 = 27\n",
      "4 x 9 = 36\n",
      "5 x 9 = 45\n",
      "6 x 9 = 54\n",
      "7 x 9 = 63\n",
      "8 x 9 = 72\n",
      "9 x 9 = 81\n"
     ]
    }
   ],
   "source": [
    "for n in range (1,10):\n",
    "    print(\"---Tabla \"+str(n)+\"---\")\n",
    "    for i in range(10):\n",
    "        resultado= i*n\n",
    "        print(i,\"x\",n, \"=\", resultado)"
   ]
  },
  {
   "cell_type": "markdown",
   "metadata": {},
   "source": [
    "# for variable in cadena"
   ]
  },
  {
   "cell_type": "code",
   "execution_count": 17,
   "metadata": {},
   "outputs": [
    {
     "name": "stdout",
     "output_type": "stream",
     "text": [
      "E Wuola  Eduardo\n",
      "d Wuola  Eduardo\n",
      "u Wuola  Eduardo\n",
      "a Wuola  Eduardo\n",
      "r Wuola  Eduardo\n",
      "d Wuola  Eduardo\n",
      "o Wuola  Eduardo\n"
     ]
    }
   ],
   "source": [
    "# la cantidad de ciclos se determina por el númeo de caracteres\n",
    "# que contenga la cadena, en cada ciclo variable será un caracter de cadena\n",
    "# (tomará el 1er caracter en el 1er ciclo, luego el 2do carácter)\n",
    "\n",
    "cadena=\"Eduardo\" #siete caracter\n",
    "for variable in cadena: #variable es cada carcter de la cadena: E d u a r d o\n",
    "    print(variable, \"Wuola \", cadena) # imprime 7 veces \"wuola\""
   ]
  },
  {
   "cell_type": "code",
   "execution_count": 7,
   "metadata": {},
   "outputs": [
    {
     "name": "stdout",
     "output_type": "stream",
     "text": [
      "Ingrese una palabra: Parquecito\n",
      "a\n",
      "e\n",
      "o\n"
     ]
    }
   ],
   "source": [
    "# ej. imprimir vocales abiertas de la cadena (vocal abierta:a,e,o; cerrada:i,u)\n",
    "\n",
    "cadena=input(\"Ingrese una palabra: \").lower()\n",
    "for caracter in cadena:\n",
    "    if caracter in \"aeo\":\n",
    "        print(caracter)"
   ]
  },
  {
   "cell_type": "markdown",
   "metadata": {},
   "source": [
    "# for variable in lista"
   ]
  },
  {
   "cell_type": "code",
   "execution_count": 8,
   "metadata": {},
   "outputs": [
    {
     "name": "stdout",
     "output_type": "stream",
     "text": [
      "eduardo\n",
      "Eleazar\n",
      "Victoria\n",
      "Harvy\n"
     ]
    }
   ],
   "source": [
    "# la cantirdad de ciclos se determina por el núm de elementos que contenga\n",
    "# la lista, en cada ciclo variable será un elemento de la lista\n",
    "# (tomará el 1er elemento en el 1er ciclo, luego el 2do elemento)\n",
    "\n",
    "lista=[\"eduardo\", \"Eleazar\", \"Victoria\", \"Harvy\"]\n",
    "for cadena in lista:\n",
    "    print(cadena) # imprime 4 ciclos con cada elemento de la cadena\n",
    "    "
   ]
  },
  {
   "cell_type": "code",
   "execution_count": 9,
   "metadata": {},
   "outputs": [
    {
     "name": "stdout",
     "output_type": "stream",
     "text": [
      "---eduardo---\n",
      "e\n",
      "a\n",
      "o\n",
      "---Eleazar---\n",
      "e\n",
      "e\n",
      "a\n",
      "a\n",
      "---Victoria---\n",
      "o\n",
      "a\n",
      "---Harvy---\n",
      "a\n",
      "Fin del programa\n"
     ]
    }
   ],
   "source": [
    "# vocales abiertas de cada cadena\n",
    "\n",
    "lista=[\"eduardo\", \"Eleazar\", \"Victoria\", \"Harvy\"]\n",
    "for cadena in lista:\n",
    "    print(\"---\" + cadena + \"---\")\n",
    "    for pato in cadena:\n",
    "        mini=pato.lower()\n",
    "        if mini in \"aeo\":\n",
    "            print(mini)\n",
    "print(\"Fin del programa\")"
   ]
  },
  {
   "cell_type": "markdown",
   "metadata": {},
   "source": [
    "# bucle por índices"
   ]
  },
  {
   "cell_type": "code",
   "execution_count": 11,
   "metadata": {},
   "outputs": [
    {
     "name": "stdout",
     "output_type": "stream",
     "text": [
      "0 moras\n",
      "1 manzanas\n",
      "2 mango\n",
      "3 naranaja\n"
     ]
    }
   ],
   "source": [
    "frutas=[\"moras\", \"manzanas\", \"mango\", \"naranaja\"]\n",
    "#          0         1          3         4         <-- índices\n",
    "for i in range(len(frutas)):\n",
    "    fruta=frutas[i] #indexar índice a frutas\n",
    "    print(i, fruta)"
   ]
  },
  {
   "cell_type": "code",
   "execution_count": 14,
   "metadata": {},
   "outputs": [
    {
     "name": "stdout",
     "output_type": "stream",
     "text": [
      "Lista de compras de la semana: \n",
      "1 .- moras\n",
      "2 .- manzanas\n",
      "3 .- mango\n",
      "4 .- naranaja\n"
     ]
    }
   ],
   "source": [
    "frutas=[\"moras\", \"manzanas\", \"mango\", \"naranaja\"]\n",
    "#          0         1          3         4         <-- índices\n",
    "print(\"Lista de compras de la semana: \")\n",
    "for i in range(len(frutas)):\n",
    "    fruta=frutas[i] #indexar índice a frutas\n",
    "    print(i+1,\".-\", fruta)"
   ]
  },
  {
   "cell_type": "code",
   "execution_count": 18,
   "metadata": {},
   "outputs": [
    {
     "name": "stdout",
     "output_type": "stream",
     "text": [
      "Lista de compras de la semana menores a $15 por kilogramo: \n",
      "moras 12.5\n",
      "naranaja 10.0\n"
     ]
    }
   ],
   "source": [
    "frutas=[\"moras\", \"manzanas\", \"mango\", \"naranaja\"]\n",
    "precioxkg=[12.5, 15.0, 19.5, 10.0]\n",
    "print(\"Lista de compras de la semana menores a $15 por kilogramo: \")\n",
    "for i in range(len(frutas)):\n",
    "    fruta=frutas[i]\n",
    "    precio=precioxkg[i]\n",
    "    if precio < 15:\n",
    "        print(fruta, precio)"
   ]
  },
  {
   "cell_type": "markdown",
   "metadata": {},
   "source": [
    "# bucle While"
   ]
  },
  {
   "cell_type": "code",
   "execution_count": null,
   "metadata": {},
   "outputs": [],
   "source": [
    "# es una estructura de control iterativa o de repetición, inicia o repite\n",
    "# un bloque de instrucciones si se cumple una condición o mientras se cumple una condición\n",
    "\n",
    "#síntaxis:\n",
    "# while CONDICIÖN\n",
    "#      sentencia1\n",
    "#      sentencia2\n",
    "#      sentencias3\n",
    "# ...\n"
   ]
  },
  {
   "cell_type": "code",
   "execution_count": 22,
   "metadata": {},
   "outputs": [
    {
     "name": "stdout",
     "output_type": "stream",
     "text": [
      "1\n",
      "2\n",
      "3\n",
      "4\n",
      "5\n",
      "programa terminado\n"
     ]
    }
   ],
   "source": [
    "i=1\n",
    "while i<=5: # si es TRUE (uno<cinco) continua el bloque\n",
    "    print(i)\n",
    "    i += 1\n",
    "print(\"programa terminado\")"
   ]
  },
  {
   "cell_type": "code",
   "execution_count": 28,
   "metadata": {},
   "outputs": [
    {
     "name": "stdout",
     "output_type": "stream",
     "text": [
      "Ingrese un número: dos\n",
      "por favor ingresa un número, bestia\n",
      "Ingrese un número: 3\n",
      "Gracias por ingresar correctamente el número\n"
     ]
    }
   ],
   "source": [
    "# ecribir un programa que permita el ingreso de un núm, si no ingresa un número entero\n",
    "# vuelva a perdir el númeor hasta que ingrese uno enter\n",
    "\n",
    "num=(input(\"Ingrese un número: \")) # si fuera \"A\"\n",
    "while not num.isdigit():\n",
    "    print(\"por favor ingresa un número, bestia\")\n",
    "    num=input(\"Ingrese un número: \")\n",
    "    print(\"Gracias por ingresar correctamente el número\")"
   ]
  },
  {
   "cell_type": "code",
   "execution_count": 30,
   "metadata": {},
   "outputs": [
    {
     "name": "stdout",
     "output_type": "stream",
     "text": [
      "¿Cuántos númes desea ingresar: 3\n",
      "Ingrese un número:25\n",
      "Ingrese un número:20\n",
      "Ingrese un número:5\n",
      "Total de número ingresado:  50\n"
     ]
    }
   ],
   "source": [
    "# escribir un programa que permita al usuario ingresar n números\n",
    "# 1ro preguntar al usuario cuántos numeros desea ingresar\n",
    "# al final presentar la suma de números\n",
    "\n",
    "acum=0\n",
    "cuantos = int(input(\"¿Cuántos númes desea ingresar: \"))\n",
    "ciclo=0\n",
    "while ciclo < cuantos:\n",
    "    num=int(input(\"Ingrese un número:\"))\n",
    "    acum += num\n",
    "    ciclo+=1\n",
    "print(\"Total de número ingresado: \", acum)"
   ]
  },
  {
   "cell_type": "code",
   "execution_count": 19,
   "metadata": {},
   "outputs": [
    {
     "name": "stdout",
     "output_type": "stream",
     "text": [
      "Bienvenido a tu calculadora\n",
      "1.- Suma\n",
      "2.- Resta\n",
      "3.- Salir\n",
      "Ingrese una opción:3\n",
      "gracias por usar tu calculadora\n"
     ]
    }
   ],
   "source": [
    "# elaborar una calculadora:\n",
    "\n",
    "opcion= \"\"\n",
    "while opcion != \"3\":\n",
    "    print(\"Bienvenido a tu calculadora\")\n",
    "    print(\"1.- Suma\")\n",
    "    print(\"2.- Resta\")\n",
    "    print(\"3.- Salir\")\n",
    "    opcion=input(\"Ingrese una opción:\")\n",
    "    if (opcion==\"1\"):\n",
    "        n1=float(input(\"Ingrese el primer número: \"))\n",
    "        n2=float(input(\"ingrese el segundo número: \"))\n",
    "        total=n1+n2\n",
    "        print(\"La suma de {} más {} es de: {}\".format(n1,n2, total))\n",
    "    elif (opcion==\"2\"):\n",
    "        n1=float(input(\"Ingrese el primer número: \"))\n",
    "        n2=float(input(\"ingrese el segundo número: \"))\n",
    "        total=n1-n2\n",
    "        print(\"La resta de\", n1 ,\"menos\",n2, \"es:\", total)\n",
    "    elif (opcion == \"3\"):\n",
    "        print(\"gracias por usar tu calculadora\")\n",
    "    else:\n",
    "        print(\"ingrese un numero entero entre 1 y 3 --> \")"
   ]
  },
  {
   "cell_type": "code",
   "execution_count": 1,
   "metadata": {},
   "outputs": [
    {
     "name": "stdout",
     "output_type": "stream",
     "text": [
      "¿Cuántos números desea ingresar? : 3\n",
      "--- Ciclo 1---\n",
      "ingrese el número: 5\n",
      "--- Ciclo 2---\n",
      "ingrese el número: 7\n",
      "--- Ciclo 3---\n",
      "ingrese el número: 6\n",
      "La cantidad de números pares es:  1\n",
      "La suma total de número impares es: 12\n"
     ]
    }
   ],
   "source": [
    "# ej. escriba un programa que pregunte cuantos números se van a introducir, \n",
    "# permita el acceso de dichos núm y muestre por pantalla cuántos num son \n",
    "# pares y la suma de todos los impares\n",
    "\n",
    "\n",
    "cantidad=int(input(\"¿Cuántos números desea ingresar? : \"))\n",
    "cont=0 # auxiliar para contar ciclos\n",
    "acum=0 #auxiliar de suma\n",
    "for i in range(cantidad): # i es el índice de la \"cantidad\"\n",
    "    print(\"--- Ciclo \" +str(i+1)+\"---\" ) # imprimir el ciclo correspondiente...en cada iteración\n",
    "    num=int(input(\"ingrese el número: \")) # ingresar y guardar el número de cada ciclo\n",
    "    if num%2 == 0: # si número es part \n",
    "        cont += 1\n",
    "    else:\n",
    "        acum += num\n",
    "print(\"La cantidad de números pares es: \", cont)\n",
    "print(\"La suma total de número impares es: {}\".format(acum))"
   ]
  },
  {
   "cell_type": "markdown",
   "metadata": {},
   "source": [
    "# ejercicio juego Cho Han"
   ]
  },
  {
   "cell_type": "code",
   "execution_count": 21,
   "metadata": {},
   "outputs": [
    {
     "name": "stdout",
     "output_type": "stream",
     "text": [
      "Bienvenido a Sho Han\n",
      "Usted tiene 10 en la billetera\n",
      "Ingrese Apuesta: 10\n",
      "¿Par o impar?impar\n",
      "El resultado es: 1 + 5 = 6\n",
      "!Perdió!\n",
      "Billetera: 0 \n",
      "Usted ganó 0 partidas\n",
      "Gracias por jugar\n"
     ]
    }
   ],
   "source": [
    "import random as rd\n",
    "billetera=10 # empieza el juego teniendo 10 monedas\n",
    "gana=0 #contador de cuentas veces gana\n",
    "continuar=\"si\" #partir del supuesto de que desea continuar jugando, al menos en el 1er juego\n",
    "print(\"Bienvenido a Sho Han\") # bienvenida\n",
    "print(\"Usted tiene {} en la billetera\".format(billetera)) #saldo de billetera\n",
    "while (billetera>0 and continuar==\"si\"): #si tiene dinero en billetera Y sí desea continuar(TRUE)-->ciclo\n",
    "    apuesta=int(input(\"Ingrese Apuesta: \")) #ingresar cantida a apostar\n",
    "    if apuesta <= billetera : #continuar juego si cantidad apostada es mayor o igual a billetera\n",
    "        dado1=rd.randint(1,6) #núm aleatoria de dado1\n",
    "        dado2=rd.randint(1,6) # número aleatorio de dado2\n",
    "        total=dado1+dado2 #suma de ambos dados\n",
    "        resto=total%2 #el residuo de la suma de ambos dados, si es 0, es par...sino impar\n",
    "        parimpar=input(\"¿Par o impar?\") # usurario adivina si es \"par\" o \"impar\" \n",
    "        print(\"El resultado es: {} + {} = {}\".format(dado1, dado2, total)) #imprimir resultado de dado 1 y 2, y resulado\n",
    "        if resto==0 and parimpar==\"par\": #si el residuo es 0, y usuario adivinó par-->Ganó\n",
    "            print(\"!Ganó!\") #imprimir ganó si se cumple ambas condicones\n",
    "            billetera+=apuesta # sumar a la billetera lo apostado\n",
    "            gana+=1 #sumar número de partida ganado\n",
    "        elif resto != 0 and parimpar==\"impar\": #si resto es diferente a 0 (impar) y usuario adivinó impar-->ganó\n",
    "            print(\"!Ganó!\") #ganó si cumples ambas condiciones\n",
    "            billetera += apuesta #sumar a billetera lo apostado\n",
    "            gana+=1 #sumar juego ganado al \"ganado\"\n",
    "        else: #sino se cumple ninguno de los anteriores-->perdió\n",
    "            print(\"!Perdió!\") # perdió si no se cumples condicones anteriroes\n",
    "            billetera-=apuesta #restar a billetera lo apostado\n",
    "        print(\"Billetera: {} \".format(billetera)) #mostrar cantidad contenida en billetera\n",
    "        if billetera !=0 : #si billetera es diferente de cero-->preguntar\n",
    "            continuar=input(\"¿Desea seguir jugando?\") # si tiene dinero pregunat si desea seguir jugando\n",
    "            print(\"------------------------------\") # imprimir espacio\n",
    "    else:\n",
    "        print(\"La apuesta es mayor al dinero que tiene en la billetera\") #\n",
    "print(\"Usted ganó {} partidas\".format(gana)) #mostrar juegos ganados\n",
    "print(\"Gracias por jugar\") #despedida"
   ]
  },
  {
   "cell_type": "code",
   "execution_count": 58,
   "metadata": {},
   "outputs": [
    {
     "name": "stdout",
     "output_type": "stream",
     "text": [
      "El producto con menor precio es el micrófono con valor de mercado de $5\n",
      "El precio del Mouse es de $15 cada uno\n",
      "Precio                    Producto                 \n",
      "monitor                   200                      \n",
      "audífonos                 80                       \n",
      "cámara                    40                       \n",
      "teclado                   25                       \n",
      "mouse                     15                       \n"
     ]
    }
   ],
   "source": [
    "# listas paralelas\n",
    "\n",
    "productos=[\"monitor\", \"mouse\", \"teclado\", \"micrófono\", \"cámara\", \"audífonos\"]\n",
    "precios=[200,15,25,5,40, 80]\n",
    "# nombre del producto con menor precio\n",
    "minimo=min(precios) #precio mínimo\n",
    "pos=precios.index(minimo) #busca el índice del \"precio mínimo\" \n",
    "produc=productos[pos] #busca en lista \"productos\" el índice del precio mínimo\n",
    "print(\"El producto con menor precio es el {} con valor de mercado de ${}\".format(produc,minimo))\n",
    "\n",
    "#el precio de un mouse\n",
    "posPro=productos.index(\"mouse\") #encontrar posición de mouse\n",
    "precio=precios[posPro] #encontrar el precio de acuerdo a la posición de \"mouse\"\n",
    "print(\"El precio del Mouse es de ${} cada uno\".format(precio)) #imprimir datos\n",
    "\n",
    "#presentar top 5 de productos en orden de mayor a menor según precio\n",
    "i=0 #especie de acumulado\n",
    "print(\"{:<25} {:<25}\".format(\"Precio\",\"Producto\")) #\n",
    "while i<5: #mientras i sea menor a 5\n",
    "    maxi=max(precios) #calcular precio máximo\n",
    "    posMax=precios.index(maxi) #hallar índice del precio máx\n",
    "    nombre=productos[posMax] #nombre del índice (del precio máx de LISTA de PRODUCTOS)\n",
    "    print(\"{:<25} {:<25}\".format(nombre, maxi)) #imprimir en formatos de tabla\n",
    "    del productos[posMax] #eliminar el PRODUCTOs de la posición max\n",
    "    del precios[posMax] #eliminar el PRECIO de la posición max\n",
    "    i+=1 #ir acumulando el \"i\" más úno-->sirve para el While acumulado hasta 5"
   ]
  },
  {
   "cell_type": "code",
   "execution_count": 15,
   "metadata": {},
   "outputs": [
    {
     "name": "stdout",
     "output_type": "stream",
     "text": [
      "Ingrese un número: 122\n",
      "122 % 2 = 0\n",
      "122 % 3 = 2\n",
      "122 % 4 = 2\n",
      "122 % 5 = 2\n",
      "122 % 6 = 2\n",
      "122 % 7 = 3\n",
      "122 % 8 = 2\n",
      "122 % 9 = 5\n",
      "122 % 10 = 2\n",
      "122 % 11 = 1\n",
      "122 % 12 = 2\n",
      "122 % 13 = 5\n",
      "122 % 14 = 10\n",
      "122 % 15 = 2\n",
      "122 % 16 = 10\n",
      "122 % 17 = 3\n",
      "122 % 18 = 14\n",
      "122 % 19 = 8\n",
      "122 % 20 = 2\n",
      "122 % 21 = 17\n",
      "122 % 22 = 12\n",
      "122 % 23 = 7\n",
      "122 % 24 = 2\n",
      "122 % 25 = 22\n",
      "122 % 26 = 18\n",
      "122 % 27 = 14\n",
      "122 % 28 = 10\n",
      "122 % 29 = 6\n",
      "122 % 30 = 2\n",
      "122 % 31 = 29\n",
      "122 % 32 = 26\n",
      "122 % 33 = 23\n",
      "122 % 34 = 20\n",
      "122 % 35 = 17\n",
      "122 % 36 = 14\n",
      "122 % 37 = 11\n",
      "122 % 38 = 8\n",
      "122 % 39 = 5\n",
      "122 % 40 = 2\n",
      "122 % 41 = 40\n",
      "122 % 42 = 38\n",
      "122 % 43 = 36\n",
      "122 % 44 = 34\n",
      "122 % 45 = 32\n",
      "122 % 46 = 30\n",
      "122 % 47 = 28\n",
      "122 % 48 = 26\n",
      "122 % 49 = 24\n",
      "122 % 50 = 22\n",
      "122 % 51 = 20\n",
      "122 % 52 = 18\n",
      "122 % 53 = 16\n",
      "122 % 54 = 14\n",
      "122 % 55 = 12\n",
      "122 % 56 = 10\n",
      "122 % 57 = 8\n",
      "122 % 58 = 6\n",
      "122 % 59 = 4\n",
      "122 % 60 = 2\n",
      "122 % 61 = 0\n",
      "122 % 62 = 60\n",
      "122 % 63 = 59\n",
      "122 % 64 = 58\n",
      "122 % 65 = 57\n",
      "122 % 66 = 56\n",
      "122 % 67 = 55\n",
      "122 % 68 = 54\n",
      "122 % 69 = 53\n",
      "122 % 70 = 52\n",
      "122 % 71 = 51\n",
      "122 % 72 = 50\n",
      "122 % 73 = 49\n",
      "122 % 74 = 48\n",
      "122 % 75 = 47\n",
      "122 % 76 = 46\n",
      "122 % 77 = 45\n",
      "122 % 78 = 44\n",
      "122 % 79 = 43\n",
      "122 % 80 = 42\n",
      "122 % 81 = 41\n",
      "122 % 82 = 40\n",
      "122 % 83 = 39\n",
      "122 % 84 = 38\n",
      "122 % 85 = 37\n",
      "122 % 86 = 36\n",
      "122 % 87 = 35\n",
      "122 % 88 = 34\n",
      "122 % 89 = 33\n",
      "122 % 90 = 32\n",
      "122 % 91 = 31\n",
      "122 % 92 = 30\n",
      "122 % 93 = 29\n",
      "122 % 94 = 28\n",
      "122 % 95 = 27\n",
      "122 % 96 = 26\n",
      "122 % 97 = 25\n",
      "122 % 98 = 24\n",
      "122 % 99 = 23\n",
      "122 % 100 = 22\n",
      "122 % 101 = 21\n",
      "122 % 102 = 20\n",
      "122 % 103 = 19\n",
      "122 % 104 = 18\n",
      "122 % 105 = 17\n",
      "122 % 106 = 16\n",
      "122 % 107 = 15\n",
      "122 % 108 = 14\n",
      "122 % 109 = 13\n",
      "122 % 110 = 12\n",
      "122 % 111 = 11\n",
      "122 % 112 = 10\n",
      "122 % 113 = 9\n",
      "122 % 114 = 8\n",
      "122 % 115 = 7\n",
      "122 % 116 = 6\n",
      "122 % 117 = 5\n",
      "122 % 118 = 4\n",
      "122 % 119 = 3\n",
      "122 % 120 = 2\n",
      "122 % 121 = 1\n",
      "El 122 no es un número primo\n"
     ]
    }
   ],
   "source": [
    "# crea un programa que permita identificar si el número ingresado es primo\n",
    "# es decir, es natural,mayor que 1 y divisible para sí mismo\n",
    "\n",
    "num=int(input(\"Ingrese un número: \"))\n",
    "if num>1:\n",
    "    cont=0\n",
    "    for i in range(2,num):\n",
    "        resto=num%i\n",
    "        #print(\"{} % {} = {}\".format(num,i, resto))\n",
    "        if resto==0:\n",
    "            cont+=1\n",
    "    if cont==0:\n",
    "        print(\"El {} es un número primo\".format(num))\n",
    "    else:\n",
    "        print(\"El {} no es un número primo\".format(num))\n",
    "else:\n",
    "    print(\"El {} no es un número primo\".format(num))"
   ]
  },
  {
   "cell_type": "code",
   "execution_count": 16,
   "metadata": {},
   "outputs": [
    {
     "ename": "NameError",
     "evalue": "name 'estudiantes' is not defined",
     "output_type": "error",
     "traceback": [
      "\u001b[1;31m---------------------------------------------------------------------------\u001b[0m",
      "\u001b[1;31mNameError\u001b[0m                                 Traceback (most recent call last)",
      "\u001b[1;32m<ipython-input-16-338a57fe524f>\u001b[0m in \u001b[0;36m<module>\u001b[1;34m\u001b[0m\n\u001b[0;32m      1\u001b[0m \u001b[1;31m# votación de estudiantes\u001b[0m\u001b[1;33m\u001b[0m\u001b[1;33m\u001b[0m\u001b[1;33m\u001b[0m\u001b[0m\n\u001b[1;32m----> 2\u001b[1;33m \u001b[0mestudiantes\u001b[0m\u001b[1;33m\u001b[0m\u001b[1;33m\u001b[0m\u001b[0m\n\u001b[0m",
      "\u001b[1;31mNameError\u001b[0m: name 'estudiantes' is not defined"
     ]
    }
   ],
   "source": [
    "# votación de estudiantes\n",
    "estudiantes"
   ]
  },
  {
   "cell_type": "code",
   "execution_count": 19,
   "metadata": {},
   "outputs": [
    {
     "name": "stdout",
     "output_type": "stream",
     "text": [
      "Ingresa el nombre de la persona a quien desea votat, ingresa `FIN` si desea terminar votacióneduardo\n",
      "Ingresa el nombre de la persona a quien desea votat, ingresa `FIN` si desea terminar votaciónharvy\n",
      "Ingresa el nombre de la persona a quien desea votat, ingresa `FIN` si desea terminar votacióneleazar\n",
      "Ingresa el nombre de la persona a quien desea votat, ingresa `FIN` si desea terminar votaciónvictoria\n",
      "Ingresa el nombre de la persona a quien desea votat, ingresa `FIN` si desea terminar votaciónber\n",
      "Voto no válido, no está en la lista\n",
      "Ingresa el nombre de la persona a quien desea votat, ingresa `FIN` si desea terminar votacióneleazar\n",
      "Ingresa el nombre de la persona a quien desea votat, ingresa `FIN` si desea terminar votaciónharvy\n",
      "Ingresa el nombre de la persona a quien desea votat, ingresa `FIN` si desea terminar votaciónharcy\n",
      "Voto no válido, no está en la lista\n",
      "Ingresa el nombre de la persona a quien desea votat, ingresa `FIN` si desea terminar votacióneduardo\n",
      "Ingresa el nombre de la persona a quien desea votat, ingresa `FIN` si desea terminar votacióneduardi\n",
      "Voto no válido, no está en la lista\n",
      "Ingresa el nombre de la persona a quien desea votat, ingresa `FIN` si desea terminar votaciónedaurdo\n",
      "Voto no válido, no está en la lista\n",
      "Ingresa el nombre de la persona a quien desea votat, ingresa `FIN` si desea terminar votacióneduardo\n",
      "Ingresa el nombre de la persona a quien desea votat, ingresa `FIN` si desea terminar votacióneduardo\n",
      "Ingresa el nombre de la persona a quien desea votat, ingresa `FIN` si desea terminar votacióneduardo\n",
      "Ingresa el nombre de la persona a quien desea votat, ingresa `FIN` si desea terminar votacióneduardo\n",
      "Ingresa el nombre de la persona a quien desea votat, ingresa `FIN` si desea terminar votacióneduardo\n",
      "Ingresa el nombre de la persona a quien desea votat, ingresa `FIN` si desea terminar votaciónfin\n",
      "Voto no válido, no está en la lista\n",
      "Ingresa el nombre de la persona a quien desea votat, ingresa `FIN` si desea terminar votaciónFIN\n",
      "Total de estudiantes que votó 12 \n",
      "El ganador fue Eduardo con 7 votos \n"
     ]
    }
   ],
   "source": [
    "# programa de votación para elegir a persona del mes\n",
    "lista=[\"Eduardo\", \"Eleazar\", \"Victoria\", \"Eleuterio\", \"Bernarda\",\"Harvy\"]\n",
    "contL=[0]*len(lista) # nos repite CEROS de acuerdo a dimensión de lista\n",
    "#print(contL)\n",
    "\n",
    "voto=str(input(\"Ingresa el nombre de la persona a quien desea votat, ingresa `FIN` si desea terminar votación\"))\n",
    "while (voto != \"FIN\"):\n",
    "    votoMayus =voto.capitalize()\n",
    "    if votoMayus in lista:\n",
    "        pos=lista.index(votoMayus)\n",
    "        contL[pos] +=1\n",
    "    else:\n",
    "        print(\"Voto no válido, no está en la lista\")\n",
    "    voto=str(input(\"Ingresa el nombre de la persona a quien desea votat, ingresa `FIN` si desea terminar votación\"))\n",
    "cantEst=sum(contL)\n",
    "contMax=max(contL)\n",
    "posCont=contL.index(contMax)\n",
    "gana=lista[posCont]\n",
    "print(\"Total de estudiantes que votó {} \".format(cantEst))\n",
    "print(\"El ganador fue {} con {} votos \".format (gana, contMax))\n"
   ]
  },
  {
   "cell_type": "markdown",
   "metadata": {},
   "source": [
    "# funciones \n",
    "###Una función te permite definir un bloque de código reutilizable que se puede ejecutar muchas veces dentro de tu programa\n"
   ]
  },
  {
   "cell_type": "code",
   "execution_count": 22,
   "metadata": {},
   "outputs": [
    {
     "name": "stdout",
     "output_type": "stream",
     "text": [
      "Función de mensaje\n"
     ]
    }
   ],
   "source": [
    "def mensaje():\n",
    "    print(\"Función de mensaje\")\n",
    "mensaje()"
   ]
  },
  {
   "cell_type": "code",
   "execution_count": 24,
   "metadata": {},
   "outputs": [
    {
     "name": "stdout",
     "output_type": "stream",
     "text": [
      "Ingrese el nombre del usuario: Harvy\n",
      "Bienvenido Harvy\n"
     ]
    }
   ],
   "source": [
    "def mensaje2(nombre):\n",
    "    print(\"Bienvenido\", nombre)\n",
    "\n",
    "cad=input(\"Ingrese el nombre del usuario: \")\n",
    "mensaje2(cad)"
   ]
  },
  {
   "cell_type": "code",
   "execution_count": 29,
   "metadata": {},
   "outputs": [
    {
     "data": {
      "text/plain": [
       "'Bienvenido Eduardo'"
      ]
     },
     "execution_count": 29,
     "metadata": {},
     "output_type": "execute_result"
    }
   ],
   "source": [
    "def mensaje3 (nombre):\n",
    "    cadena=\"Bienvenido \" + nombre\n",
    "    return cadena\n",
    "x=\"Eduardo\"\n",
    "mensaje3(x)\n"
   ]
  },
  {
   "cell_type": "code",
   "execution_count": 30,
   "metadata": {},
   "outputs": [
    {
     "name": "stdout",
     "output_type": "stream",
     "text": [
      "La función lenN contó 7 caracter en OsoBear\n"
     ]
    }
   ],
   "source": [
    "# recreando la función \"len\"\n",
    "\n",
    "def lenN (contador_letra):\n",
    "    cont=0\n",
    "    for caract in contador_letra:\n",
    "        cont +=1\n",
    "    return cont\n",
    "\n",
    "nombre=\"OsoBear\"\n",
    "letras=lenN(nombre)\n",
    "print(\"La función lenN contó {} caracter en {}\".format(letras,nombre))"
   ]
  },
  {
   "cell_type": "markdown",
   "metadata": {},
   "source": [
    "# Abrir un archivo"
   ]
  },
  {
   "cell_type": "code",
   "execution_count": 40,
   "metadata": {},
   "outputs": [
    {
     "name": "stdout",
     "output_type": "stream",
     "text": [
      "<_io.TextIOWrapper name='borrar.txt' mode='r' encoding='cp1252'>\n",
      "<_io.TextIOWrapper name='C:/Users/Eduardo CV/Desktop/borrar.txt' mode='r' encoding='cp1252'>\n"
     ]
    }
   ],
   "source": [
    "archivo=open(\"borrar.txt\") #apertura relativa\n",
    "print(archivo)\n",
    "\n",
    "archivo1=open(\"C:/Users/Eduardo CV/Desktop/borrar.txt\") #apertura abosoluta\n",
    "print(archivo1)\n",
    "\n",
    "\n",
    "# cerrar archivo\n",
    "\n",
    "archivo.close()\n",
    "archivo1.close()"
   ]
  },
  {
   "cell_type": "code",
   "execution_count": 54,
   "metadata": {},
   "outputs": [
    {
     "name": "stdout",
     "output_type": "stream",
     "text": [
      "<_io.TextIOWrapper name='C:/Users/Eduardo CV/Desktop/borrar.txt' mode='r' encoding='cp1252'>\n"
     ]
    }
   ],
   "source": [
    "# abrir archivo en modo lectura\n",
    "\n",
    "archivo1=open(\"C:/Users/Eduardo CV/Desktop/borrar.txt\", \"r\") #apertura abosoluta\n",
    "print(archivo1)"
   ]
  },
  {
   "cell_type": "code",
   "execution_count": 48,
   "metadata": {},
   "outputs": [
    {
     "name": "stdout",
     "output_type": "stream",
     "text": [
      "Primera línea del archivo txt es:  primera lÃ­nea: el oso come poror\n",
      "\n",
      "Segunda linea del archivo txt es:  segunda linea sd asfdasdfads  q EW EW QEW QWR EW R EWQW WE WQE\n",
      "\n"
     ]
    }
   ],
   "source": [
    "#leer extraer 1ra línea de archivo txt\n",
    "\n",
    "linea=archivo1.readline() #crear variable que contenga la 1ra línea\n",
    "print(\"Primera línea del archivo txt es: \",linea)\n",
    "\n",
    "linea2=archivo1.readline() #automáticamente python lee la senguda línea\n",
    "print(\"Segunda linea del archivo txt es: \",linea2)"
   ]
  },
  {
   "cell_type": "code",
   "execution_count": 51,
   "metadata": {},
   "outputs": [
    {
     "ename": "AttributeError",
     "evalue": "'list' object has no attribute 'rstrip'",
     "output_type": "error",
     "traceback": [
      "\u001b[1;31m---------------------------------------------------------------------------\u001b[0m",
      "\u001b[1;31mAttributeError\u001b[0m                            Traceback (most recent call last)",
      "\u001b[1;32m<ipython-input-51-0fcf6fc52013>\u001b[0m in \u001b[0;36m<module>\u001b[1;34m\u001b[0m\n\u001b[0;32m      1\u001b[0m \u001b[1;31m# quitar los salnos de línea \"n\\\"\u001b[0m\u001b[1;33m\u001b[0m\u001b[1;33m\u001b[0m\u001b[1;33m\u001b[0m\u001b[0m\n\u001b[0;32m      2\u001b[0m \u001b[1;33m\u001b[0m\u001b[0m\n\u001b[1;32m----> 3\u001b[1;33m \u001b[0mlinea3\u001b[0m\u001b[1;33m=\u001b[0m\u001b[0marchivo1\u001b[0m\u001b[1;33m.\u001b[0m\u001b[0mreadlines\u001b[0m\u001b[1;33m(\u001b[0m\u001b[1;33m)\u001b[0m\u001b[1;33m.\u001b[0m\u001b[0mrstrip\u001b[0m\u001b[1;33m(\u001b[0m\u001b[1;34m\"\\n\"\u001b[0m\u001b[1;33m)\u001b[0m\u001b[1;33m\u001b[0m\u001b[1;33m\u001b[0m\u001b[0m\n\u001b[0m\u001b[0;32m      4\u001b[0m \u001b[0mprint\u001b[0m\u001b[1;33m(\u001b[0m\u001b[0mlinea3\u001b[0m\u001b[1;33m)\u001b[0m\u001b[1;33m\u001b[0m\u001b[1;33m\u001b[0m\u001b[0m\n\u001b[0;32m      5\u001b[0m \u001b[1;33m\u001b[0m\u001b[0m\n",
      "\u001b[1;31mAttributeError\u001b[0m: 'list' object has no attribute 'rstrip'"
     ]
    }
   ],
   "source": [
    "# quitar los salnos de línea \"n\\\"\n",
    "\n",
    "linea3=archivo1.readlines().rstrip(\"\\n\")\n",
    "print(linea3)\n",
    "    "
   ]
  },
  {
   "cell_type": "code",
   "execution_count": 56,
   "metadata": {},
   "outputs": [
    {
     "name": "stdout",
     "output_type": "stream",
     "text": [
      "ea: el o\n"
     ]
    }
   ],
   "source": [
    "linea4=archivo1.readline(8) #imprime el sexto caracter de la líndea de texto txt\n",
    "print(linea4)"
   ]
  },
  {
   "cell_type": "markdown",
   "metadata": {},
   "source": [
    "# Tuplas\n",
    "\n",
    "### es tipo de datos de colección, tiene posición (orden) y es inmutable;\n",
    "### se presenta con (), cada elemento separado por comas"
   ]
  },
  {
   "cell_type": "code",
   "execution_count": 24,
   "metadata": {},
   "outputs": [
    {
     "name": "stdout",
     "output_type": "stream",
     "text": [
      "(21, 'Septiembre', 1994) () (2, 'OsoBear', True)\n"
     ]
    }
   ],
   "source": [
    "tupla=(21,\"Septiembre\", 1994)\n",
    "tupla1=() #vacía\n",
    "tupla2=2,\"OsoBear\", True #tupla sin paréntesis\n",
    "\n",
    "print(tupla,tupla1,tupla2)"
   ]
  },
  {
   "cell_type": "code",
   "execution_count": 59,
   "metadata": {},
   "outputs": [
    {
     "name": "stdout",
     "output_type": "stream",
     "text": [
      "5 (5,)\n"
     ]
    }
   ],
   "source": [
    "no_tupla=(5) #es un entero\n",
    "si_tupla=(5,) #éste si es una tupla\n",
    "print(no_tupla, si_tupla)"
   ]
  },
  {
   "cell_type": "code",
   "execution_count": 61,
   "metadata": {},
   "outputs": [
    {
     "name": "stdout",
     "output_type": "stream",
     "text": [
      "Septiembre -- 1994 -- ('Septiembre', 1994)\n"
     ]
    }
   ],
   "source": [
    "elemento1=tupla[1] #elemento 1 de la tupla\n",
    "elemento2=tupla[-1] #elemento último\n",
    "elemento3=tupla[1:] #elemento 1 hatsa el final\n",
    "print(elemento1,\"--\",elemento2,\"--\",elemento3)"
   ]
  },
  {
   "cell_type": "code",
   "execution_count": 26,
   "metadata": {},
   "outputs": [
    {
     "name": "stdout",
     "output_type": "stream",
     "text": [
      "21 -- Septiembre -- 1994\n"
     ]
    }
   ],
   "source": [
    "#desemplaquetado en tuplas\n",
    "\n",
    "dia,mes, año=(21,\"Septiembre\", 1994)\n",
    "print(dia,\"--\",mes,\"--\",año)"
   ]
  },
  {
   "cell_type": "code",
   "execution_count": 70,
   "metadata": {},
   "outputs": [
    {
     "name": "stdout",
     "output_type": "stream",
     "text": [
      "Concatenación de tuplas AÑO y DIA:  2015\n",
      "Repetición de tuplas por 3:  (21, 'Septiembre', 1994, 21, 'Septiembre', 1994, 21, 'Septiembre', 1994)\n",
      "Pertenencia, <septiembre> está en tupla?:  True\n"
     ]
    }
   ],
   "source": [
    "# operadores\n",
    "\n",
    "x =año + dia\n",
    "print(\"Concatenación de tuplas AÑO y DIA: \",x)\n",
    "\n",
    "y=tupla*3\n",
    "print(\"Repetición de tuplas por 3: \",y)\n",
    "\n",
    "cond=\"Septiembre\" in tupla\n",
    "print(\"Pertenencia, <septiembre> está en tupla?: \", cond)"
   ]
  },
  {
   "cell_type": "code",
   "execution_count": 72,
   "metadata": {},
   "outputs": [
    {
     "data": {
      "text/plain": [
       "('S', 'e', 'p', 't', 'i', 'e', 'm', 'b', 'r', 'e')"
      ]
     },
     "execution_count": 72,
     "metadata": {},
     "output_type": "execute_result"
    }
   ],
   "source": [
    "# casting\n",
    "\n",
    "w=tuple(\"Septiembre\")\n",
    "w"
   ]
  },
  {
   "cell_type": "code",
   "execution_count": 75,
   "metadata": {},
   "outputs": [
    {
     "name": "stdout",
     "output_type": "stream",
     "text": [
      "Conversión de lista en tupla:  ('Eduardo', 'OsoBear', 22)\n",
      "Conversión de diccionario a tupla:  ('Math', 'Fis', 'Eco', 'ing')\n"
     ]
    }
   ],
   "source": [
    "# convertir lista en tupla\n",
    "tuplaz=tuple([\"Eduardo\", \"OsoBear\", 22])\n",
    "print(\"Conversión de lista en tupla: \", tuplaz)\n",
    "\n",
    "#convertir diccionario a tupla:\n",
    "\n",
    "tuplad=tuple({\"Math\":100, \"Fis\":95,\"Eco\":99,\"ing\":88})\n",
    "print(\"Conversión de diccionario a tupla: \", tuplad)"
   ]
  },
  {
   "cell_type": "markdown",
   "metadata": {},
   "source": [
    "# Diccionario\n",
    "\n",
    "### datos categorizados como colección, el cual permite guardar elementos (clave:valor)\n",
    "###"
   ]
  },
  {
   "cell_type": "code",
   "execution_count": 82,
   "metadata": {},
   "outputs": [
    {
     "name": "stdout",
     "output_type": "stream",
     "text": [
      "{} -.-.-. {} -.-.-. {'manzana': 50, 'pera': 2, 'Uva': 15}\n",
      "Cantidad de manzada es:  50\n"
     ]
    },
    {
     "ename": "NameError",
     "evalue": "name 'dicCantidada' is not defined",
     "output_type": "error",
     "traceback": [
      "\u001b[1;31m---------------------------------------------------------------------------\u001b[0m",
      "\u001b[1;31mNameError\u001b[0m                                 Traceback (most recent call last)",
      "\u001b[1;32m<ipython-input-82-6370e08e9d0f>\u001b[0m in \u001b[0;36m<module>\u001b[1;34m\u001b[0m\n\u001b[0;32m      9\u001b[0m \u001b[1;33m\u001b[0m\u001b[0m\n\u001b[0;32m     10\u001b[0m \u001b[1;31m#cantidad de sandia\u001b[0m\u001b[1;33m\u001b[0m\u001b[1;33m\u001b[0m\u001b[1;33m\u001b[0m\u001b[0m\n\u001b[1;32m---> 11\u001b[1;33m \u001b[0msandia\u001b[0m\u001b[1;33m=\u001b[0m\u001b[0mdicCantidada\u001b[0m\u001b[1;33m[\u001b[0m\u001b[1;34m\"sandia\"\u001b[0m\u001b[1;33m]\u001b[0m \u001b[1;31m#no hay clave \"sandía\" por ello no lo encuentra\u001b[0m\u001b[1;33m\u001b[0m\u001b[1;33m\u001b[0m\u001b[0m\n\u001b[0m\u001b[0;32m     12\u001b[0m \u001b[0mprint\u001b[0m\u001b[1;33m(\u001b[0m\u001b[1;34m\"Cantidad de Sandía es: \"\u001b[0m\u001b[1;33m,\u001b[0m \u001b[0msandia\u001b[0m\u001b[1;33m)\u001b[0m\u001b[1;33m\u001b[0m\u001b[1;33m\u001b[0m\u001b[0m\n",
      "\u001b[1;31mNameError\u001b[0m: name 'dicCantidada' is not defined"
     ]
    }
   ],
   "source": [
    "dic={}# diccionario vacío\n",
    "dic2=dict() #creaión de dccionario vacío\n",
    "dicCantidad={\"manzana\":50, \"pera\":2, \"Uva\":15}\n",
    "print(dic,\"-.-.-.\", dic2 ,\"-.-.-.\", dicCantidad)\n",
    "\n",
    "#cantidad de manzana\n",
    "manzana=dicCantidad[\"manzana\"] \n",
    "print(\"Cantidad de manzada es: \",manzana)\n",
    "\n",
    "#cantidad de sandia\n",
    "sandia=dicCantidada[\"sandia\"] #no hay clave \"sandía\" por ello no lo encuentra\n",
    "print(\"Cantidad de Sandía es: \", sandia)"
   ]
  },
  {
   "cell_type": "code",
   "execution_count": 85,
   "metadata": {},
   "outputs": [
    {
     "name": "stdout",
     "output_type": "stream",
     "text": [
      "50\n",
      "None\n"
     ]
    }
   ],
   "source": [
    "# GET (método 1)-->retorna valor solo si existe clave, sino retorna \"none\"\n",
    "dicCantidad={\"manzana\":50, \"pera\":2, \"Uva\":15}\n",
    "print(dicCantidad.get(\"manzana\")) #si retonra valor porque existe\n",
    "print(dicCantidad.get(\"sandia\")) # retorna none porque no existe\n"
   ]
  },
  {
   "cell_type": "code",
   "execution_count": 86,
   "metadata": {},
   "outputs": [
    {
     "name": "stdout",
     "output_type": "stream",
     "text": [
      "50\n",
      "No existe dicho producto\n"
     ]
    }
   ],
   "source": [
    "# GET (método 2)-->retorna valor si existe clave, sino retorna \"none\"\n",
    "print(dicCantidad.get(\"manzana\", \"No existe el producto\")) #si retonra valor porque existe\n",
    "print(dicCantidad.get(\"sandia\", \"No existe dicho producto\")) # retorna \"el mensaje deseado\" porque no existe"
   ]
  },
  {
   "cell_type": "code",
   "execution_count": 30,
   "metadata": {},
   "outputs": [
    {
     "name": "stdout",
     "output_type": "stream",
     "text": [
      "{'Ecuador': 'Quito', 'Colombia': 'Bogota'}\n",
      "Mostrar diccionario con valor agregado\n",
      " {'Ecuador': 'Quito', 'Colombia': 'Bogota', 'España': 'Madrid'}\n"
     ]
    }
   ],
   "source": [
    "# agregar eleentos\n",
    "\n",
    "#sintaxis: nomDic[clave]=valor    <-- sólo se agrega si la clave no existe\n",
    "\n",
    "paises={\"Ecuador\":\"Quito\",\"Colombia\":\"Bogota\"}\n",
    "print(paises)\n",
    "paises[\"España\"]=\"Madrid\"\n",
    "print(\"Mostrar diccionario con valor agregado:\\n\",paises)"
   ]
  },
  {
   "cell_type": "code",
   "execution_count": 91,
   "metadata": {},
   "outputs": [
    {
     "name": "stdout",
     "output_type": "stream",
     "text": [
      "Diccionario con agregado de Sandia {'manzana': 50, 'pera': 2, 'Uva': 15, 'Sandia': 21}\n"
     ]
    }
   ],
   "source": [
    "dicCantidad={\"manzana\":50, \"pera\":2, \"Uva\":15}\n",
    "dicCantidad[\"Sandia\"]=21\n",
    "print(\"Diccionario con agregado de Sandia\", dicCantidad)"
   ]
  },
  {
   "cell_type": "code",
   "execution_count": 35,
   "metadata": {},
   "outputs": [
    {
     "name": "stdout",
     "output_type": "stream",
     "text": [
      "{'manzana': 50, 'pera': 2, 'Uva': 15}\n",
      "Diccionario con modifiación de valor de Sandia\n",
      " {'manzana': 50, 'pera': 2, 'Uva': 15, 'Sandia': 100000000}\n"
     ]
    }
   ],
   "source": [
    "# modificado de valor\n",
    "dicCantidad={\"manzana\":50, \"pera\":2, \"Uva\":15}\n",
    "print(dicCantidad)\n",
    "dicCantidad[\"Sandia\"]=100000000\n",
    "print(\"Diccionario con modifiación de valor de Sandia\\n\", dicCantidad)"
   ]
  },
  {
   "cell_type": "code",
   "execution_count": 36,
   "metadata": {},
   "outputs": [
    {
     "name": "stdout",
     "output_type": "stream",
     "text": [
      "diccionario con sandia \n",
      " {'manzana': 50, 'pera': 2, 'Uva': 15, 'Sandia': 100000000}\n",
      "Diccionario con ELIMINACION de valor de Sandia\n",
      " {'manzana': 50, 'pera': 2, 'Uva': 15}\n"
     ]
    }
   ],
   "source": [
    "# elimianr elemenots de dccionario\n",
    "# del nomDic[clave]\n",
    "print(\"diccionario con sandia \\n\", dicCantidad)\n",
    "del dicCantidad[\"Sandia\"]\n",
    "print(\"Diccionario con ELIMINACION de valor de Sandia\\n\", dicCantidad)"
   ]
  },
  {
   "cell_type": "code",
   "execution_count": 100,
   "metadata": {},
   "outputs": [
    {
     "name": "stdout",
     "output_type": "stream",
     "text": [
      "las claves del dicCantidad son:  dict_keys(['manzana', 'pera', 'Uva'])\n",
      "['manzana', 'pera', 'Uva']\n"
     ]
    }
   ],
   "source": [
    "# función key\n",
    "\n",
    "# nomDic.keys() <--- retorna todas las claves del diccionario\n",
    "\n",
    "dicCantidad\n",
    "claves=dicCantidad.keys()\n",
    "print(\"las claves del dicCantidad son: \", claves)\n",
    "#convertir lo anterior en formato lista\n",
    "claves_lista=list(dicCantidad.keys())\n",
    "print(claves_lista)"
   ]
  },
  {
   "cell_type": "code",
   "execution_count": 37,
   "metadata": {},
   "outputs": [
    {
     "name": "stdout",
     "output_type": "stream",
     "text": [
      "{'manzana': 50, 'pera': 2, 'Uva': 15}\n",
      "los valores del dicCantidad son:  dict_values([50, 2, 15])\n"
     ]
    }
   ],
   "source": [
    "# obtener todos los valores de un diccionario\n",
    "# nomDic.values()\n",
    "\n",
    "print(dicCantidad)\n",
    "valores=dicCantidad.values()\n",
    "print(\"los valores del dicCantidad son: \", valores)"
   ]
  },
  {
   "cell_type": "code",
   "execution_count": 105,
   "metadata": {},
   "outputs": [
    {
     "name": "stdout",
     "output_type": "stream",
     "text": [
      "las claves y valores del ddiccionario icCantidad son:  dict_items([('manzana', 50), ('pera', 2), ('Uva', 15)])\n",
      "[('manzana', 50), ('pera', 2), ('Uva', 15)]\n"
     ]
    }
   ],
   "source": [
    "# obtener clave y valor:\n",
    "\n",
    "dicCantidad\n",
    "ambos=dicCantidad.items()\n",
    "print(\"las claves y valores del ddiccionario icCantidad son: \", ambos)\n",
    "parL=list(dicCantidad.items())\n",
    "print(parL)\n"
   ]
  },
  {
   "cell_type": "code",
   "execution_count": 107,
   "metadata": {},
   "outputs": [
    {
     "name": "stdout",
     "output_type": "stream",
     "text": [
      "False\n",
      "Sandía si está en diccionario\n"
     ]
    }
   ],
   "source": [
    "# operador in\n",
    "# TRUE si existe clave en diccionario\n",
    "dicCantidad\n",
    "\n",
    "boleano=\"sandia\" in dicCantidad\n",
    "print(boleano)\n",
    "\n",
    "if \"sandía\" in dicCantidad:\n",
    "    print(\"Sandía no está en diccionario\")\n",
    "else:\n",
    "    print(\"Sandía si está en diccionario\")"
   ]
  },
  {
   "cell_type": "code",
   "execution_count": 109,
   "metadata": {},
   "outputs": [
    {
     "name": "stdout",
     "output_type": "stream",
     "text": [
      "{'manzana': 50, 'pera': 2, 'Uva': 15}\n",
      "manzana\n",
      "pera\n",
      "Uva\n"
     ]
    }
   ],
   "source": [
    "# for de claves\n",
    "\n",
    "print(dicCantidad)\n",
    "for fruta in dicCantidad:\n",
    "    print(fruta)"
   ]
  },
  {
   "cell_type": "code",
   "execution_count": 110,
   "metadata": {},
   "outputs": [
    {
     "name": "stdout",
     "output_type": "stream",
     "text": [
      "{'manzana': 50, 'pera': 2, 'Uva': 15}\n",
      "manzana -- 50\n",
      "pera -- 2\n",
      "Uva -- 15\n"
     ]
    }
   ],
   "source": [
    "print(dicCantidad)\n",
    "for fruta in dicCantidad:\n",
    "    precio=dicCantidad[fruta]\n",
    "    print(fruta, \"--\",precio)"
   ]
  },
  {
   "cell_type": "code",
   "execution_count": 112,
   "metadata": {},
   "outputs": [
    {
     "name": "stdout",
     "output_type": "stream",
     "text": [
      "{'manzana': 50, 'pera': 2, 'Uva': 15}\n",
      "manzana\n",
      "pera\n",
      "Uva\n"
     ]
    }
   ],
   "source": [
    "# for de calves\n",
    "print(dicCantidad)\n",
    "for fruta in dicCantidad.keys():\n",
    "    print(fruta)"
   ]
  },
  {
   "cell_type": "code",
   "execution_count": 113,
   "metadata": {},
   "outputs": [
    {
     "name": "stdout",
     "output_type": "stream",
     "text": [
      "{'manzana': 50, 'pera': 2, 'Uva': 15}\n",
      "50\n",
      "2\n",
      "15\n"
     ]
    }
   ],
   "source": [
    "# for de valores\n",
    "print(dicCantidad)\n",
    "for precio in dicCantidad.values():\n",
    "    print(precio)"
   ]
  },
  {
   "cell_type": "code",
   "execution_count": 114,
   "metadata": {},
   "outputs": [
    {
     "name": "stdout",
     "output_type": "stream",
     "text": [
      "{'manzana': 50, 'pera': 2, 'Uva': 15}\n",
      "manzana : 50\n",
      "pera : 2\n",
      "Uva : 15\n"
     ]
    }
   ],
   "source": [
    "# for de calve y valor\n",
    "\n",
    "print(dicCantidad)\n",
    "for fruta, precio in dicCantidad.items():\n",
    "    print(fruta, \":\", precio)"
   ]
  },
  {
   "cell_type": "code",
   "execution_count": null,
   "metadata": {},
   "outputs": [],
   "source": []
  },
  {
   "cell_type": "code",
   "execution_count": null,
   "metadata": {},
   "outputs": [],
   "source": []
  },
  {
   "cell_type": "code",
   "execution_count": null,
   "metadata": {},
   "outputs": [],
   "source": []
  },
  {
   "cell_type": "code",
   "execution_count": null,
   "metadata": {},
   "outputs": [],
   "source": []
  }
 ],
 "metadata": {
  "kernelspec": {
   "display_name": "Python 3",
   "language": "python",
   "name": "python3"
  },
  "language_info": {
   "codemirror_mode": {
    "name": "ipython",
    "version": 3
   },
   "file_extension": ".py",
   "mimetype": "text/x-python",
   "name": "python",
   "nbconvert_exporter": "python",
   "pygments_lexer": "ipython3",
   "version": "3.8.5"
  }
 },
 "nbformat": 4,
 "nbformat_minor": 4
}
