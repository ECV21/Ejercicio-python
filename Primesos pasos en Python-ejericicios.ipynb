{
 "cells": [
  {
   "cell_type": "markdown",
   "metadata": {},
   "source": [
    "# Primeros ejercicios con python\n"
   ]
  },
  {
   "cell_type": "code",
   "execution_count": 1,
   "metadata": {},
   "outputs": [],
   "source": [
    "#uso de la función Input\n",
    "name1=str(input(\"Ingresa el nombre de tu mascota: \"))\n",
    "name2=str(input(\"Ingresa tu color favorito: \"))\n",
    "\n",
    "print(\"El nombre de tu cerveza sería: \")\n",
    "print(\"Cerveza ¨{}¨ \".format(name1+\" \"+name2))"
   ]
  },
  {
   "cell_type": "code",
   "execution_count": 20,
   "metadata": {},
   "outputs": [
    {
     "name": "stdout",
     "output_type": "stream",
     "text": [
      "Ejemplo de tipo de datos: \n",
      "String: Harvy \n",
      "Integer: 12 \n",
      "Float:12.5555 \n",
      "Bool: True\n"
     ]
    }
   ],
   "source": [
    "# tipo de datos:\n",
    "texto=\"Harvy\" # tipo de datos string, encerrado entrecomillas\n",
    "numero=12 # tipo de datos integer, número entero\n",
    "decimal=12.5555 #tipo de datos floating/float, números decimales\n",
    "Boleano= True # sólo tiene valor de True or False\n",
    "\n",
    "lista=[\"eduardo\", 12, 12.4, True] #puede tener cualquier dato\n",
    "diccionario={\"Harvy\": \"tiene 21 años\", \"Eduardo\": 12, 34:\"septiembre\"} #contine clave y valor\n",
    "tuplas=(\"eduardo\", \"harvy\", 23.4, True) # contina cualquier tipo de datos, inmutables\n",
    "sets={\"a\", \"b\", \"c\", \"d\", 3, True} #cotiene tipo de datos únicos\n",
    "print(\"Ejemplo de tipo de datos: \\nString: {} \\nInteger: {} \\nFloat:{} \\nBool: {}\".format(texto, numero, decimal, Boleano))"
   ]
  },
  {
   "cell_type": "code",
   "execution_count": 26,
   "metadata": {},
   "outputs": [
    {
     "name": "stdout",
     "output_type": "stream",
     "text": [
      "<class 'str'> \n",
      " <class 'int'> \n",
      " <class 'float'> \n",
      " <class 'bool'>\n"
     ]
    }
   ],
   "source": [
    "print(type(texto), \"\\n\",type(numero), \"\\n\", type(decimal), \"\\n\", type (Boleano))"
   ]
  },
  {
   "cell_type": "code",
   "execution_count": 29,
   "metadata": {},
   "outputs": [
    {
     "name": "stdout",
     "output_type": "stream",
     "text": [
      "40.5\n",
      "<class 'float'>\n"
     ]
    }
   ],
   "source": [
    "# conversión de tipo de datos, ello se conoce como \"casting\" hay implícito y explícito\n",
    "\n",
    "#conversión implícita:\n",
    "num1=20 #integer\n",
    "num2=20.5 # float\n",
    "\n",
    "num1=num1+num2\n",
    "print(num1) #40.5 <--- paython convirtió el int + float en un float\n",
    "print(type(num1))"
   ]
  },
  {
   "cell_type": "code",
   "execution_count": 34,
   "metadata": {},
   "outputs": [
    {
     "name": "stdout",
     "output_type": "stream",
     "text": [
      "<class 'float'>\n",
      "el dato era un float:  5.8 \n",
      "y se transformó en un dato integer:  5\n"
     ]
    }
   ],
   "source": [
    "# conversión explícita:\n",
    "\n",
    "x=5.8\n",
    "print(type(x)) #float\n",
    "\n",
    "x1=int(x)\n",
    "print(\"el dato era un float: \", x, \"\\ny se transformó en un dato integer: \", x1)"
   ]
  },
  {
   "cell_type": "code",
   "execution_count": 56,
   "metadata": {},
   "outputs": [
    {
     "name": "stdout",
     "output_type": "stream",
     "text": [
      "Mis números son:  10 y 5 y la suma es:  15 ; su color es:  Rojo\n",
      "Mis números son: 10 y 5 y la suma es: 15 ; su color es:  Rojo\n",
      "Mis números son: 10 y 5 y la suma es: 15; y su color es: \n",
      "Mis números son: 10 y 5 y la suma es: 15; y su color favorito es: Rojo\n"
     ]
    }
   ],
   "source": [
    "#formas de imprimir número, texto, bolean en una misma línea de manera práctica\n",
    "x=10\n",
    "y=5\n",
    "z=x+y\n",
    "color=\"Rojo\"\n",
    "matricula=456\n",
    "print(\"Mis números son: \",x, \"y\", y, \"y la suma es: \", z, \"; su color es: \", color)\n",
    "print(\"Mis números son: \" + str(x) + \" y \" + str(y) + \" y la suma es:\", z, \"; su color es: \", color)\n",
    "print(\"Mis números son: {} y {} y la suma es: {}; y su color es: \".format(x,y,x+y,color))\n",
    "print(f\"Mis números son: {x} y {y} y la suma es: {x+y}; y su color favorito es: {color}\")"
   ]
  },
  {
   "cell_type": "code",
   "execution_count": 69,
   "metadata": {},
   "outputs": [
    {
     "name": "stdout",
     "output_type": "stream",
     "text": [
      "La suma de 6 más 2 es igual a: 8\n",
      "La resta de 6 y 2 es igual a: 4\n",
      "La multiplicación de 6 por 2 es igual a: 12\n",
      "La división entera de 6 entre 2 es igual a: 3\n",
      "La división de 6 de 4 es igual a: 1.5\n",
      "El residuo de 6 al dividirlo por 4 es igual a: 2\n",
      "La potencia de 6 elevado a 2 es igual a: 36\n",
      "La raíz cuadrad de 6 es igual a: 2.449489742783178\n"
     ]
    }
   ],
   "source": [
    "# operadores matemáticas\n",
    "\n",
    "x=6\n",
    "y=2\n",
    "z=4\n",
    "print(f\"La suma de {x} más {y} es igual a: {x+y}\")\n",
    "print(f\"La resta de {x} y {y} es igual a: {x-y}\")\n",
    "print(f\"La multiplicación de {x} por {y} es igual a: {x*y}\")\n",
    "print(f\"La división entera de {x} entre {y} es igual a: {x//y}\")\n",
    "print(f\"La división de {x} de {z} es igual a: {x/z}\")\n",
    "print(f\"El residuo de {x} al dividirlo por {z} es igual a: {x%z}\")\n",
    "print(f\"La potencia de {x} elevado a {y} es igual a: {x**y}\")\n",
    "print(f\"La raíz cuadrad de {x} es igual a: {x**(1/2)}\")"
   ]
  },
  {
   "cell_type": "code",
   "execution_count": 84,
   "metadata": {},
   "outputs": [
    {
     "name": "stdout",
     "output_type": "stream",
     "text": [
      "12.857142857142858\n",
      "13\n",
      "12.8571\n",
      "La variable orgianal es 9.234567852343252 \n",
      "y al mostrar el valore redondeado a 4 dígitos: 9.2346\n",
      "<class 'float'> <class 'float'>\n"
     ]
    }
   ],
   "source": [
    "# redondeo\n",
    "print(90/7)\n",
    "print(round(90/7)) #redondeo al valor más cerano, a partide 0.5 hacía arriba, de lo contario hacia abajo\n",
    "print(round(90/7,4)) # redondeo con 4 dígitos\n",
    "valor=9.2345678523432523433333333333333823798247928374982374983279872398752938479823798327\n",
    "valor1=round(valor,4) # \n",
    "print(f\"La variable orgianal es {valor} \\ny al mostrar el valore redondeado a 4 dígitos: {valor1}\")\n",
    "print(type(valor1), type(valor1))"
   ]
  },
  {
   "cell_type": "code",
   "execution_count": 88,
   "metadata": {},
   "outputs": [
    {
     "name": "stdout",
     "output_type": "stream",
     "text": [
      "Engrese su nombre y apellido paterno: Eduardo CRuz\n",
      "Ingrese la cantidad vendida: 12349\n",
      "De acuedo a los datos ingresados, se obtuvo: Eduardo CRuz ganó una comisión de 1605.37\n"
     ]
    }
   ],
   "source": [
    "# prograamar algoritomo que pida:\n",
    "# nombre de vendedor, cantidad vendiad\n",
    "# mostrar nombre y comisión (13%) ganada por el vendendor, con dos cdecimales\n",
    "\n",
    "nombre=str(input(\"Engrese su nombre y apellido paterno: \"))\n",
    "ventas=int(input(\"Ingrese la cantidad vendida: \"))\n",
    "print(f\"De acuedo a los datos ingresados, se obtuvo: {nombre} ganó una comisión de {round((ventas*0.13),2)}\")"
   ]
  },
  {
   "cell_type": "code",
   "execution_count": 103,
   "metadata": {},
   "outputs": [
    {
     "name": "stdout",
     "output_type": "stream",
     "text": [
      "a b 0 8 10 10 17\n"
     ]
    }
   ],
   "source": [
    "# método index()\n",
    "\n",
    "mi_texto=\"Esta es una prueba\"\n",
    "r1=mi_texto[3]# e\n",
    "r2=mi_texto[-2] #b\n",
    "r3=mi_texto.index(\"E\") #posión/índice de la letra \"E\"\n",
    "r4=mi_texto.index(\"una\") #posicón donde comienza la palabra\n",
    "r5=mi_texto.index(\"a\",5) # buscar otra \"a\" a partir del índice 5\n",
    "r6=mi_texto.index(\"a\",5,11) # buscar otra \"a\" entre el índice 5 a 11\n",
    "r7=mi_texto.rindex(\"a\") #busca de derecha a izquierda\n",
    "print(r1,r2,r3,r4, r5,r6,r7)"
   ]
  },
  {
   "cell_type": "code",
   "execution_count": 114,
   "metadata": {},
   "outputs": [
    {
     "name": "stdout",
     "output_type": "stream",
     "text": [
      "GHIJKLM CDE ABCDE CEGI ADGJM MLKJIHGFEDCBA\n"
     ]
    }
   ],
   "source": [
    "# Slicing: extraer sub Strings:\n",
    "\n",
    "texto=\"ABCDEFGHIJKLM\"\n",
    "fragmento1=texto[6:] #desde el 6 hasta el final\n",
    "fragmento2=texto[2:5] #dede el 2 hasta antes del 5\n",
    "fragmento3=texto[:5] #dede el comeinzo hasta antes del 5\n",
    "fragmento4=texto[2:10:2] #dede el 2 hasta antes del 10 con saltos de 2 en 2\n",
    "fragmento4_1=texto[::3] #toda la cadena con saltos de 3 en e\n",
    "fragmento5=texto[::-1] #orden inverso\n",
    "\n",
    "print(fragmento1, fragmento2, fragmento3, fragmento4, fragmento4_1, fragmento5)"
   ]
  },
  {
   "cell_type": "code",
   "execution_count": 124,
   "metadata": {},
   "outputs": [
    {
     "name": "stdout",
     "output_type": "stream",
     "text": [
      "Mayúsculas: ESTE ES EL TEXTO DEL OSOBEAR \n",
      "Algunas mayúsculas: TE ES EL TEX \n",
      "Mínúsuclas: este es el texto del osobear \n",
      "Separador: ['Este', 'es', 'el', 'texto', 'del', 'OsoBear'] \n",
      "Separador por `t`: ['Es', 'e es el ', 'ex', 'o del OsoBear']\n"
     ]
    }
   ],
   "source": [
    "# upper and lower, split, \n",
    "\n",
    "texto=\"Este es el texto del OsoBear\"\n",
    "r=texto.upper() #mayúsculas del text\n",
    "r1=texto[2:14].upper() #algunas mayúsculas del text\n",
    "r2=texto.lower() #minúsculas\n",
    "r3=texto.split() #separa string en elementos de \"espacios\"-->lista\n",
    "r4=texto.split(\"t\") #separa string en elementos de \"t\" o lo que quieras-->lista\n",
    "\n",
    "\n",
    "print(f\"Mayúsculas: {r} \\nAlgunas mayúsculas: {r1} \\nMínúsuclas: {r2} \\nSeparador: {r3} \\nSeparador por `t`: {r4}\")"
   ]
  },
  {
   "cell_type": "code",
   "execution_count": 130,
   "metadata": {},
   "outputs": [
    {
     "name": "stdout",
     "output_type": "stream",
     "text": [
      "La frase unida por a,b,c y d son: \n",
      " Aprender Python es genial \n",
      " Aprender.-.Python.-.es.-.genial\n"
     ]
    }
   ],
   "source": [
    "# join\n",
    "\n",
    "\n",
    "a=\"Aprender\"\n",
    "b=\"Python\"\n",
    "c=\"es\"\n",
    "d=\"genial\"\n",
    "frase=\" \".join([a,b,c,d]) #unir varirables por espcios\n",
    "frase1=\".-.\".join([a,b,c,d]) #unir varirables por .-.\n",
    "\n",
    "print(\"La frase unida por a,b,c y d son: \\n\",frase, \"\\n\",frase1)"
   ]
  },
  {
   "cell_type": "code",
   "execution_count": 134,
   "metadata": {},
   "outputs": [
    {
     "name": "stdout",
     "output_type": "stream",
     "text": [
      "Usando la función <find> para la posición de e, se encontró en el índice 3\n"
     ]
    }
   ],
   "source": [
    "# find: busca un caracter de un string\n",
    "\n",
    "texto=\"Este es el texto de ECV\"\n",
    "r1=texto.find(\"e\") #bsca la posción de \"e\"\n",
    "print(f\"Usando la función <find> para la posición de e, se encontró en el índice {r1}\")"
   ]
  },
  {
   "cell_type": "code",
   "execution_count": 140,
   "metadata": {},
   "outputs": [
    {
     "name": "stdout",
     "output_type": "stream",
     "text": [
      "Este es el texto del OsoBear\n",
      "El remplazo de la palabra OsoBear por OsitoBear en el texto quedó así: Este es el texto del OsitoBear\n",
      "El remplazo de las e por las x quedó represntado en la fraase as: Estx xs xl txxto dxl OsoBxar\n"
     ]
    }
   ],
   "source": [
    "# replace\n",
    "print(texto)\n",
    "r2=texto.replace(\"OsoBear\", \"OsitoBear\")\n",
    "r3=texto.replace(\"e\", \"x\") # rempalzar las e por x\n",
    "print(f\"El remplazo de la palabra OsoBear por OsitoBear en el texto quedó así: {r2}\")\n",
    "print(\"El remplazo de las e por las x quedó represntado en la fraase as: {}\".format(r3))"
   ]
  },
  {
   "cell_type": "code",
   "execution_count": 143,
   "metadata": {},
   "outputs": [
    {
     "name": "stdout",
     "output_type": "stream",
     "text": [
      "Multiplicación de Kari:  KariKariKariKariKariKariKariKariKariKari\n"
     ]
    }
   ],
   "source": [
    "# multiplicación... de strings\n",
    "\n",
    "n1=\"Kari\"\n",
    "print(\"Multiplicación de Kari: \", n1*10)\n"
   ]
  },
  {
   "cell_type": "code",
   "execution_count": 148,
   "metadata": {},
   "outputs": [
    {
     "name": "stdout",
     "output_type": "stream",
     "text": [
      "oso noto oso bonito\n",
      "es el menor de lo mejor\n",
      "del munod mundial\n",
      "\n",
      "True\n",
      "\n",
      "True\n"
     ]
    }
   ],
   "source": [
    "poema= \"\"\"oso noto oso bonito\n",
    "es el menor de lo mejor\n",
    "del munod mundial\"\"\"\n",
    "print(poema)\n",
    "print()\n",
    "print(\"oso noto\" in poema) #True si existe en el string\n",
    "print()\n",
    "print(\"sol\" not in poema) # True si no está"
   ]
  },
  {
   "cell_type": "code",
   "execution_count": 173,
   "metadata": {},
   "outputs": [
    {
     "name": "stdout",
     "output_type": "stream",
     "text": [
      "['a', 'b', 'c'] \n",
      "El tipo de datos de mis lista es<class 'list'>\n",
      "3 a ['a', 'b'] \n",
      "Concatenación de listas: ['a', 'b', 'c', 'hola', 55, 6.1]\n",
      "\n",
      "La lista 1 más 2 en una lista única ['a', 'b', 'c', 'hola', 55, 6.1]\n"
     ]
    }
   ],
   "source": [
    "# lista\n",
    "\n",
    "my_list=[\"a\", \"b\", \"c\"]\n",
    "print(my_list, f\"\\nEl tipo de datos de mis lista es{type(my_list)}\")\n",
    "other_list=[\"hola\", 55, 6.1]\n",
    "r1=len(my_list) #cuenta núm de elementos de lista\n",
    "r2=my_list[0] #extra elemento de lista con índice 0\n",
    "r3=my_list[0:2] #extra elemento de lista de 0 a 2\n",
    "r4=my_list+other_list\n",
    "\n",
    "print(r1,r2,r3, \"\\nConcatenación de listas:\", my_list+other_list)\n",
    "print()\n",
    "print(f\"La lista 1 más 2 en una lista única {r4}\")"
   ]
  },
  {
   "cell_type": "code",
   "execution_count": 174,
   "metadata": {},
   "outputs": [
    {
     "name": "stdout",
     "output_type": "stream",
     "text": [
      "\n",
      "Lista con remplazo de elementos ['OsoBear', 'b', 'c', 'hola', 55, 6.1]\n"
     ]
    }
   ],
   "source": [
    "# modificar lista:\n",
    "\n",
    "r4[0]=\"OsoBear\"\n",
    "print()\n",
    "print(\"Lista con remplazo de elementos\", r4)"
   ]
  },
  {
   "cell_type": "code",
   "execution_count": 175,
   "metadata": {},
   "outputs": [
    {
     "name": "stdout",
     "output_type": "stream",
     "text": [
      "Lista con añidación de elemento:  ['OsoBear', 'b', 'c', 'hola', 55, 6.1, 'Harvy']\n"
     ]
    }
   ],
   "source": [
    "#añadir \n",
    "r4.append(\"Harvy\")\n",
    "print(\"Lista con añidación de elemento: \",r4)\n"
   ]
  },
  {
   "cell_type": "code",
   "execution_count": 176,
   "metadata": {},
   "outputs": [
    {
     "name": "stdout",
     "output_type": "stream",
     "text": [
      "['OsoBear', 'b', 'c', 55, 6.1] \n",
      " hola\n"
     ]
    }
   ],
   "source": [
    "r4.pop()#elimina último elemento o especificar el índice\n",
    "eliminado=r4.pop(3)\n",
    "print(r4, \"\\n\", eliminado)"
   ]
  },
  {
   "cell_type": "code",
   "execution_count": 178,
   "metadata": {},
   "outputs": [
    {
     "name": "stdout",
     "output_type": "stream",
     "text": [
      "['g', 'o', 'b', 'm', 'c']\n",
      "['b', 'c', 'g', 'm', 'o']\n",
      "['o', 'm', 'g', 'c', 'b']\n"
     ]
    }
   ],
   "source": [
    "# ordenación\n",
    "\n",
    "\n",
    "lista=[\"g\", \"o\", \"b\", \"m\", \"c\"]\n",
    "print(lista)\n",
    "lista.sort() # de manor a mayor\n",
    "print(lista)\n",
    "lista.reverse( # de mayor a menos)\n",
    "print(lista)"
   ]
  },
  {
   "cell_type": "code",
   "execution_count": 181,
   "metadata": {},
   "outputs": [
    {
     "name": "stdout",
     "output_type": "stream",
     "text": [
      "El diccionarios es {'c1': 'valor1', 'c2': 'valor2'} \n",
      "y es de tipo <class 'dict'>\n",
      "Consulta del diccionario, calve 1:  valor2\n"
     ]
    }
   ],
   "source": [
    "# diccionarios, tiene una clave:valor\n",
    "\n",
    "diccionario={\"c1\":\"valor1\", \"c2\":\"valor2\"}\n",
    "print(f\"El diccionarios es {diccionario} \\ny es de tipo {(type(diccionario))}\")\n",
    "\n",
    "r1=diccionario[\"c2\"]\n",
    "print(\"Consulta del diccionario, calve 1: \",r1)"
   ]
  },
  {
   "cell_type": "code",
   "execution_count": 183,
   "metadata": {},
   "outputs": [
    {
     "name": "stdout",
     "output_type": "stream",
     "text": [
      "Barltolome\n"
     ]
    }
   ],
   "source": [
    "cliente={\"nombre\":\"OsoBear\", \"Apellido\": \"Barltolome\", \"Peso\": 20, \"Talla\":1.20}\n",
    "\n",
    "consulta1=cliente[\"Apellido\"]\n",
    "print(consulta1)"
   ]
  },
  {
   "cell_type": "code",
   "execution_count": 192,
   "metadata": {},
   "outputs": [
    {
     "name": "stdout",
     "output_type": "stream",
     "text": [
      "{'c1': 55, 'c2': [10, 20, 30], 'c3': {'s1': 100, 's2': 200}}\n",
      "20\n",
      "\n",
      " 100\n"
     ]
    }
   ],
   "source": [
    "dic={\"c1\":55, \"c2\": [10,20,30], \"c3\":{\"s1\":100, \"s2\":200}}\n",
    "print(dic)\n",
    "\n",
    "consulta=dic[\"c2\"][1] # bucar en calve \"c2\" en índice 1\n",
    "print(consulta)\n",
    "\n",
    "consulta2=dic[\"c3\"][\"s1\"] #consulta en el diccionaro un diccionario\n",
    "print(\"\\n\",consulta2)"
   ]
  },
  {
   "cell_type": "code",
   "execution_count": 194,
   "metadata": {},
   "outputs": [
    {
     "name": "stdout",
     "output_type": "stream",
     "text": [
      "Antes:  {1: 'a', 2: 'b'}\n",
      "Después:  {1: 'a', 2: 'b', 3: 'c'}\n"
     ]
    }
   ],
   "source": [
    "# agregar elementos a diccionario\n",
    "\n",
    "dic1={1:\"a\", 2:\"b\"}\n",
    "print(\"Antes: \", dic1)\n",
    "dic1[3]=\"c\"\n",
    "print(\"Después: \",dic1)"
   ]
  },
  {
   "cell_type": "code",
   "execution_count": 196,
   "metadata": {},
   "outputs": [
    {
     "name": "stdout",
     "output_type": "stream",
     "text": [
      "{1: 'a', 2: 'B', 3: 'c'}\n"
     ]
    }
   ],
   "source": [
    "# sobreescribir un dicionaro:\n",
    "\n",
    "dic1[2]=\"B\"\n",
    "print(dic1)"
   ]
  },
  {
   "cell_type": "code",
   "execution_count": 200,
   "metadata": {},
   "outputs": [
    {
     "name": "stdout",
     "output_type": "stream",
     "text": [
      "dict_keys([1, 2, 3])\n",
      "dict_values(['a', 'B', 'c'])\n",
      "dict_items([(1, 'a'), (2, 'B'), (3, 'c')])\n"
     ]
    }
   ],
   "source": [
    "# conocer todas las claves:\n",
    "\n",
    "print(dic1.keys())# concer claves\n",
    "print(dic1.values()) #concoer valores\n",
    "print(dic1.items()) #conocer todos "
   ]
  },
  {
   "cell_type": "code",
   "execution_count": 6,
   "metadata": {},
   "outputs": [
    {
     "name": "stdout",
     "output_type": "stream",
     "text": [
      "Mi tupla:  (1, 2, 3, 4)\n",
      "(5, 5.6, 'ff', ('otra_tupla', 12, True))\n",
      "('otra_tupla', 12, True)\n",
      "True\n"
     ]
    }
   ],
   "source": [
    "# tuplas\n",
    "\n",
    "\n",
    "mi_tupla=(1,2,3,4)\n",
    "print(\"Mi tupla: \", mi_tupla)\n",
    "t=5,5.6,\"ff\",(\"otra_tupla\", 12, True)\n",
    "print(t)\n",
    "print(t[3])\n",
    "print(t[3][2])"
   ]
  },
  {
   "cell_type": "code",
   "execution_count": 4,
   "metadata": {},
   "outputs": [
    {
     "data": {
      "text/plain": [
       "1"
      ]
     },
     "execution_count": 4,
     "metadata": {},
     "output_type": "execute_result"
    }
   ],
   "source": [
    "mi_tupla[0] #posición cero"
   ]
  },
  {
   "cell_type": "code",
   "execution_count": 7,
   "metadata": {},
   "outputs": [
    {
     "name": "stdout",
     "output_type": "stream",
     "text": [
      "<class 'list'>\n"
     ]
    }
   ],
   "source": [
    "# casting: tupla-->lista\n",
    "\n",
    "mi_tupla=list(mi_tupla)\n",
    "print(type(mi_tupla))"
   ]
  },
  {
   "cell_type": "code",
   "execution_count": 9,
   "metadata": {},
   "outputs": [
    {
     "name": "stdout",
     "output_type": "stream",
     "text": [
      "<class 'tuple'>\n"
     ]
    }
   ],
   "source": [
    "# casting: lista-->tupla\n",
    "\n",
    "mi_tupla=tuple(mi_tupla)\n",
    "print(type(mi_tupla))"
   ]
  },
  {
   "cell_type": "code",
   "execution_count": 13,
   "metadata": {},
   "outputs": [
    {
     "name": "stdout",
     "output_type": "stream",
     "text": [
      "1 4\n"
     ]
    }
   ],
   "source": [
    "# desempalcar\n",
    "mi_tupla=(1,2,3,4)\n",
    "w,x,y,z=mi_tupla\n",
    "\n",
    "print(w,z)"
   ]
  },
  {
   "cell_type": "code",
   "execution_count": 17,
   "metadata": {},
   "outputs": [
    {
     "name": "stdout",
     "output_type": "stream",
     "text": [
      "2\n",
      "\n",
      "2\n"
     ]
    }
   ],
   "source": [
    "mi_tupla=(1,2,3,1)\n",
    "\n",
    "print(mi_tupla.count(1)) #cantidad de uno que contiene la tupla\n",
    "print()\n",
    "print(mi_tupla.index(3)) #posición del valor 3"
   ]
  },
  {
   "cell_type": "code",
   "execution_count": 23,
   "metadata": {},
   "outputs": [
    {
     "name": "stdout",
     "output_type": "stream",
     "text": [
      "{1, 2, 3, 4, 5} \n",
      "El tipo de datos es:  <class 'set'>\n",
      "\n",
      "{1, 2, 3} \n",
      "El tipo de datos es:  <class 'set'>\n"
     ]
    }
   ],
   "source": [
    "# sets\n",
    "\n",
    "\n",
    "mi_set=set([1,2,3,4,5])\n",
    "print(mi_set, \"\\nEl tipo de datos es: \",type(mi_set))\n",
    "print()\n",
    "otro_set={1,2,3}\n",
    "print(otro_set, \"\\nEl tipo de datos es: \",type(otro_set))"
   ]
  },
  {
   "cell_type": "code",
   "execution_count": 30,
   "metadata": {},
   "outputs": [
    {
     "name": "stdout",
     "output_type": "stream",
     "text": [
      "{1, 2, 3, 4, 5, (1, 2, 3)}\n",
      "<class 'set'>\n",
      "6\n",
      "True\n"
     ]
    }
   ],
   "source": [
    "# no se repiten elementos en ser, no tiene índice, son inmutables, no puede contener listas ni dicionarios, si tuplas\n",
    "\n",
    "\n",
    "mi_set=set([1,2,3,4,5,1,1,1,1,1,2,2,2,2,2,2,2,(1,2,3,)]) #solo aparecerán datos inrrepetibles\n",
    "print(mi_set)\n",
    "print(type(mi_set))\n",
    "print(len(mi_set)) # cuenta sólo elemenots irrepetibles\n",
    "print(2 in mi_set) #consutat si un datos está en el set"
   ]
  },
  {
   "cell_type": "code",
   "execution_count": 31,
   "metadata": {},
   "outputs": [
    {
     "name": "stdout",
     "output_type": "stream",
     "text": [
      "La unión de s1 más s2 resultó en:  {1, 2, 3, 4, 5}\n"
     ]
    }
   ],
   "source": [
    "# unión de sets\n",
    "\n",
    "s1={1,2,3}\n",
    "s2={3,4,5}\n",
    "s3=s1.union(s2)\n",
    "print(\"La unión de s1 más s2 resultó en: \", s3)"
   ]
  },
  {
   "cell_type": "code",
   "execution_count": 34,
   "metadata": {},
   "outputs": [
    {
     "name": "stdout",
     "output_type": "stream",
     "text": [
      "{1, 2, 3, 4}\n",
      "{1, 2, 3, 4}\n",
      "{1, 2, 4}\n"
     ]
    }
   ],
   "source": [
    "# agregar elemento\n",
    "print(s1)\n",
    "s1.add(4)\n",
    "print(s1)\n",
    "\n",
    "#eliminar elemento\n",
    "s1.remove(3)\n",
    "#s1.discard(3)\n",
    "print(s1)"
   ]
  },
  {
   "cell_type": "code",
   "execution_count": 35,
   "metadata": {},
   "outputs": [
    {
     "name": "stdout",
     "output_type": "stream",
     "text": [
      "{2, 4}\n"
     ]
    }
   ],
   "source": [
    "# eliminación de elemento aleatorio\n",
    "\n",
    "s1.pop()\n",
    "print(s1)"
   ]
  },
  {
   "cell_type": "code",
   "execution_count": 36,
   "metadata": {},
   "outputs": [
    {
     "name": "stdout",
     "output_type": "stream",
     "text": [
      "set()\n"
     ]
    }
   ],
   "source": [
    "#elimina todo\n",
    "s1.clear()\n",
    "print(s1)"
   ]
  },
  {
   "cell_type": "code",
   "execution_count": 38,
   "metadata": {},
   "outputs": [
    {
     "name": "stdout",
     "output_type": "stream",
     "text": [
      "Tipo de dato de variable 1:  <class 'bool'> \n",
      "Tipo de variable 2 <class 'bool'>\n"
     ]
    }
   ],
   "source": [
    "# boolen\n",
    "\n",
    "var1=True\n",
    "var2=False\n",
    "print(\"Tipo de dato de variable 1: \", type(var1), \n",
    "      \"\\nTipo de variable 2\", type(var2))"
   ]
  },
  {
   "cell_type": "code",
   "execution_count": 39,
   "metadata": {},
   "outputs": [
    {
     "name": "stdout",
     "output_type": "stream",
     "text": [
      "<class 'bool'>\n",
      "False\n"
     ]
    }
   ],
   "source": [
    "numero=5>(2+3)\n",
    "print(type(numero))\n",
    "print(numero)"
   ]
  },
  {
   "cell_type": "code",
   "execution_count": 42,
   "metadata": {},
   "outputs": [
    {
     "name": "stdout",
     "output_type": "stream",
     "text": [
      "False\n"
     ]
    }
   ],
   "source": [
    "numero2=bool(3>12)\n",
    "print(numero2)"
   ]
  },
  {
   "cell_type": "code",
   "execution_count": 43,
   "metadata": {},
   "outputs": [],
   "source": [
    "# programa: Analizador de text\n",
    "\n",
    "#tener text\n",
    "#usuario ingrese 3 letras, donde: devolver al usuario cuántas veces aparce\n",
    "# cada letra; cuántas palabras hay en todo el texto; primer y ultima parlabra del texto\n",
    "# mostrar texto si se invirten las palabras\n",
    "#aparce python en el texto"
   ]
  },
  {
   "cell_type": "code",
   "execution_count": 94,
   "metadata": {},
   "outputs": [
    {
     "data": {
      "text/plain": [
       "'EL DESARROLLO ECONÓMICO Y SOCIAL DEL PAÍS ESTÁN ESTRECHAMENTE VINCULADOS CON LA ACTUACIÓN DEL \\n       ESTADO EN LA DISTRIBUCIÓN DE LOS RECURSOS PARA LA APLICACIÓN DE POLÍTICAS PÚBLICAS QUE \\n       GENEREN UN BENEFICIO REAL A LA SOCIEDAD. POR ELLO, RESULTA FUNDAMENTAL QUE SE IDENTIFIQUEN LAS \\n       POTENCIALIDADES EN LA ADMINISTRACIÓN DE LOS RECURSOS PÚBLICOS PARA MEJORAR LA CALIDAD DE VIDA\\n       DE LA POBLACIÓN POR MEDIO DE LA INTERVENCIÓN DEL GOBIERNO EN ÁMBITOS COMO EL ECONÓMICO. EN \\n       ESTE SENTIDO, LA PLANEACIÓN ESTRATÉGICA SE CONVIERTE EN UNA HERRAMIENTA ESENCIAL PARA \\n       OPTIMIZAR LAS ACCIONES PROGRAMADAS Y POTENCIARLAS PARA GENERAR VALOR PÚBLICO.'"
      ]
     },
     "execution_count": 94,
     "metadata": {},
     "output_type": "execute_result"
    }
   ],
   "source": [
    "texto=\"\"\"El desarrollo económico y social del país están estrechamente vinculados con la actuación del \n",
    "       Estado en la distribución de los recursos para la aplicación de políticas públicas que \n",
    "       generen un beneficio real a la sociedad. Por ello, resulta fundamental que se identifiquen las \n",
    "       potencialidades en la administración de los recursos públicos para mejorar la calidad de vida\n",
    "       de la población por medio de la intervención del gobierno en ámbitos como el económico. En \n",
    "       este sentido, la planeación estratégica se convierte en una herramienta esencial para \n",
    "       optimizar las acciones programadas y potenciarlas para generar valor público.\"\"\"\n",
    "texto=texto.upper() #homologar palabras a mayúsculas\n",
    "texto"
   ]
  },
  {
   "cell_type": "code",
   "execution_count": 105,
   "metadata": {},
   "outputs": [
    {
     "name": "stdout",
     "output_type": "stream",
     "text": [
      "Ingrese la primera: r\n",
      "Ingrese la segunda: p\n",
      "Ingrese la tercera: n\n",
      "La cantidad de la letra R: 33 \n",
      "La cantidad de la letra P: 18 \n",
      "La cantida la letra N: 40\n",
      "El número de palabras en dicho texto es:  95\n",
      "La primera palabra del texto es:  EL\n",
      "La última palabra del texto es:  PÚBLICO.\n",
      "¿Aparece la palabra <python> en el texto?  False\n",
      "\n",
      "EL texto al revés se verás así: \n",
      " PÚBLICO. VALOR GENERAR PARA POTENCIARLAS Y PROGRAMADAS ACCIONES LAS OPTIMIZAR PARA ESENCIAL HERRAMIENTA UNA EN CONVIERTE SE ESTRATÉGICA PLANEACIÓN LA SENTIDO, ESTE EN ECONÓMICO. EL COMO ÁMBITOS EN GOBIERNO DEL INTERVENCIÓN LA DE MEDIO POR POBLACIÓN LA DE VIDA DE CALIDAD LA MEJORAR PARA PÚBLICOS RECURSOS LOS DE ADMINISTRACIÓN LA EN POTENCIALIDADES LAS IDENTIFIQUEN SE QUE FUNDAMENTAL RESULTA ELLO, POR SOCIEDAD. LA A REAL BENEFICIO UN GENEREN QUE PÚBLICAS POLÍTICAS DE APLICACIÓN LA PARA RECURSOS LOS DE DISTRIBUCIÓN LA EN ESTADO DEL ACTUACIÓN LA CON VINCULADOS ESTRECHAMENTE ESTÁN PAÍS DEL SOCIAL Y ECONÓMICO DESARROLLO EL\n"
     ]
    }
   ],
   "source": [
    "l1=str(input(\"Ingrese la primera: \")).upper() #homologar a mayúsculas\n",
    "l2=str(input(\"Ingrese la segunda: \")).upper()#homologar a mayúsculas\n",
    "l3=str(input(\"Ingrese la tercera: \")).upper()#homologar a mayúsculas\n",
    "\n",
    "contador_l1=texto.count(l1) #cuenta la primers letra en el texto\n",
    "contador_l2=texto.count(l2) #vuenta la 2da letra en el texto\n",
    "contador_l3=texto.count(l3) #cuneta la 3ra letra en el texto\n",
    "\n",
    "print(f\"La cantidad de la letra {l1}: {contador_l1} \\nLa cantidad de la letra {l2}: {contador_l2} \\nLa cantida la letra {l3}: {contador_l3}\") \n",
    "\n",
    "texto1=texto.split() #separar palabras por espcios\n",
    "#print(texto1)\n",
    "l_texto1=list(texto1) #convertir en \"lista\" el texto separdo por espacios\n",
    "#print(l_texto1)\n",
    "print(\"El número de palabras en dicho texto es: \",len(l_texto1)) #contar con función len el num de elementos de \"lista\"\n",
    "\n",
    "primera_palabra=l_texto1[0] #extraer elemento primero\n",
    "print(\"La primera palabra del texto es: \",primera_palabra)\n",
    "ultima_palabra=l_texto1[-1] #extraer ultimo elemento\n",
    "print(\"La última palabra del texto es: \", ultima_palabra)\n",
    "\n",
    "cond=\"python\".upper() in texto\n",
    "print(\"¿Aparece la palabra <python> en el texto? \", cond)\n",
    "\n",
    "#print(\"¿Aparace la palabra Python en el texto?\" in texto) #está python en el texto/lista\n",
    "print()\n",
    "\n",
    "l_texto1.reverse()\n",
    "texto_invertido=\" \".join(l_texto1)\n",
    "print(\"EL texto al revés se verás así: \\n\",texto_invertido)"
   ]
  },
  {
   "cell_type": "code",
   "execution_count": 104,
   "metadata": {},
   "outputs": [
    {
     "data": {
      "text/plain": [
       "'PÚBLICO. VALOR GENERAR PARA POTENCIARLAS Y PROGRAMADAS ACCIONES LAS OPTIMIZAR PARA ESENCIAL HERRAMIENTA UNA EN CONVIERTE SE ESTRATÉGICA PLANEACIÓN LA SENTIDO, ESTE EN ECONÓMICO. EL COMO ÁMBITOS EN GOBIERNO DEL INTERVENCIÓN LA DE MEDIO POR POBLACIÓN LA DE VIDA DE CALIDAD LA MEJORAR PARA PÚBLICOS RECURSOS LOS DE ADMINISTRACIÓN LA EN POTENCIALIDADES LAS IDENTIFIQUEN SE QUE FUNDAMENTAL RESULTA ELLO, POR SOCIEDAD. LA A REAL BENEFICIO UN GENEREN QUE PÚBLICAS POLÍTICAS DE APLICACIÓN LA PARA RECURSOS LOS DE DISTRIBUCIÓN LA EN ESTADO DEL ACTUACIÓN LA CON VINCULADOS ESTRECHAMENTE ESTÁN PAÍS DEL SOCIAL Y ECONÓMICO DESARROLLO EL'"
      ]
     },
     "execution_count": 104,
     "metadata": {},
     "output_type": "execute_result"
    }
   ],
   "source": [
    "l_texto1.reverse()\n",
    "texto_invertido=\" \".join(l_texto1)\n",
    "texto_invertido"
   ]
  },
  {
   "cell_type": "code",
   "execution_count": null,
   "metadata": {},
   "outputs": [],
   "source": []
  },
  {
   "cell_type": "code",
   "execution_count": null,
   "metadata": {},
   "outputs": [],
   "source": []
  }
 ],
 "metadata": {
  "kernelspec": {
   "display_name": "Python 3",
   "language": "python",
   "name": "python3"
  },
  "language_info": {
   "codemirror_mode": {
    "name": "ipython",
    "version": 3
   },
   "file_extension": ".py",
   "mimetype": "text/x-python",
   "name": "python",
   "nbconvert_exporter": "python",
   "pygments_lexer": "ipython3",
   "version": "3.11.3"
  }
 },
 "nbformat": 4,
 "nbformat_minor": 4
}
